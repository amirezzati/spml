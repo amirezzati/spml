{
  "nbformat": 4,
  "nbformat_minor": 0,
  "metadata": {
    "colab": {
      "provenance": [],
      "toc_visible": true,
      "gpuType": "T4"
    },
    "kernelspec": {
      "name": "python3",
      "display_name": "Python 3"
    },
    "language_info": {
      "name": "python"
    },
    "accelerator": "GPU"
  },
  "cells": [
    {
      "cell_type": "markdown",
      "source": [
        "# SPML HW3: Breaking Defenses & Black-Box Attacks"
      ],
      "metadata": {
        "id": "TwUAmmTcl3G-"
      }
    },
    {
      "cell_type": "code",
      "execution_count": null,
      "metadata": {
        "id": "gThurMADlvnK"
      },
      "outputs": [],
      "source": [
        "name = ''\n",
        "std_id = ''"
      ]
    },
    {
      "cell_type": "code",
      "source": [
        "import torch\n",
        "from torch import nn\n",
        "from torch.optim import Adam\n",
        "import torch.nn.functional as F\n",
        "from torch.nn import CrossEntropyLoss\n",
        "from torch.utils.data import DataLoader\n",
        "\n",
        "from torchvision import transforms\n",
        "from torchvision.models import resnet18, mobilenet_v2\n",
        "from torchvision.datasets.cifar import CIFAR10\n",
        "\n",
        "from tqdm import trange, tqdm\n",
        "\n",
        "torch.manual_seed(0)\n",
        "\n",
        "device = 'cuda' if torch.cuda.is_available() else 'cpu'\n",
        "device"
      ],
      "metadata": {
        "id": "wnLuXjkDmJWk"
      },
      "execution_count": null,
      "outputs": []
    },
    {
      "cell_type": "markdown",
      "source": [
        "# CIFAR10 Dataset (5 points)"
      ],
      "metadata": {
        "id": "6YkpcqvmTcq6"
      }
    },
    {
      "cell_type": "code",
      "source": [
        "norm_mean = (0.4914, 0.4822, 0.4465)\n",
        "norm_std = (0.2023, 0.1994, 0.2010)\n",
        "batch_size = 128\n",
        "\n",
        "mu = torch.tensor(norm_mean).view(3,1,1).to(device)\n",
        "std = torch.tensor(norm_std).view(3,1,1).to(device)\n",
        "\n",
        "# TODO: Set the upper limit and lower limit possible for images\n",
        "upper_limit = ...\n",
        "lower_limit = ...\n",
        "\n",
        "transform_train = transforms.Compose([\n",
        "])\n",
        "\n",
        "transform_test = transforms.Compose([\n",
        "])\n",
        "\n",
        "trainset = CIFAR10(root='./data', train=True, download=True, transform=transform_train)\n",
        "trainloader = DataLoader(trainset, batch_size=batch_size, shuffle=True, num_workers=2)\n",
        "\n",
        "testset = CIFAR10(root='./data', train=False, download=True, transform=transform_test)\n",
        "testloader = DataLoader(testset, batch_size=batch_size, shuffle=False, num_workers=2)\n",
        "\n",
        "\n",
        "classes = ('plane', 'car', 'bird', 'cat', 'deer',\n",
        "           'dog', 'frog', 'horse', 'ship', 'truck')\n"
      ],
      "metadata": {
        "id": "iSIlVGXMoQA6"
      },
      "execution_count": null,
      "outputs": []
    },
    {
      "cell_type": "markdown",
      "source": [
        "# Defensive Distillation (25 points)"
      ],
      "metadata": {
        "id": "4_3oDmJlmTD-"
      }
    },
    {
      "cell_type": "markdown",
      "source": [
        "[Defensive distillation](https://arxiv.org/abs/1511.04508) proceeds in four steps:\n",
        "\n",
        "1.   **Train the teacher network**, by setting the temperature of the softmax to T during the\n",
        "training phase.\n",
        "2.   **Compute soft labels** by apply the teacher network to each instance in the training set, again evaluating the softmax at temperature T.\n",
        "3.  **Train the distilled network** (a network with the same shape as the teacher network) on the soft labels, using softmax at temperature T.\n",
        "4.  Finally, when running the distilled network at test time to classify new inputs, use temperature 1.\n",
        "\n"
      ],
      "metadata": {
        "id": "6cJsiRusm54S"
      }
    },
    {
      "cell_type": "markdown",
      "source": [
        "## Train the teacher"
      ],
      "metadata": {
        "id": "ppg_6w0joa-D"
      }
    },
    {
      "cell_type": "code",
      "source": [
        "def train_step(model, dataloader, loss_fn, optimizer, temperature):\n",
        "    # TODO: Return loss and accuracy for each epoch\n",
        "    pass\n",
        "\n",
        "\n",
        "def train_teacher(model, n_epochs, loader=trainloader, temp=100):\n",
        "    # TODO: Log the accuracy and loss for each epoch\n",
        "    pass"
      ],
      "metadata": {
        "id": "rZj3ygtFocYN"
      },
      "execution_count": 3,
      "outputs": []
    },
    {
      "cell_type": "markdown",
      "source": [
        "You can use a pre-trained resnet to speed up the training process."
      ],
      "metadata": {
        "id": "evuzvOUZ4bPT"
      }
    },
    {
      "cell_type": "code",
      "source": [
        "teacher = ...\n",
        "\n",
        "train_teacher(teacher, 15)"
      ],
      "metadata": {
        "id": "O_oKlYe7m4w-"
      },
      "execution_count": null,
      "outputs": []
    },
    {
      "cell_type": "markdown",
      "source": [
        "## Test the teacher"
      ],
      "metadata": {
        "id": "9EFhPyAmzmeB"
      }
    },
    {
      "cell_type": "code",
      "source": [
        "def test_clean(model, dataloader=testloader):\n",
        "    # TODO: Return the clean accuracy of the model\n",
        "    pass"
      ],
      "metadata": {
        "id": "iIVtvL32zopl"
      },
      "execution_count": 6,
      "outputs": []
    },
    {
      "cell_type": "markdown",
      "source": [
        "Print the clean accuracy of the teacher."
      ],
      "metadata": {
        "id": "qs9LVS7uN-Fp"
      }
    },
    {
      "cell_type": "code",
      "source": [
        "print(f'Teacher Accuracy {test_clean(teacher):.2f}%')"
      ],
      "metadata": {
        "id": "SFEzA16Cz63A"
      },
      "execution_count": null,
      "outputs": []
    },
    {
      "cell_type": "markdown",
      "source": [
        "## Train the student"
      ],
      "metadata": {
        "id": "68Fnkb39vYnl"
      }
    },
    {
      "cell_type": "code",
      "source": [
        "def distill(model, teacher, dataloader, optimizer, T):\n",
        "    # TODO: Get soft labels from teacher model\n",
        "    # TODO: Get student model outputs\n",
        "    # TODO: Compute the distillation loss\n",
        "    # TODO: Return the accuracy (on real labels) and loss (on soft labels)\n",
        "    pass\n",
        "\n",
        "\n",
        "def train_student(model, teacher, n_epochs, loader=trainloader, temp=100):\n",
        "    # TODO: Log the accuracy and loss for each epoch\n",
        "    pass"
      ],
      "metadata": {
        "id": "nfu9ZVWFvaL5"
      },
      "execution_count": 26,
      "outputs": []
    },
    {
      "cell_type": "markdown",
      "source": [
        "This time use a `resnet18` without the pretrained weights."
      ],
      "metadata": {
        "id": "80y5gpfCIJjW"
      }
    },
    {
      "cell_type": "code",
      "source": [
        "student = ...\n",
        "\n",
        "train_student(student, teacher, 15)"
      ],
      "metadata": {
        "id": "zhSefyQRwcFK"
      },
      "execution_count": null,
      "outputs": []
    },
    {
      "cell_type": "markdown",
      "source": [
        "## Test the student"
      ],
      "metadata": {
        "id": "snQvAMfH4ku1"
      }
    },
    {
      "cell_type": "code",
      "source": [
        "print(f'Student Accuracy {test_clean(student):.2f}%')"
      ],
      "metadata": {
        "id": "D_phh7vc4pA0"
      },
      "execution_count": null,
      "outputs": []
    },
    {
      "cell_type": "markdown",
      "source": [
        "# Attack (15 points)"
      ],
      "metadata": {
        "id": "mdUmJKwtw-Gj"
      }
    },
    {
      "cell_type": "markdown",
      "source": [
        "Implement the FGSM attack and the `test_attack` funcion to report the robust accuracy for different values of epsilon."
      ],
      "metadata": {
        "id": "d_-PnbtU3Zo1"
      }
    },
    {
      "cell_type": "code",
      "source": [
        "def attack_fgsm(model, x, y, epsilon):\n",
        "    # TODO: Return perturbed input\n",
        "    pass\n",
        "\n",
        "\n",
        "def attack_pgd(model, x, y, epsilon, alpha=0.2, num_iters=10):\n",
        "    # TODO: Return perturbed input\n",
        "    pass\n",
        "\n",
        "\n",
        "def test_attack(model, epsilon, atttack=attack_fgsm, loader=testloader):\n",
        "    # TODO: Return the robust accuracy for FGSM or PGD\n",
        "    pass"
      ],
      "metadata": {
        "id": "axKc8-GExDh1"
      },
      "execution_count": 37,
      "outputs": []
    },
    {
      "cell_type": "markdown",
      "source": [
        "Report the robust accuracy of the teacher for `ϵ = [1, 2, 4, 8, 16]`."
      ],
      "metadata": {
        "id": "OqUrHA1D1Oqk"
      }
    },
    {
      "cell_type": "code",
      "source": [
        "epsilons = [1, 2, 4, 8, 16]\n",
        "\n",
        "for eps in epsilons:\n",
        "    # TODO:\n",
        "    print(f'FGSM with ϵ={eps}/255 has Accuracy: {acc:.2f}%')\n",
        "    print(f'PGD  with ϵ={eps}/255 has Accuracy: {acc:.2f}%')"
      ],
      "metadata": {
        "id": "1HMqzS21002f"
      },
      "execution_count": null,
      "outputs": []
    },
    {
      "cell_type": "markdown",
      "source": [
        "Do the same for the student:"
      ],
      "metadata": {
        "id": "qd0E5Lrf3wyU"
      }
    },
    {
      "cell_type": "code",
      "source": [
        "for eps in epsilons:\n",
        "    # TODO:\n",
        "    print(f'FGSM with ϵ={eps}/255 has Accuracy: {acc:.2f}%')\n",
        "    print(f'PGD  with ϵ={eps}/255 has Accuracy: {acc:.2f}%')"
      ],
      "metadata": {
        "id": "Bn0oMzvk3wZR"
      },
      "execution_count": null,
      "outputs": []
    },
    {
      "cell_type": "markdown",
      "source": [
        "What do you see?\n",
        "\n",
        "`your response:`"
      ],
      "metadata": {
        "id": "GgHqlsaa33j1"
      }
    },
    {
      "cell_type": "markdown",
      "source": [
        "# Transferring Adversarial Examples (15 points)"
      ],
      "metadata": {
        "id": "zFbxKpeM4AR9"
      }
    },
    {
      "cell_type": "markdown",
      "source": [
        "Train yet another model to be used as the surrogate. (set temperature to 1)"
      ],
      "metadata": {
        "id": "T3Vu8xSsLeqN"
      }
    },
    {
      "cell_type": "code",
      "source": [
        "model = ..."
      ],
      "metadata": {
        "id": "8qBouBbUKHoI"
      },
      "execution_count": null,
      "outputs": []
    },
    {
      "cell_type": "markdown",
      "source": [
        "Print the surrogate accuracy."
      ],
      "metadata": {
        "id": "3WBJtNiyL8WP"
      }
    },
    {
      "cell_type": "code",
      "source": [],
      "metadata": {
        "id": "Jdgr2I-VMCi3"
      },
      "execution_count": null,
      "outputs": []
    },
    {
      "cell_type": "markdown",
      "source": [
        "Report the accuracy of the surrogate for `ϵ = [1, 2, 4, 8, 16]`."
      ],
      "metadata": {
        "id": "YcMBV3o6MC47"
      }
    },
    {
      "cell_type": "code",
      "source": [],
      "metadata": {
        "id": "EALFUBHpMLdA"
      },
      "execution_count": null,
      "outputs": []
    },
    {
      "cell_type": "markdown",
      "source": [
        "Implement the following functions to transfer attacks from a surrogate model to an oracle."
      ],
      "metadata": {
        "id": "buQG6pvgLsAc"
      }
    },
    {
      "cell_type": "code",
      "source": [
        "def transfer_attack(oracle, model, eps, loader=testloader):\n",
        "    # TODO: Attack the model and report the accuracy of the oracle\n",
        "    pass"
      ],
      "metadata": {
        "id": "Wu2vy0kY5Rmi"
      },
      "execution_count": 47,
      "outputs": []
    },
    {
      "cell_type": "markdown",
      "source": [
        "Transfer attacks for `ϵ = [1, 2, 4, 8, 16]` from your model to the student."
      ],
      "metadata": {
        "id": "qO24bT2p6oyl"
      }
    },
    {
      "cell_type": "code",
      "source": [
        "for eps in epsilons:\n",
        "    acc = transfer_attack(student, model, eps/255)\n",
        "    print(f'FGSM with ϵ={eps}/255 has Accuracy: {acc:.2f}%')"
      ],
      "metadata": {
        "id": "Qfcu7QgD6vtW"
      },
      "execution_count": null,
      "outputs": []
    },
    {
      "cell_type": "markdown",
      "source": [
        "- What can be inferred from these results?\n",
        "- How are the accuracies of the student and the surrogate under attack related?\n",
        "- Does Defensive Distillation obfuscate the gradients? Why?\n",
        "\n",
        "`your response:`"
      ],
      "metadata": {
        "id": "RtGOcOmzPO3G"
      }
    },
    {
      "cell_type": "markdown",
      "source": [
        "# ZOO Based Black-Box Attacks (25 points)"
      ],
      "metadata": {
        "id": "aRPjp84p81nn"
      }
    },
    {
      "cell_type": "markdown",
      "source": [
        "Based on [Black-box Adversarial Attacks with Limited Queries and Information](https://arxiv.org/abs/1804.08598) you must first calculate the estimate of the graidents, and next attack the model based on your estimates."
      ],
      "metadata": {
        "id": "7aaXmYSbQ2W_"
      }
    },
    {
      "cell_type": "code",
      "source": [
        "def nes_gradient_estimate(model, x, y, epsilon, num_samples, sigma):\n",
        "    # TODO: Return the estimated gradient\n",
        "    pass"
      ],
      "metadata": {
        "id": "Z6PlkF_A-aDS"
      },
      "execution_count": 49,
      "outputs": []
    },
    {
      "cell_type": "code",
      "source": [
        "def partial_information_attack(model, x, y, epsilon, num_samples, sigma, num_steps, alpha):\n",
        "    # TODO: Return the perturbed image\n",
        "    pass"
      ],
      "metadata": {
        "id": "yBF7Spoh-nmJ"
      },
      "execution_count": null,
      "outputs": []
    },
    {
      "cell_type": "markdown",
      "source": [
        "Now run this attack on your models and report the results. (You **DON'T** need to run the attack for the entire test dataset as this will take a lot of time!)"
      ],
      "metadata": {
        "id": "Z8XgGVWZRb1P"
      }
    },
    {
      "cell_type": "code",
      "source": [],
      "metadata": {
        "id": "N94Is59sRq8u"
      },
      "execution_count": null,
      "outputs": []
    },
    {
      "cell_type": "markdown",
      "source": [
        "# Adversarially Robust Distillation (15 points)"
      ],
      "metadata": {
        "id": "P30qgaIHVFxr"
      }
    },
    {
      "cell_type": "markdown",
      "source": [
        "In this section we are going to test another type of distillation to see if this method is robust. This technique is [Adversarially Robust Distillation](https://arxiv.org/abs/1905.09747).\n",
        "\n",
        "\n",
        "\n",
        "1.   We will try to distill a robsut teacher from [Robust Bench](https://robustbench.github.io/) onto a smaller architecture.\n",
        "2.   We minimize the KL-Divergence between the logits of the student and teacher to ensure fidelity. (You can also incorporate the classification loss as mentioned in the paper but you can choose to ignore it as well)\n",
        "3.   At each step of the distillation you will attack the student (you can use either FGSM or PGD) and find an adversarial example $X + \\delta$ for data point $X$. Next you will minimize $t^2 \\times \\text{KL}(S(X+\\delta), T(X))$ where $S$ and $T$ are the student and teacher networks respectively.\n",
        "\n"
      ],
      "metadata": {
        "id": "QlP5yndiV7Fg"
      }
    },
    {
      "cell_type": "code",
      "source": [
        "! pip install git+https://github.com/RobustBench/robustbench.git"
      ],
      "metadata": {
        "id": "kOHVJtf0V6NT"
      },
      "execution_count": null,
      "outputs": []
    },
    {
      "cell_type": "code",
      "source": [
        "from robustbench.utils import load_model\n",
        "\n",
        "teacher = load_model(model_name='Gowal2021Improving_R18_ddpm_100m', dataset='cifar10', threat_model='Linf')"
      ],
      "metadata": {
        "id": "nD9wjBojWz_T"
      },
      "execution_count": null,
      "outputs": []
    },
    {
      "cell_type": "code",
      "source": [
        "def ard(student, teacher, dataloader, optimizer, eps, attack):\n",
        "    # TODO\n",
        "    pass\n",
        "\n",
        "\n",
        "def adv_train_student(model, teacher, n_epochs, eps=8/255, loader=trainloader):\n",
        "    # TODO\n",
        "    pass"
      ],
      "metadata": {
        "id": "FLGDeE1YY6uO"
      },
      "execution_count": null,
      "outputs": []
    },
    {
      "cell_type": "code",
      "source": [
        "student = mobilenet_v2(weights=None)\n",
        "\n",
        "# TODO: Adjust and train the student\n"
      ],
      "metadata": {
        "id": "eAEyoDc-ZUtr"
      },
      "execution_count": null,
      "outputs": []
    },
    {
      "cell_type": "markdown",
      "source": [
        "Now report the accuracy of the student on the test dataset."
      ],
      "metadata": {
        "id": "bwVcIMu9ZF12"
      }
    },
    {
      "cell_type": "code",
      "source": [
        "# TODO: Clean accurcy\n",
        "\n",
        "# TODO: FGSM with eps=8/255\n",
        "\n",
        "# TODO: PGD with eps=8/255\n"
      ],
      "metadata": {
        "id": "6_tXDzGyZNCW"
      },
      "execution_count": null,
      "outputs": []
    }
  ]
}
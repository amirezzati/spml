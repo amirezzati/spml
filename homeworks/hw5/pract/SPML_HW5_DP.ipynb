{
  "cells": [
    {
      "cell_type": "markdown",
      "metadata": {
        "id": "n46zP5RkihIi"
      },
      "source": [
        "<div style=\"text-align: center; font-family: 'Arial', sans-serif;\">\n",
        "    <h1 style=\"color: #2c3e50;\">Security and Privacy in Machine Learning</h1>\n",
        "    <h3 style=\"color: #34495e;\">Course Code: 40816</h3>\n",
        "    <h3 style=\"color: #7f8c8d;\">Instructor: Dr. Amir Mahdi Sadeghzadeh</h3>\n",
        "    <h3 style=\"color: #95a5a6;\">Sharif University of Technology, Iran</h3>\n",
        "    <h3 style=\"color: #bdc3c7;\">CE Department, Fall 2024</h3>\n",
        "    <h3 style=\"color: #d35400;\">Computer Assignment 5</h3>\n",
        "    <h4 style=\"color: #e67e22;\">Topic: Differential Privacy</h4>\n",
        "</div>\n"
      ]
    },
    {
      "cell_type": "markdown",
      "metadata": {
        "id": "WugRp1PHihIk"
      },
      "source": [
        "<div style=\"text-align: left; font-family: 'Arial', sans-serif; font-size: 14px;\">\n",
        "    <h2 style=\"color: #3498db;\">Introduction</h2>\n",
        "    <p>This notebook contains the implementation for Computer Assignment 5 on Differential Privacy. Follow the instructions carefully and ensure your code adheres to the provided guidelines.</p>\n",
        "</div>\n"
      ]
    },
    {
      "cell_type": "markdown",
      "metadata": {
        "id": "vEiyliyjihIl"
      },
      "source": [
        "<div style=\"text-align: left; font-family: 'Arial', sans-serif; font-size: 14px;\">\n",
        "    <h2 style=\"color: #9b59b6;\">Personal Data</h2>\n",
        "    <p>Please enter your student number, first name, and last name in the following cell.</p>\n",
        "</div>"
      ]
    },
    {
      "cell_type": "code",
      "execution_count": 1,
      "metadata": {
        "id": "0OU4E3qYihIm"
      },
      "outputs": [],
      "source": [
        "# Enter your personal details below\n",
        "student_number = \"402212269\"  # Replace with your student number\n",
        "first_name = \"Amir Mohammad\"      # Replace with your first name\n",
        "last_name = \"Ezzati\"       # Replace with your last name"
      ]
    },
    {
      "cell_type": "markdown",
      "metadata": {
        "id": "_WfLOwFNihIn"
      },
      "source": [
        "<div style=\"text-align: font-family: 'Arial', sans-serif;\">\n",
        "    <h1 style=\"color: #2c3e50;\">Part 0: Introduction to Differential Privacy</h1>\n",
        "</div>"
      ]
    },
    {
      "cell_type": "markdown",
      "metadata": {
        "id": "zXPo-jwlihIn"
      },
      "source": [
        "<div style=\"text-align: font-family: 'Arial', sans-serif;\">\n",
        "    <h2 style=\"color: #34495e;\">Question 0: Differential Privacy Definitions (5 Points)</h2>\n",
        "</div>"
      ]
    },
    {
      "cell_type": "markdown",
      "metadata": {
        "id": "ccljH7Y3ihIo"
      },
      "source": [
        "Provide a brief summary of Differential Privacy principles. Define $\\epsilon$-differential privacy and explain its significance in protecting individual data privacy.\n"
      ]
    },
    {
      "cell_type": "markdown",
      "metadata": {
        "id": "7E-7OCHWihIp"
      },
      "source": [
        "<div style=\"text-align: font-family: 'Arial', sans-serif;\">\n",
        "    <h1 style=\"color: #2c3e50;\">Part 1: Mechanisms for Differential Privacy</h1>"
      ]
    },
    {
      "cell_type": "code",
      "execution_count": 156,
      "metadata": {
        "id": "YCaT4bL1ihIq"
      },
      "outputs": [],
      "source": [
        "import numpy as np\n",
        "import pandas as pd\n",
        "import matplotlib.pyplot as plt\n",
        "from sklearn.datasets import fetch_openml # need sklearn >= 0.22\n",
        "import scipy as sp\n",
        "from sklearn.model_selection import train_test_split, KFold\n",
        "from sklearn.preprocessing import Normalizer, StandardScaler\n",
        "from sklearn.linear_model import LogisticRegression\n",
        "from sklearn.model_selection import ParameterGrid\n",
        "from sklearn.svm import SVC\n",
        "from sklearn.metrics import log_loss\n",
        "from sklearn.preprocessing import LabelBinarizer\n",
        "from sklearn.datasets import make_classification"
      ]
    },
    {
      "cell_type": "markdown",
      "metadata": {
        "id": "V0o9BNU9ihIr"
      },
      "source": [
        "Below we provide a helper function to draw bar plots from pandas Series."
      ]
    },
    {
      "cell_type": "code",
      "execution_count": 3,
      "metadata": {
        "id": "SCzr76oLihIr"
      },
      "outputs": [],
      "source": [
        "def bar_plot_pandas(series1, series2=None, label1=\"Series 1\", label2=\"Series 2\", title=\"\"):\n",
        "    '''\n",
        "    Draws a bar plot of one Pandas Series, or two pandas Series with the same index\n",
        "\n",
        "    Parameters\n",
        "    ----------\n",
        "    series1 : Series of float\n",
        "        First input\n",
        "    series2 : Series of float, optional\n",
        "        Second input (with same index)\n",
        "    label1 : string, optional\n",
        "        Label for the first series\n",
        "    label2 : string, optional\n",
        "        Label for the second series\n",
        "    title : string, optional\n",
        "        Plot title\n",
        "    '''\n",
        "    if series2 is None:\n",
        "        series1.plot.bar()\n",
        "        plt.xlabel(\"Index\")\n",
        "        plt.ylabel(\"Values\")\n",
        "        plt.title(title if title else \"Bar Plot\")\n",
        "        plt.legend([label1])\n",
        "        plt.show()\n",
        "    else:\n",
        "        concat_series = pd.DataFrame({label1: series1, label2: series2}).reset_index()\n",
        "        concat_series[\"index\"] = concat_series.index\n",
        "        concat_series.plot.bar(x=\"index\", y=[label1, label2], xlabel=\"\", title=title)\n",
        "        plt.xlabel(\"Index\")\n",
        "        plt.ylabel(\"Values\")\n",
        "        plt.title(title if title else \"Comparison Bar Plot\")\n",
        "        plt.legend([label1, label2])\n",
        "        plt.show()"
      ]
    },
    {
      "cell_type": "markdown",
      "metadata": {
        "id": "UqJHKzNNihIr"
      },
      "source": [
        "<div style=\"text-align: font-family: 'Arial', sans-serif;\">\n",
        "    <h2 style=\"color: #2c3e50;\">Dataset</h2>\n",
        "</div>"
      ]
    },
    {
      "cell_type": "markdown",
      "metadata": {
        "id": "vxBhp4JSihIs"
      },
      "source": [
        "We will be working with a dataset from the US Census (also known as the Adult dataset). You can read about the dataset [here](https://archive.ics.uci.edu/ml/datasets/census+income).\n",
        "\n",
        "The following line loads the dataset from [OpenML](https://www.openml.org/) with the `fetch_openml` method of `sklearn`. The option `as_frame=True` (**requires sklearn version >= 0.22**) loads the dataset in `pandas DataFrame` format: this keeps the attributes in their original form and will be more convenient to work with. If you prefer working with a numpy array (not recommended), set `as_frame=False`."
      ]
    },
    {
      "cell_type": "code",
      "execution_count": 38,
      "metadata": {
        "colab": {
          "base_uri": "https://localhost:8080/"
        },
        "id": "9GhGM_4NihIt",
        "outputId": "7bf0da54-ff00-4673-e972-6c2c3b5f1cd9"
      },
      "outputs": [
        {
          "name": "stderr",
          "output_type": "stream",
          "text": [
            "Downloading...\n",
            "From: https://drive.google.com/uc?id=12HBGtrXouBN5Yi7uyUApR5rvb25wplye\n",
            "To: /content/dataset.csv\n",
            "100%|██████████| 5.55M/5.55M [00:00<00:00, 161MB/s]\n"
          ]
        }
      ],
      "source": [
        "# Fetching the Adult dataset from OpenML\n",
        "# dataset_handle = fetch_openml(name='adult', version=2, as_frame=True)\n",
        "# dataset = dataset_handle.frame\n",
        "\n",
        "# fetch_openml didn't work when i did this homework so I downloaded csv file of this dataset and read it with pandas.\n",
        "import gdown\n",
        "\n",
        "adult_file_url = \"https://drive.google.com/uc?id=12HBGtrXouBN5Yi7uyUApR5rvb25wplye\"\n",
        "output_path = \"dataset.csv\"\n",
        "gdown.download(adult_file_url, output_path, quiet=False)\n",
        "\n",
        "dataset = pd.read_csv(output_path)\n",
        "dataset = dataset.iloc[:, 1:]"
      ]
    },
    {
      "cell_type": "markdown",
      "metadata": {
        "id": "kVQtJLl5ihIt"
      },
      "source": [
        "Take a look at the dataset, in particular the number of rows (individuals), the number of columns (attributes) and what they represent."
      ]
    },
    {
      "cell_type": "code",
      "execution_count": 5,
      "metadata": {
        "colab": {
          "base_uri": "https://localhost:8080/"
        },
        "id": "TYA_nkJ7ihIt",
        "outputId": "aa9a506a-1ab5-40c4-ff9c-bd350725a33d"
      },
      "outputs": [
        {
          "name": "stdout",
          "output_type": "stream",
          "text": [
            "Dataset contains 48842 rows (individuals) and 15 columns (attributes).\n",
            "\n",
            "Preview of the dataset:\n",
            "   age  workclass  fnlwgt     education  education-num      marital-status  \\\n",
            "0   25    Private  226802          11th              7       Never-married   \n",
            "1   38    Private   89814       HS-grad              9  Married-civ-spouse   \n",
            "2   28  Local-gov  336951    Assoc-acdm             12  Married-civ-spouse   \n",
            "3   44    Private  160323  Some-college             10  Married-civ-spouse   \n",
            "\n",
            "          occupation relationship   race   sex  capital-gain  capital-loss  \\\n",
            "0  Machine-op-inspct    Own-child  Black  Male             0             0   \n",
            "1    Farming-fishing      Husband  White  Male             0             0   \n",
            "2    Protective-serv      Husband  White  Male             0             0   \n",
            "3  Machine-op-inspct      Husband  Black  Male          7688             0   \n",
            "\n",
            "   hours-per-week native-country  class  \n",
            "0              40  United-States  <=50K  \n",
            "1              50  United-States  <=50K  \n",
            "2              40  United-States   >50K  \n",
            "3              40  United-States   >50K  \n"
          ]
        }
      ],
      "source": [
        "# Exploring the dataset\n",
        "n, d = dataset.shape  # Number of rows and columns\n",
        "print(f\"Dataset contains {n} rows (individuals) and {d} columns (attributes).\")\n",
        "print(\"\\nPreview of the dataset:\")\n",
        "print(dataset.head(4))"
      ]
    },
    {
      "cell_type": "markdown",
      "metadata": {
        "id": "MSTzCdeuihIu"
      },
      "source": [
        "<div style=\"text-align: font-family: 'Arial', sans-serif;\">\n",
        "    <h2 style=\"color: #2c3e50;\">Question 1 (non-private queries) (7 Points)</h2>\n",
        "</div>"
      ]
    },
    {
      "cell_type": "markdown",
      "metadata": {
        "id": "K4tvgpwxihIu"
      },
      "source": [
        "Implement a function for each of these types of queries (without privacy) and test them on the dataset:\n",
        "- **Simple count queries**: it takes as input a dataset (`DataFrame`), a categorical attribute (e.g., `\"sex\"`) and a value (e.g., `\"Male\"`), and returns how many rows in the dataset have the prescribed attribute value.\n",
        "- **Averaging queries**: it takes as input a dataset and a numeric attribute (e.g., `\"age\"`), and returns the average value of this attribute in the dataset.\n",
        "- **Histogram queries**: it takes as input a dataset and a categorical attribute (e.g., `\"sex\"`), and returns the histogram of counts for this attribute in the dataset (i.e., for each possible value of the attribute, how many rows have this value).\n",
        "\n",
        "Reminder: for a DataFrame `df`, we can access the column corresponding to an attribute `attr` by `df[attr]`. The method `value_counts()` allows to build a histogram of a column. To plot a pandas Series `s` as a histogram, you can use `s.plot.bar()`.\n",
        "\n",
        "Note: You can use the function `bar_plot_pandas` provided in the preamble to draw a bar plot of a pandas Series, which is useful to show histograms."
      ]
    },
    {
      "cell_type": "code",
      "execution_count": 6,
      "metadata": {
        "id": "ijhmCF4XihIu"
      },
      "outputs": [],
      "source": [
        "def count_query(df, attribute, value):\n",
        "    '''\n",
        "    Parameters\n",
        "    ----------\n",
        "    df : DataFrame\n",
        "        Dataset\n",
        "    attribute : string\n",
        "        Name of an attribute with categorical values\n",
        "    value : string or int\n",
        "        Value of attribute to count\n",
        "\n",
        "    Returns\n",
        "    -------\n",
        "    count : int\n",
        "        The number of records with `attribute=value` in dataset `df`\n",
        "    '''\n",
        "\n",
        "    # TO COMPLETE\n",
        "    count = df[df[attribute] == value].shape[0]\n",
        "    return count"
      ]
    },
    {
      "cell_type": "code",
      "execution_count": 7,
      "metadata": {
        "id": "msi0C39BihIu"
      },
      "outputs": [],
      "source": [
        "def average_query(df, attribute):\n",
        "    '''\n",
        "    Parameters\n",
        "    ----------\n",
        "    df : DataFrame\n",
        "        Dataset\n",
        "    attribute : string\n",
        "        Name of an attribute with numeric values\n",
        "\n",
        "    Returns\n",
        "    -------\n",
        "    average : float\n",
        "        The average value of `attribute` in dataset `df`\n",
        "    '''\n",
        "\n",
        "    # TO COMPLETE\n",
        "    average = df[attribute].mean()\n",
        "    return average"
      ]
    },
    {
      "cell_type": "code",
      "execution_count": 8,
      "metadata": {
        "id": "G2zxDxVJihIu"
      },
      "outputs": [],
      "source": [
        "def histogram_query(df, attribute):\n",
        "    '''\n",
        "    Parameters\n",
        "    ----------\n",
        "    df : DataFrame\n",
        "        Dataset\n",
        "    attribute : string\n",
        "        Name of an attribute with categorical values\n",
        "\n",
        "    Returns\n",
        "    -------\n",
        "    histogram : array or Series of int\n",
        "        The histogram of `attribute`, i.e., the number of times each value of `attribute` appears in `df`\n",
        "    '''\n",
        "    # TO COMPLETE\n",
        "    histogram = df[attribute].value_counts()\n",
        "    return histogram"
      ]
    },
    {
      "cell_type": "markdown",
      "metadata": {
        "id": "py1iLbs5ihIw"
      },
      "source": [
        "<div style=\"text-align: font-family: 'Arial', sans-serif;\">\n",
        "    <h2 style=\"color: #2c3e50;\">Question 2 (Laplace mechanism) (10 Points)</h2>\n",
        "</div>"
      ]
    },
    {
      "cell_type": "markdown",
      "metadata": {
        "id": "R0qAWpeEihIw"
      },
      "source": [
        "Implement the Laplace mechanism, i.e., a function which takes as input a (non-private) query output, the query's $\\ell_1$ sensitivity, the desired value of $\\epsilon$ and a random seed (for reproducibility), and returns a $\\epsilon$-differentially private estimate of the query. To draw Laplace noise, check `np.random.laplace`. The function should work with queries that output a scalar (like simple count and averaging queries), as well as those that output a vector (like histogram queries)."
      ]
    },
    {
      "cell_type": "code",
      "execution_count": 9,
      "metadata": {
        "id": "Lwq0MfpIihIw"
      },
      "outputs": [],
      "source": [
        "def laplace_mechanism(q, s1, eps, random_state=None):\n",
        "    '''\n",
        "    Parameters\n",
        "    ----------\n",
        "    q : float or array/Series of float\n",
        "        The non-private output of the query\n",
        "    s1 : float\n",
        "        The L1 sensitivity of the query\n",
        "    eps : float\n",
        "        Parameter epsilon of differential privacy\n",
        "    random_state : int, optional (default=None)\n",
        "        Random seed\n",
        "\n",
        "    Returns\n",
        "    -------\n",
        "    private_q : float or array/Series of float\n",
        "        An eps-DP evaluation of the query\n",
        "    '''\n",
        "\n",
        "    rng = np.random.RandomState(random_state)\n",
        "\n",
        "    # TO COMPLETE\n",
        "    if hasattr(q, 'shape'): # query output is multi-dimensional\n",
        "        noise = rng.laplace(loc=0, scale=s1/eps, size=q.shape)\n",
        "        private_q = q + noise\n",
        "\n",
        "    else: # query output is a scalar\n",
        "        noise = rng.laplace(loc=0, scale=s1/eps)\n",
        "        private_q = q + noise\n",
        "\n",
        "    return private_q\n",
        "\n"
      ]
    },
    {
      "cell_type": "code",
      "execution_count": 10,
      "metadata": {
        "colab": {
          "base_uri": "https://localhost:8080/",
          "height": 554
        },
        "id": "xEHunTLsdxyP",
        "outputId": "d6e8fe48-e41c-418d-9358-7435429afd12"
      },
      "outputs": [
        {
          "data": {
            "text/html": [
              "<div>\n",
              "<style scoped>\n",
              "    .dataframe tbody tr th:only-of-type {\n",
              "        vertical-align: middle;\n",
              "    }\n",
              "\n",
              "    .dataframe tbody tr th {\n",
              "        vertical-align: top;\n",
              "    }\n",
              "\n",
              "    .dataframe thead th {\n",
              "        text-align: right;\n",
              "    }\n",
              "</style>\n",
              "<table border=\"1\" class=\"dataframe\">\n",
              "  <thead>\n",
              "    <tr style=\"text-align: right;\">\n",
              "      <th></th>\n",
              "      <th>count</th>\n",
              "    </tr>\n",
              "    <tr>\n",
              "      <th>occupation</th>\n",
              "      <th></th>\n",
              "    </tr>\n",
              "  </thead>\n",
              "  <tbody>\n",
              "    <tr>\n",
              "      <th>Prof-specialty</th>\n",
              "      <td>6172</td>\n",
              "    </tr>\n",
              "    <tr>\n",
              "      <th>Craft-repair</th>\n",
              "      <td>6112</td>\n",
              "    </tr>\n",
              "    <tr>\n",
              "      <th>Exec-managerial</th>\n",
              "      <td>6086</td>\n",
              "    </tr>\n",
              "    <tr>\n",
              "      <th>Adm-clerical</th>\n",
              "      <td>5611</td>\n",
              "    </tr>\n",
              "    <tr>\n",
              "      <th>Sales</th>\n",
              "      <td>5504</td>\n",
              "    </tr>\n",
              "    <tr>\n",
              "      <th>Other-service</th>\n",
              "      <td>4923</td>\n",
              "    </tr>\n",
              "    <tr>\n",
              "      <th>Machine-op-inspct</th>\n",
              "      <td>3022</td>\n",
              "    </tr>\n",
              "    <tr>\n",
              "      <th>Transport-moving</th>\n",
              "      <td>2355</td>\n",
              "    </tr>\n",
              "    <tr>\n",
              "      <th>Handlers-cleaners</th>\n",
              "      <td>2072</td>\n",
              "    </tr>\n",
              "    <tr>\n",
              "      <th>Farming-fishing</th>\n",
              "      <td>1490</td>\n",
              "    </tr>\n",
              "    <tr>\n",
              "      <th>Tech-support</th>\n",
              "      <td>1446</td>\n",
              "    </tr>\n",
              "    <tr>\n",
              "      <th>Protective-serv</th>\n",
              "      <td>983</td>\n",
              "    </tr>\n",
              "    <tr>\n",
              "      <th>Priv-house-serv</th>\n",
              "      <td>242</td>\n",
              "    </tr>\n",
              "    <tr>\n",
              "      <th>Armed-Forces</th>\n",
              "      <td>15</td>\n",
              "    </tr>\n",
              "  </tbody>\n",
              "</table>\n",
              "</div><br><label><b>dtype:</b> int64</label>"
            ],
            "text/plain": [
              "occupation\n",
              "Prof-specialty       6172\n",
              "Craft-repair         6112\n",
              "Exec-managerial      6086\n",
              "Adm-clerical         5611\n",
              "Sales                5504\n",
              "Other-service        4923\n",
              "Machine-op-inspct    3022\n",
              "Transport-moving     2355\n",
              "Handlers-cleaners    2072\n",
              "Farming-fishing      1490\n",
              "Tech-support         1446\n",
              "Protective-serv       983\n",
              "Priv-house-serv       242\n",
              "Armed-Forces           15\n",
              "Name: count, dtype: int64"
            ]
          },
          "execution_count": 10,
          "metadata": {},
          "output_type": "execute_result"
        }
      ],
      "source": [
        "histogram_query(dataset, 'occupation')"
      ]
    },
    {
      "cell_type": "code",
      "execution_count": 20,
      "metadata": {
        "colab": {
          "base_uri": "https://localhost:8080/",
          "height": 554
        },
        "id": "WE4sW_DXeAKe",
        "outputId": "0b7d5e46-5554-4f4a-f056-9c6b775d65c2"
      },
      "outputs": [
        {
          "data": {
            "text/html": [
              "<div>\n",
              "<style scoped>\n",
              "    .dataframe tbody tr th:only-of-type {\n",
              "        vertical-align: middle;\n",
              "    }\n",
              "\n",
              "    .dataframe tbody tr th {\n",
              "        vertical-align: top;\n",
              "    }\n",
              "\n",
              "    .dataframe thead th {\n",
              "        text-align: right;\n",
              "    }\n",
              "</style>\n",
              "<table border=\"1\" class=\"dataframe\">\n",
              "  <thead>\n",
              "    <tr style=\"text-align: right;\">\n",
              "      <th></th>\n",
              "      <th>count</th>\n",
              "    </tr>\n",
              "    <tr>\n",
              "      <th>occupation</th>\n",
              "      <th></th>\n",
              "    </tr>\n",
              "  </thead>\n",
              "  <tbody>\n",
              "    <tr>\n",
              "      <th>Prof-specialty</th>\n",
              "      <td>6171.711091</td>\n",
              "    </tr>\n",
              "    <tr>\n",
              "      <th>Craft-repair</th>\n",
              "      <td>6114.316974</td>\n",
              "    </tr>\n",
              "    <tr>\n",
              "      <th>Exec-managerial</th>\n",
              "      <td>6086.623599</td>\n",
              "    </tr>\n",
              "    <tr>\n",
              "      <th>Adm-clerical</th>\n",
              "      <td>5611.219795</td>\n",
              "    </tr>\n",
              "    <tr>\n",
              "      <th>Sales</th>\n",
              "      <td>5502.835367</td>\n",
              "    </tr>\n",
              "    <tr>\n",
              "      <th>Other-service</th>\n",
              "      <td>4921.835213</td>\n",
              "    </tr>\n",
              "    <tr>\n",
              "      <th>Machine-op-inspct</th>\n",
              "      <td>3019.847275</td>\n",
              "    </tr>\n",
              "    <tr>\n",
              "      <th>Transport-moving</th>\n",
              "      <td>2356.318084</td>\n",
              "    </tr>\n",
              "    <tr>\n",
              "      <th>Handlers-cleaners</th>\n",
              "      <td>2072.225935</td>\n",
              "    </tr>\n",
              "    <tr>\n",
              "      <th>Farming-fishing</th>\n",
              "      <td>1490.538103</td>\n",
              "    </tr>\n",
              "    <tr>\n",
              "      <th>Tech-support</th>\n",
              "      <td>1442.809930</td>\n",
              "    </tr>\n",
              "    <tr>\n",
              "      <th>Protective-serv</th>\n",
              "      <td>985.810410</td>\n",
              "    </tr>\n",
              "    <tr>\n",
              "      <th>Priv-house-serv</th>\n",
              "      <td>243.093282</td>\n",
              "    </tr>\n",
              "    <tr>\n",
              "      <th>Armed-Forces</th>\n",
              "      <td>14.143576</td>\n",
              "    </tr>\n",
              "  </tbody>\n",
              "</table>\n",
              "</div><br><label><b>dtype:</b> float64</label>"
            ],
            "text/plain": [
              "occupation\n",
              "Prof-specialty       6171.711091\n",
              "Craft-repair         6114.316974\n",
              "Exec-managerial      6086.623599\n",
              "Adm-clerical         5611.219795\n",
              "Sales                5502.835367\n",
              "Other-service        4921.835213\n",
              "Machine-op-inspct    3019.847275\n",
              "Transport-moving     2356.318084\n",
              "Handlers-cleaners    2072.225935\n",
              "Farming-fishing      1490.538103\n",
              "Tech-support         1442.809930\n",
              "Protective-serv       985.810410\n",
              "Priv-house-serv       243.093282\n",
              "Armed-Forces           14.143576\n",
              "Name: count, dtype: float64"
            ]
          },
          "execution_count": 20,
          "metadata": {},
          "output_type": "execute_result"
        }
      ],
      "source": [
        "laplace_mechanism(histogram_query(dataset, 'occupation'), s1=1, eps=1, random_state=42)"
      ]
    },
    {
      "cell_type": "markdown",
      "metadata": {
        "id": "k96fWVwRihIx"
      },
      "source": [
        "<div style=\"text-align: font-family: 'Arial', sans-serif;\">\n",
        "    <h2 style=\"color: #2c3e50;\">Question 3 (Laplace mechanism on count queries) (8 Points)</h2>\n",
        "</div>"
      ]
    },
    {
      "cell_type": "markdown",
      "metadata": {
        "id": "8iwaUr9aihIx"
      },
      "source": [
        "We would like to use the Laplace mechanism to:\n",
        "- privately count the number of males in the dataset\n",
        "- generate a private histogram of the `\"workclass\"` attribute\n",
        "\n",
        "What is the sensitivity of the query in each case?\n",
        "\n",
        "Run the Laplace mechanism with different values of $\\epsilon$ and compute the $\\ell_1$-error with respect to the true (non-private) output to see the effect on the utility and compare with the formal error bound seen in the lecture. Recall that the mechanism is random, so unless you fix the seed you will get a different result at each execution. Visually compare the private and non-private histograms using the function `bar_plot_pandas` provided at the beginning of the notebook.\n",
        "\n",
        "Note: you may round the outputs of the private mechanism to make them integers if you like. This can be considered as post-processing and thus preserves DP (see Bonus Question 5 to go further on this aspect)."
      ]
    },
    {
      "cell_type": "code",
      "execution_count": 21,
      "metadata": {
        "colab": {
          "base_uri": "https://localhost:8080/",
          "height": 1000
        },
        "id": "0gXu3JJeihIx",
        "outputId": "98ce6f74-4e76-4c50-fde3-178787ffde09"
      },
      "outputs": [
        {
          "name": "stdout",
          "output_type": "stream",
          "text": [
            "\n",
            "Epsilon: 0.001\n",
            "Query: int, L1 Error: 288.91\n",
            "Non-private: 32650, Private: 32361.09082522566\n",
            "----------------------------------------------------------------------------------------------------\n",
            "\n",
            "Epsilon: 0.001\n",
            "Query: Series, L1 Error: 17963.73\n"
          ]
        },
        {
          "data": {
            "image/png": "[encoded data removed]",
            "text/plain": [
              "<Figure size 640x480 with 1 Axes>"
            ]
          },
          "metadata": {},
          "output_type": "display_data"
        },
        {
          "name": "stdout",
          "output_type": "stream",
          "text": [
            "----------------------------------------------------------------------------------------------------\n",
            "\n",
            "Epsilon: 0.01\n",
            "Query: int, L1 Error: 28.89\n",
            "Non-private: 32650, Private: 32621.109082522566\n",
            "----------------------------------------------------------------------------------------------------\n",
            "\n",
            "Epsilon: 0.01\n",
            "Query: Series, L1 Error: 1796.37\n"
          ]
        },
        {
          "data": {
            "image/png": "[encoded data removed]",
            "text/plain": [
              "<Figure size 640x480 with 1 Axes>"
            ]
          },
          "metadata": {},
          "output_type": "display_data"
        },
        {
          "name": "stdout",
          "output_type": "stream",
          "text": [
            "----------------------------------------------------------------------------------------------------\n",
            "\n",
            "Epsilon: 0.1\n",
            "Query: int, L1 Error: 2.89\n",
            "Non-private: 32650, Private: 32647.110908252256\n",
            "----------------------------------------------------------------------------------------------------\n",
            "\n",
            "Epsilon: 0.1\n",
            "Query: Series, L1 Error: 179.64\n"
          ]
        },
        {
          "data": {
            "image/png": "[encoded data removed]",
            "text/plain": [
              "<Figure size 640x480 with 1 Axes>"
            ]
          },
          "metadata": {},
          "output_type": "display_data"
        },
        {
          "name": "stdout",
          "output_type": "stream",
          "text": [
            "----------------------------------------------------------------------------------------------------\n",
            "\n",
            "Epsilon: 1.0\n",
            "Query: int, L1 Error: 0.29\n",
            "Non-private: 32650, Private: 32649.711090825225\n",
            "----------------------------------------------------------------------------------------------------\n",
            "\n",
            "Epsilon: 1.0\n",
            "Query: Series, L1 Error: 17.96\n"
          ]
        },
        {
          "data": {
            "image/png": "[encoded data removed]",
            "text/plain": [
              "<Figure size 640x480 with 1 Axes>"
            ]
          },
          "metadata": {},
          "output_type": "display_data"
        },
        {
          "name": "stdout",
          "output_type": "stream",
          "text": [
            "----------------------------------------------------------------------------------------------------\n",
            "\n",
            "Epsilon: 10\n",
            "Query: int, L1 Error: 0.03\n",
            "Non-private: 32650, Private: 32649.971109082522\n",
            "----------------------------------------------------------------------------------------------------\n",
            "\n",
            "Epsilon: 10\n",
            "Query: Series, L1 Error: 1.80\n"
          ]
        },
        {
          "data": {
            "image/png": "[encoded data removed]",
            "text/plain": [
              "<Figure size 640x480 with 1 Axes>"
            ]
          },
          "metadata": {},
          "output_type": "display_data"
        },
        {
          "name": "stdout",
          "output_type": "stream",
          "text": [
            "----------------------------------------------------------------------------------------------------\n"
          ]
        }
      ],
      "source": [
        "def l1_error(a, b):\n",
        "    '''\n",
        "    Parameters\n",
        "    ----------\n",
        "    a : float or array/Series of float\n",
        "        First input\n",
        "    b : float or array/Series of float\n",
        "        Second input\n",
        "\n",
        "    Returns\n",
        "    -------\n",
        "    l1_error : float\n",
        "        The L1 distance between `a` and `b`: ||a-b||_1\n",
        "    '''\n",
        "\n",
        "    # TO COMPLETE\n",
        "    if np.isscalar(a) and np.isscalar(b):  # If both inputs are scalars\n",
        "        return abs(a - b)\n",
        "    else:  # If inputs are arrays or Series\n",
        "        return np.linalg.norm(np.array(a) - np.array(b), ord=1)\n",
        "\n",
        "\n",
        "# list of (query,sensitivity) tuples to loop over\n",
        "queries = [\n",
        "    (count_query(dataset, \"sex\", \"Male\"), 1),  # Query: count males, Sensitivity: 1\n",
        "    (histogram_query(dataset, \"occupation\"), 1)  # Query: histogram of workclass, Sensitivity: 1\n",
        "]\n",
        "\n",
        "# Values of epsilon\n",
        "epsilons = [0.001, 0.01, 0.1, 1.0, 10]\n",
        "\n",
        "for eps in epsilons:\n",
        "    for query, sensitivity in queries:\n",
        "        print(f\"\\nEpsilon: {eps}\")\n",
        "        private_query = laplace_mechanism(query, sensitivity, eps, random_state=42)\n",
        "\n",
        "        error = l1_error(private_query, query)\n",
        "        print(f\"Query: {type(query).__name__}, L1 Error: {error:.2f}\")\n",
        "\n",
        "        # If the query is a histogram, visualize the results\n",
        "        if hasattr(query, 'shape') or isinstance(query, pd.Series):\n",
        "            bar_plot_pandas(\n",
        "                query, private_query,\n",
        "                label1=\"Non-private\", label2=\"Private\",\n",
        "                title=f\"Histogram with Laplace Mechanism (Epsilon={eps})\"\n",
        "            )\n",
        "            print('-'*100)\n",
        "        else:\n",
        "            print(f\"Non-private: {query}, Private: {private_query}\")\n",
        "            print('-'*100)\n"
      ]
    },
    {
      "cell_type": "markdown",
      "metadata": {
        "id": "gGszsTrhihIx"
      },
      "source": [
        "<div style=\"text-align: font-family: 'Arial', sans-serif;\">\n",
        "    <h2 style=\"color: #2c3e50;\">Question 4 (Gaussian mechanism and comparison with Laplace) (12 Points)</h2>\n",
        "</div>"
      ]
    },
    {
      "cell_type": "markdown",
      "metadata": {
        "id": "P6ncVUNHihIx"
      },
      "source": [
        "Implement the Gaussian mechanism (to draw Gaussian noise, check `np.random.normal`). Make an experimental comparison with the Laplace mechanism by plotting the privacy-utility trade-off for a 1D query of your choice. For the Gaussian mechanism, study the influence of $\\delta$."
      ]
    },
    {
      "cell_type": "code",
      "execution_count": 22,
      "metadata": {
        "id": "ELUKS8HUihIx"
      },
      "outputs": [],
      "source": [
        "def gaussian_mechanism(q, s2, eps, delta, random_state=None):\n",
        "    '''\n",
        "    Parameters\n",
        "    ----------\n",
        "    q : float or array/Series of float\n",
        "        The non-private output of the query\n",
        "    s2 : float\n",
        "        The L2 sensitivity of the query\n",
        "    eps : float\n",
        "        Parameter epsilon of differential privacy\n",
        "    delta : float\n",
        "        Parameter delta of differential privacy\n",
        "    random_state : int, optional (default=None)\n",
        "        Random seed\n",
        "\n",
        "    Returns\n",
        "    -------\n",
        "    private_q : float or array/Series of float\n",
        "        An (eps,delta)-DP evaluation of the query\n",
        "    '''\n",
        "\n",
        "    rng = np.random.RandomState(random_state)\n",
        "\n",
        "    # TO COMPLETE\n",
        "    if hasattr(q, 'shape'): # query output is multi-dimensionale\n",
        "        sigma = np.sqrt(2*np.log(1.25/delta))*s2/eps\n",
        "        y = rng.normal(0, sigma, q.shape)\n",
        "    else: # query output is a scalar\n",
        "        sigma = np.sqrt(2*np.log(1.25/delta))*s2/eps\n",
        "        y = rng.normal(0, sigma, 1)\n",
        "\n",
        "    private_q = q + y\n",
        "\n",
        "    return private_q"
      ]
    },
    {
      "cell_type": "code",
      "execution_count": 23,
      "metadata": {
        "colab": {
          "base_uri": "https://localhost:8080/",
          "height": 449
        },
        "id": "ebnBX41hihIy",
        "outputId": "b375d592-f63d-4a34-ea81-7ebbb30c4dea"
      },
      "outputs": [
        {
          "data": {
            "image/png": "[encoded data removed]",
            "text/plain": [
              "<Figure size 640x480 with 1 Axes>"
            ]
          },
          "metadata": {},
          "output_type": "display_data"
        }
      ],
      "source": [
        "q = count_query(dataset, \"sex\", \"Male\")\n",
        "s = 1\n",
        "eps_list = np.linspace(0.01, 10.0, num=20)\n",
        "delta1 = 1. / 10**2\n",
        "delta2 = 1. / 10**4\n",
        "n_runs = 50\n",
        "\n",
        "error = np.zeros((len(eps_list), 3, n_runs))\n",
        "\n",
        "for i, eps in enumerate(eps_list):\n",
        "    for r in range(n_runs):\n",
        "        # Laplace mechanism\n",
        "        q_laplace = laplace_mechanism(q, s, eps, random_state=0)\n",
        "        error[i, 0, r] = l1_error(q, q_laplace)\n",
        "\n",
        "        # Gaussian mechanism with delta1\n",
        "        q_gaussian1 = gaussian_mechanism(q, s, eps, delta1, random_state=0)\n",
        "        error[i, 1, r] = l1_error(q, q_gaussian1)\n",
        "\n",
        "        # Gaussian mechanism with delta2\n",
        "        q_gaussian2 = gaussian_mechanism(q, s, eps, delta2, random_state=0)\n",
        "        error[i, 2, r] = l1_error(q, q_gaussian2)\n",
        "\n",
        "\n",
        "fig = plt.figure()\n",
        "ax = fig.add_subplot(1, 1, 1)\n",
        "ax.errorbar(eps_list, error[:, 0, :].mean(axis=1), error[:, 0, :].std(axis=1), label='Laplace mechanism')\n",
        "ax.errorbar(eps_list, error[:, 1, :].mean(axis=1), error[:, 1, :].std(axis=1),\n",
        "            label='Gaussian mechanism ($\\delta$=' + \"{:.2e}\".format(delta1) + ')')\n",
        "ax.errorbar(eps_list, error[:, 2, :].mean(axis=1), error[:, 2, :].std(axis=1),\n",
        "            label='Gaussian mechanism ($\\delta$=' + \"{:.2e}\".format(delta2) + ')')\n",
        "plt.xlabel(\"$\\epsilon$\")\n",
        "plt.ylabel(\"$\\ell_1$ error\")\n",
        "ax.set_yscale('log')\n",
        "ax.legend()\n",
        "plt.show()"
      ]
    },
    {
      "cell_type": "markdown",
      "metadata": {
        "id": "i0G2ZKfYihIy"
      },
      "source": [
        "<div style=\"text-align: font-family: 'Arial', sans-serif;\">\n",
        "    <h1 style=\"color: #2c3e50;\">Part 3: Applications of Differential Privacy</h1>\n",
        "</div>"
      ]
    },
    {
      "cell_type": "markdown",
      "metadata": {
        "id": "2Saz-ecrihIy"
      },
      "source": [
        "<div style=\"text-align: font-family: 'Arial', sans-serif;\">\n",
        "    <h2 style=\"color: #2c3e50;\">Question 5 (contingency tables and the \"paradox\" of parallel composition) (8 Points)</h2>\n",
        "</div>"
      ]
    },
    {
      "cell_type": "markdown",
      "metadata": {
        "id": "28OgmsUPihIy"
      },
      "source": [
        "We can go beyond histograms and build contingency tables across two (or even more) variables. Implement a function for such queries using `crosstab` from pandas, and use the Laplace mechanism to privately find out how people in the dataset break down according to the combination of `'gender'` and `'marital-status'`. You may need to adapt your implementation of Laplace to work with k-way tables (e.g., by using the method `applymap` together with a function that adds 1D Laplace noise).\n",
        "\n",
        "Pushing this reasoning further, it may seem that there is a paradox because parallel composition gets us more information \"for free\" (e.g., we can build a k-way table over a large number of attributes that could ultimately reveal very precise information about individuals in the dataset, without increasing the privacy loss). This contradicts the principle that asking more things should cost something. Explain why there is in fact no paradox and what is the cost that one pays in this case (if needed, you can see what happens when privately releasing contingency tables across many columns)."
      ]
    },
    {
      "cell_type": "code",
      "execution_count": 24,
      "metadata": {
        "id": "YK_rDLyzihIz"
      },
      "outputs": [],
      "source": [
        "def table_query(df, row_attr_list, col_attr_list):\n",
        "    '''\n",
        "    Parameters\n",
        "    ----------\n",
        "    df : DataFrame\n",
        "        Dataset\n",
        "    row_attr_list : list\n",
        "        List of attributes\n",
        "    col_attr_list : list\n",
        "        List of attributes\n",
        "\n",
        "    Returns\n",
        "    -------\n",
        "    cross_table : DataFrame\n",
        "        Cross tabulation (contingency table) of `df` according to `row_attr_list` and `col_attr_list`\n",
        "    '''\n",
        "\n",
        "    # TO COMPLETE\n",
        "    cross_table = pd.crosstab(index=[df[attr] for attr in row_attr_list],\n",
        "                              columns=[df[attr] for attr in col_attr_list])\n",
        "\n",
        "    # Add Laplace noise to each cell\n",
        "    rng = np.random.RandomState(0)\n",
        "    sensitivity = 1\n",
        "    scale = sensitivity / 0.1  # Scale for Laplace noise\n",
        "\n",
        "    private_cross_table = cross_table.applymap(lambda x: x + rng.laplace(scale=scale))\n",
        "\n",
        "    return private_cross_table"
      ]
    },
    {
      "cell_type": "code",
      "execution_count": 25,
      "metadata": {
        "colab": {
          "base_uri": "https://localhost:8080/"
        },
        "id": "boaA8z2sA5KU",
        "outputId": "a0291fb6-8b9e-4103-dfb3-0c3e7b900597"
      },
      "outputs": [
        {
          "name": "stdout",
          "output_type": "stream",
          "text": [
            "Differentially private contingency table:\n",
            " marital-status     Divorced  Married-AF-spouse  Married-civ-spouse  \\\n",
            "sex                                                                  \n",
            "Female          4002.027273           27.30076         2478.343109   \n",
            "Male            2637.627836           12.94054        19902.450121   \n",
            "\n",
            "marital-status  Married-spouse-absent  Never-married   Separated      Widowed  \n",
            "sex                                                                            \n",
            "Female                     302.666679     7244.21765  939.757490  1234.462857  \n",
            "Male                       339.303772     8896.34579  599.595269   304.051070  \n"
          ]
        },
        {
          "name": "stderr",
          "output_type": "stream",
          "text": [
            "<ipython-input-24-f1cb110b447d>:27: FutureWarning: DataFrame.applymap has been deprecated. Use DataFrame.map instead.\n",
            "  private_cross_table = cross_table.applymap(lambda x: x + rng.laplace(scale=scale))\n"
          ]
        }
      ],
      "source": [
        "# Private contingency table\n",
        "private_table = table_query(\n",
        "    dataset,\n",
        "    row_attr_list=['sex'],\n",
        "    col_attr_list=['marital-status']\n",
        ")\n",
        "\n",
        "print(\"Differentially private contingency table:\\n\", private_table)"
      ]
    },
    {
      "cell_type": "markdown",
      "metadata": {
        "id": "2UI8QqdXihIz"
      },
      "source": [
        "<div style=\"text-align: font-family: 'Arial', sans-serif;\">\n",
        "    <h2 style=\"color: #2c3e50;\">Question 6 (Laplace mechanism on average queries) (9 Points)</h2>\n",
        "</div>"
      ]
    },
    {
      "cell_type": "markdown",
      "metadata": {
        "id": "KUhaBFS_ihIz"
      },
      "source": [
        "We would like to use the Laplace mechanism to privately estimate the average age of people in the dataset. We assume that the number of people in the dataset is public.\n",
        "\n",
        "1. Propose and implement simple practical strategies to compute or estimate the sensitivity of this query in the following two scenarios, and discuss the merits and/or drawbacks of your proposals:\n",
        "  - You are the trusted curator: you have access to the raw dataset and would like to release an estimate of the average age of people in the dataset with differential privacy guarantees.\n",
        "  - You are an external data analyst: you do not have access to the raw dataset but only to an API to send queries. You have to convince the trusted curator that the proposed sensitivity is safe.\n",
        "2. Suggest some ideas regarding how we could change a bit the query to get a simple and safe bound on sensitivity, at the expense of possibly introducing some bias in the output. Implement the proposed solution. Hint: the method `clip` from pandas might be useful here."
      ]
    },
    {
      "cell_type": "markdown",
      "metadata": {
        "id": "682f9NV2DB-g"
      },
      "source": [
        "**Answer:**\n",
        "\n",
        "**Q1**\n",
        "Trusted Curator:\n",
        "As a trusted curator, we can **use the actual minimum and maximum ages** in the dataset to compute sensitivity:\n",
        "\n",
        "$\n",
        "\\text{sensitivity} = \\frac{\\text{max age} - \\text{min age}}{n}\n",
        "$\n",
        "\n",
        "**Q1** External Analyst:\n",
        "As an external analyst without access to raw data, we can **assume most people live up to 100 years** based on public mortality data. Sensitivity can then be approximated as:  \n",
        "\n",
        "$\n",
        "\\text{sensitivity} = \\frac{100 - 0}{n}\n",
        "$\n",
        "\n",
        "**Q2**\n",
        "Clipping:\n",
        "By **clipping ages** to the range 20–80, we can consistently use the sensitivity:  \n",
        "$\n",
        "\\text{sensitivity} = \\frac{80 - 20}{n}\n",
        "$\n",
        "\n",
        "This method reduces the impact of outliers while ensuring privacy, though it may introduce slight bias."
      ]
    },
    {
      "cell_type": "code",
      "execution_count": 26,
      "metadata": {
        "colab": {
          "base_uri": "https://localhost:8080/"
        },
        "id": "I3sqcSruFuGU",
        "outputId": "78fcb195-b03d-455b-b787-2bb3a47ef12b"
      },
      "outputs": [
        {
          "data": {
            "text/plain": [
              "(38.60040463175437, 17, 90, 48842)"
            ]
          },
          "execution_count": 26,
          "metadata": {},
          "output_type": "execute_result"
        }
      ],
      "source": [
        "# Trusted Curator Approach (Using actual min and max from data)\n",
        "\n",
        "ages = dataset[\"age\"]\n",
        "n = len(ages)\n",
        "\n",
        "min_age, max_age = ages.min(), ages.max()\n",
        "sensitivity_curator = (max_age - min_age) / n\n",
        "private_avg_curator = laplace_mechanism(average_query(dataset, 'age'), s1=sensitivity_curator, eps=0.01, random_state=42)\n",
        "\n",
        "private_avg_curator, min_age, max_age, n"
      ]
    },
    {
      "cell_type": "code",
      "execution_count": 14,
      "metadata": {
        "colab": {
          "base_uri": "https://localhost:8080/"
        },
        "id": "QVI3vDRcJTTA",
        "outputId": "e110e531-d60d-4923-8d1b-18f73a1c37b9"
      },
      "outputs": [
        {
          "data": {
            "text/plain": [
              "38.5844336483407"
            ]
          },
          "execution_count": 14,
          "metadata": {},
          "output_type": "execute_result"
        }
      ],
      "source": [
        "# External Analyst Approach (Assuming ages are between 0 and 100)\n",
        "n = len(dataset)\n",
        "sensitivity_analyst = (100 - 0) / n\n",
        "private_avg_analyst = laplace_mechanism(average_query(dataset, 'age'), s1=sensitivity_analyst, eps=0.01, random_state=42)\n",
        "\n",
        "private_avg_analyst"
      ]
    },
    {
      "cell_type": "code",
      "execution_count": 15,
      "metadata": {
        "colab": {
          "base_uri": "https://localhost:8080/"
        },
        "id": "fv1y6BaiJTHt",
        "outputId": "519cff42-d6f7-44fe-86dc-06a1ec80f942"
      },
      "outputs": [
        {
          "data": {
            "text/plain": [
              "38.68470875376426"
            ]
          },
          "execution_count": 15,
          "metadata": {},
          "output_type": "execute_result"
        }
      ],
      "source": [
        "# Clipping Ages to Range 20–80\n",
        "MAX_AGE = 80\n",
        "MIN_AGE = 20\n",
        "\n",
        "dataset_clipped_clipping = dataset.copy()\n",
        "dataset_clipped_clipping[\"age\"] = dataset_clipped_clipping[\"age\"].clip(lower=MIN_AGE, upper=MAX_AGE)\n",
        "n = len(dataset_clipped_clipping)\n",
        "\n",
        "sensitivity_clipping = (MAX_AGE - MIN_AGE) / n\n",
        "private_avg_clipping = laplace_mechanism(average_query(dataset_clipped_clipping, 'age'), s1=sensitivity_clipping, eps=0.01, random_state=42)\n",
        "\n",
        "private_avg_clipping"
      ]
    },
    {
      "cell_type": "markdown",
      "metadata": {
        "id": "MS9k7TVgihIz"
      },
      "source": [
        "<div style=\"text-align: font-family: 'Arial', sans-serif;\">\n",
        "    <h2 style=\"color: #2c3e50;\">Question 7 (average over a subset) (6 Points)</h2>\n",
        "</div>"
      ]
    },
    {
      "cell_type": "markdown",
      "metadata": {
        "id": "8Dup3wZEihIz"
      },
      "source": [
        "We would now like to compute the average age of divorced people. How can we use the Laplace mechanism to privately answer this query? Implement your solution."
      ]
    },
    {
      "cell_type": "code",
      "execution_count": 16,
      "metadata": {
        "colab": {
          "base_uri": "https://localhost:8080/"
        },
        "id": "SijVvtmjNo4S",
        "outputId": "02686dd6-a355-4aba-9eb7-fb06bcd382a5"
      },
      "outputs": [
        {
          "data": {
            "text/plain": [
              "43.159203980099505"
            ]
          },
          "execution_count": 16,
          "metadata": {},
          "output_type": "execute_result"
        }
      ],
      "source": [
        "# Actual\n",
        "dataset[dataset['marital-status'] == 'Divorced']['age'].mean()"
      ]
    },
    {
      "cell_type": "code",
      "execution_count": 17,
      "metadata": {
        "colab": {
          "base_uri": "https://localhost:8080/"
        },
        "id": "yl5Z3HO3Pr4s",
        "outputId": "e61dab54-b789-4338-fee0-2b209e578766"
      },
      "outputs": [
        {
          "data": {
            "text/plain": [
              "42.84559836297675"
            ]
          },
          "execution_count": 17,
          "metadata": {},
          "output_type": "execute_result"
        }
      ],
      "source": [
        "# Private answer\n",
        "subset = dataset[dataset['marital-status'] == 'Divorced']\n",
        "n_subset = len(subset)\n",
        "\n",
        "ages = subset[\"age\"]\n",
        "min_age, max_age = ages.min(), ages.max()\n",
        "sensitivity = (max_age - min_age) / n_subset\n",
        "\n",
        "private_avg = laplace_mechanism(average_query(subset, 'age'), s1=sensitivity, eps=0.01, random_state=42)\n",
        "\n",
        "private_avg"
      ]
    },
    {
      "cell_type": "markdown",
      "metadata": {
        "id": "6T6415dEihI0"
      },
      "source": [
        "<div style=\"text-align: font-family: 'Arial', sans-serif;\">\n",
        "    <h2 style=\"color: #2c3e50;\">Question 8 (non-private SGD) (17 Points)</h2>\n",
        "</div>"
      ]
    },
    {
      "cell_type": "markdown",
      "metadata": {
        "id": "sE28QfYEihI0"
      },
      "source": [
        "In this question, we will implement our own simple version of SGD, as well as define our own sklearn-compatible $\\ell_2$-regularized logistic regression estimator. This will be convenient when we will implement a differentially private version in Question 9.\n",
        "\n",
        "Below, you are given several pieces of code:\n",
        "1. A function `sgd` which implements SGD: it is meant to be generic in the sense that it takes as input a function `obj_and_grad` which computes the value and the gradient of the desired objective function. **This function has missing parts that you need to complete**.\n",
        "\n",
        "\n",
        "2. A function `my_logistic_obj_and_grad` (adapted from [the version from sklearn](https://github.com/scikit-learn/scikit-learn/blob/0fb307bf39bbdacd6ed713c00724f8f871d60370/sklearn/linear_model/_logistic.py#L84)) which computes the value and gradient of the logistic regression problem. You do not need to modify this function.\n",
        "\n",
        "\n",
        "3. A class `MySGDLogisticRegression` which defines a sklearn estimator for logistic regression, where the model is fit using SGD using the previous two functions. You do not need to modify this function.\n",
        "\n",
        "Spend a bit of time to get familiar with the code provided, then complete the missing bits in the `sgd` function. Make sure it works by trying it on the binary classification dataset that you previously loaded."
      ]
    },
    {
      "cell_type": "code",
      "execution_count": 18,
      "metadata": {
        "id": "i9KuP9qDihI0"
      },
      "outputs": [],
      "source": [
        "def sgd(X, y, gamma, n_iter, obj_and_grad, theta_init, n_batch=1, freq_obj_eval=10,\n",
        "        n_obj_eval=1000, random_state=None):\n",
        "    \"\"\"Stochastic Gradient Descent (SGD) algorithm\n",
        "\n",
        "    Parameters\n",
        "    ----------\n",
        "    X : array, shape (n, d)\n",
        "        The data\n",
        "    y : array, shape (n,)\n",
        "        Binary labels (-1, 1).\n",
        "    gamma : float | callable\n",
        "        The step size. Can be a constant float or a function\n",
        "        that allows to have a variable step size\n",
        "    n_iter : int\n",
        "        The number of iterations\n",
        "    obj_and_grad : callable\n",
        "        A function which takes as a vector of shape (p,), a dataset of shape (n_batch, d)\n",
        "        and a label vector of shape (n_batch,), and returns the objective value and gradient.\n",
        "    theta_init : array, shape (p,)\n",
        "        The initial value for the model parameters\n",
        "    n_batch : int\n",
        "        Size of the mini-batch to use at each iteration of SGD.\n",
        "    freq_obj_eval : int\n",
        "        Specifies the frequency (in number of iterations) at which we compute the objective\n",
        "    n_obj_eval : int\n",
        "        The number of points on which we evaluate the objective\n",
        "    random_state : int\n",
        "        Random seed to make the algorithm deterministic\n",
        "\n",
        "\n",
        "    Returns\n",
        "    -------\n",
        "    theta : array, shape=(p,)\n",
        "        The final value of the model parameters\n",
        "    obj_list : list of length (n_iter / freq_obj_eval)\n",
        "        A list containing the value of the objective function computed every freq_obj_eval iterations\n",
        "    \"\"\"\n",
        "\n",
        "    rng = np.random.RandomState(random_state)\n",
        "    n, d = X.shape\n",
        "    p = theta_init.shape[0]\n",
        "\n",
        "    theta = theta_init.copy()\n",
        "\n",
        "    # if a constant step size was provided, we turn it into a constant function\n",
        "    if not callable(gamma):\n",
        "        def gamma_func(t):\n",
        "            return gamma\n",
        "    else:\n",
        "        gamma_func = gamma\n",
        "\n",
        "    # list to record the evolution of the objective (for plotting)\n",
        "    obj_list = []\n",
        "    # we draw a fixed subset of points to monitor the objective\n",
        "    idx_eval = rng.randint(0, n, n_obj_eval)\n",
        "\n",
        "    for t in range(n_iter):\n",
        "        if t % freq_obj_eval == 0:\n",
        "            # evaluate objective\n",
        "            obj, _ = obj_and_grad(theta, X[idx_eval, :], y[idx_eval])\n",
        "            obj_list.append(obj)\n",
        "\n",
        "        # TO COMPLETE\n",
        "        for i in range(n // n_batch):\n",
        "            obj, grad = obj_and_grad(theta, X[i * n_batch : (i+1) * n_batch , :], y[i * n_batch : (i+1) * n_batch])\n",
        "            theta = theta - gamma_func(t) * grad\n",
        "            print(f\"Step #{t} | Batch #{i} | obj = {obj}\", end='\\r')\n",
        "\n",
        "    return theta, obj_list"
      ]
    },
    {
      "cell_type": "code",
      "execution_count": 92,
      "metadata": {
        "id": "2eBu1ZcEihI0"
      },
      "outputs": [],
      "source": [
        "from sklearn.linear_model._base import LinearClassifierMixin, SparseCoefMixin, BaseEstimator\n",
        "from sklearn.utils.extmath import safe_sparse_dot\n",
        "from scipy.special import expit\n",
        "from sklearn.utils.validation import check_X_y\n",
        "\n",
        "def _intercept_dot(theta, X, y):\n",
        "    \"\"\"\n",
        "    Compute the dot product of X and coef, adding the intercept if present.\n",
        "    Parameters\n",
        "    ----------\n",
        "    theta : array, shape (d,) or (d+1,)\n",
        "        Model parameters including coefficients and optional intercept.\n",
        "    X : array, shape (n_samples, n_features)\n",
        "        Feature matrix.\n",
        "    y : array, shape (n_samples,)\n",
        "        Labels (-1, 1).\n",
        "\n",
        "    Returns\n",
        "    -------\n",
        "    w : array, shape (d,)\n",
        "        Coefficients (excluding the intercept).\n",
        "    c : float\n",
        "        Intercept.\n",
        "    yz : array, shape (n_samples,)\n",
        "        Product of y and (X @ w + c).\n",
        "    \"\"\"\n",
        "    n_features = X.shape[1]\n",
        "    w = theta[:n_features]\n",
        "    c = theta[n_features] if theta.shape[0] > n_features else 0.0\n",
        "    yz = y * (np.dot(X, w) + c)\n",
        "    return w, c, yz\n",
        "\n",
        "def log_logistic(x):\n",
        "    \"\"\"\n",
        "    Compute the log of the logistic function.\n",
        "    Parameters\n",
        "    ----------\n",
        "    x : array, shape (n_samples,)\n",
        "        Input values.\n",
        "\n",
        "    Returns\n",
        "    -------\n",
        "    log_logistic_values : array, shape (n_samples,)\n",
        "        Log-logistic values.\n",
        "    \"\"\"\n",
        "    return -np.logaddexp(0, -x)\n",
        "\n",
        "\n",
        "def my_logistic_obj_and_grad(theta, X, y, lamb):\n",
        "    \"\"\"Computes the value and gradient of the objective function of logistic regression defined as:\n",
        "    min (1/n) \\sum_i log_loss(theta;X[i,:],y[i]) + (lamb / 2) \\|w\\|^2,\n",
        "    where theta = w (if no intercept), or theta = [w b] (if intercept)\n",
        "\n",
        "    Parameters\n",
        "    ----------\n",
        "    theta_init : array, shape (d,) or (d+1,)\n",
        "        The initial value for the model parameters. When an intercept is used, it corresponds to the last entry\n",
        "    X : array, shape (n, d)\n",
        "        The data\n",
        "    y : array, shape (n,)\n",
        "        Binary labels (-1, 1)\n",
        "    lamb : float\n",
        "        The L2 regularization parameter\n",
        "\n",
        "\n",
        "    Returns\n",
        "    -------\n",
        "    obj : float\n",
        "        The value of the objective function\n",
        "    grad : array, shape (d,) or (d+1,)\n",
        "        The gradient of the objective function\n",
        "    \"\"\"\n",
        "    n_samples, n_features = X.shape\n",
        "    grad = np.empty_like(theta)\n",
        "\n",
        "    w, c, yz = _intercept_dot(theta, X, y)\n",
        "\n",
        "    # Logistic loss is the negative of the log of the logistic function\n",
        "    obj = -np.mean(log_logistic(yz)) + .5 * lamb * np.dot(w, w)\n",
        "\n",
        "    z = expit(yz)\n",
        "    z0 = (z - 1) * y\n",
        "\n",
        "    grad[:n_features] = safe_sparse_dot(X.T, z0) / n_samples + lamb * w\n",
        "\n",
        "    # Case where we fit the intercept\n",
        "    if grad.shape[0] > n_features:\n",
        "        grad[-1] = z0.sum() / n_samples\n",
        "    return obj, grad\n",
        "\n",
        "\n",
        "class MySGDLogisticRegression(BaseEstimator, LinearClassifierMixin, SparseCoefMixin):\n",
        "    \"\"\"Our own sklearn estimator for logistic regression defined as:\n",
        "    min (1/n) \\sum_i log_loss(theta;X[i,:],y[i]) + (lamb / 2) \\|w\\|^2,\n",
        "    where theta = [w b]\n",
        "\n",
        "    Parameters\n",
        "    ----------\n",
        "    gamma : float | callable\n",
        "        The step size. Can be a constant float or a function\n",
        "        that allows to have a variable step size\n",
        "    n_iter : int\n",
        "        The number of iterations\n",
        "    lamb : float\n",
        "        The L2 regularization parameter\n",
        "    n_batch : int\n",
        "        Size of the mini-batch to use at each iteration of SGD.\n",
        "    freq_obj_eval : int\n",
        "        Specifies the frequency (in number of iterations) at which we compute the objective\n",
        "    n_obj_eval : int\n",
        "        The number of points on which we evaluate the objectuve\n",
        "    random_state : int\n",
        "        Random seed to make the algorithm deterministic\n",
        "\n",
        "    Attributes\n",
        "    ----------\n",
        "    coef_ : (p,)\n",
        "        The weights of the logistic regression model.\n",
        "    intercept_ : (1,)\n",
        "        The intercept term of the logistic regression model.\n",
        "    obj_list_: list of length (n_iter / freq_obj_eval)\n",
        "        A list containing the value of the objective function computed every freq_loss_eval iterations\n",
        "    \"\"\"\n",
        "\n",
        "    def __init__(self, gamma, n_iter, lamb=0, n_batch=1, freq_obj_eval=10, n_obj_eval=1000, random_state=None):\n",
        "        self.gamma = gamma\n",
        "        self.n_iter = n_iter\n",
        "        self.lamb = lamb\n",
        "        self.n_batch = n_batch\n",
        "        self.freq_obj_eval = freq_obj_eval\n",
        "        self.n_obj_eval = n_obj_eval\n",
        "        self.random_state = random_state\n",
        "\n",
        "    def fit(self, X, y):\n",
        "\n",
        "        # WARNING: assumes labels are -1, 1\n",
        "        X, y = check_X_y(X, y, accept_sparse='csr', dtype=[np.float64, np.float32], order=\"C\")\n",
        "        self.classes_ = np.unique(y)\n",
        "\n",
        "        p = X.shape[1]\n",
        "        theta_init = np.zeros(p+1) # initialize parameters to zero\n",
        "        # define the function for value and gradient needed by SGD\n",
        "        obj_grad = lambda theta, X, y: my_logistic_obj_and_grad(theta, X, y, lamb=self.lamb)\n",
        "        theta, obj_list = sgd(X, y, self.gamma, self.n_iter, obj_grad, theta_init, self.n_batch,\n",
        "                              self.freq_obj_eval, self.n_obj_eval, self.random_state)\n",
        "\n",
        "        # save the learned model into the appropriate quantities used by sklearn\n",
        "        self.intercept_ = np.expand_dims(theta[-1], axis=0)\n",
        "        self.coef_ = np.expand_dims(theta[:-1], axis=0)\n",
        "\n",
        "        # also save list of objective values during optimization for plotting\n",
        "        self.obj_list_ = obj_list\n",
        "\n",
        "        return self"
      ]
    },
    {
      "cell_type": "code",
      "execution_count": 111,
      "metadata": {
        "colab": {
          "base_uri": "https://localhost:8080/"
        },
        "id": "HO0GmJD_ajwV",
        "outputId": "5f8be1fe-b761-4d45-9dbf-897e32d756ee"
      },
      "outputs": [
        {
          "data": {
            "text/plain": [
              "((800, 14), (200, 14), (800,), (200,))"
            ]
          },
          "execution_count": 111,
          "metadata": {},
          "output_type": "execute_result"
        }
      ],
      "source": [
        "X, y = make_classification(n_samples=1000, n_features=14, n_informative=10,\n",
        "                           n_redundant=4, n_classes=2, random_state=42)\n",
        "y = np.where(y == 0, -1, 1).astype(float)\n",
        "\n",
        "\n",
        "# Split the dataset into train and test sets\n",
        "X_train, X_test, y_train, y_test = train_test_split(X, y, train_size=0.80, random_state=42)\n",
        "(X_train.shape, X_test.shape, y_train.shape, y_test.shape)"
      ]
    },
    {
      "cell_type": "code",
      "execution_count": 112,
      "metadata": {
        "colab": {
          "base_uri": "https://localhost:8080/",
          "height": 466
        },
        "id": "TZ0ZbCFeihI1",
        "outputId": "f1cc735a-ec5b-4bbf-e10c-088ec55572bf"
      },
      "outputs": [
        {
          "name": "stdout",
          "output_type": "stream",
          "text": [
            "Test accuracy 0.86\n"
          ]
        },
        {
          "data": {
            "image/png": "[encoded data removed]",
            "text/plain": [
              "<Figure size 640x480 with 1 Axes>"
            ]
          },
          "metadata": {},
          "output_type": "display_data"
        }
      ],
      "source": [
        "lamb = 0\n",
        "n_iter = 2000\n",
        "n_batch = 100\n",
        "gamma = 0.1\n",
        "# gamma = lambda t: 1 / np.sqrt(t)\n",
        "\n",
        "mlr = MySGDLogisticRegression(gamma, n_iter, lamb, n_batch=n_batch, random_state=None)\n",
        "mlr.fit(X_train, y_train)\n",
        "print(\"Test accuracy\", mlr.score(X_test, y_test))\n",
        "\n",
        "obj_list = mlr.obj_list_\n",
        "iter_list = np.arange(len(obj_list)) * mlr.freq_obj_eval\n",
        "plt.plot(iter_list, obj_list)\n",
        "plt.xlabel(\"Iteration\")\n",
        "plt.ylabel(\"Objective function\")\n",
        "plt.show()"
      ]
    },
    {
      "cell_type": "markdown",
      "metadata": {
        "id": "uGxsIuRNihI1"
      },
      "source": [
        "<div style=\"text-align: font-family: 'Arial', sans-serif;\">\n",
        "    <h2 style=\"color: #2c3e50;\">Question 9 (private SGD) (18 Points)</h2>\n",
        "</div>"
      ]
    },
    {
      "cell_type": "markdown",
      "metadata": {
        "id": "Pd0r-FM8ihI1"
      },
      "source": [
        "We will now implement and experiment with DP-SGD:\n",
        "1. Following the model of the function `sgd`, implement a new function `private_sgd` which implements DP-SGD **with mini-batch size of 1 and no regularization**. It can take as input the desired value of $\\epsilon$ and $\\delta$ for the $(\\epsilon,\\delta)$-DP, or alternatively the standard deviation of the Gaussian noise to add at each iteration. Note: you do not need to make the objective plotting part private (this is only for monitoring).\n",
        "\n",
        "\n",
        "2. Following the model of the class `MySGDLogisticRegression`, implement a new class `MyPrivateSGDLogisticRegression` which implements differentially private logistic regression trained using your DP-SGD implementation above.\n",
        "\n",
        "\n",
        "3. Experiment with different values of $\\epsilon$ and $\\delta$, number of iterations and step size, and study the effect on the convergence of SGD as well as the test accuracy of the resulting model. Describe your observations. How should the number of iterations depend on the level of privacy? How can we choose the number of iterations and step size in practice?"
      ]
    },
    {
      "cell_type": "code",
      "execution_count": 114,
      "metadata": {
        "id": "r3fgVOFDihI1"
      },
      "outputs": [],
      "source": [
        "# code\n",
        "\n",
        "def private_sgd(X, y, gamma, n_iter, obj_and_grad, theta_init, epsilon, delta, n_batch=1, freq_obj_eval=10,\n",
        "        n_obj_eval=1000, random_state=None):\n",
        "\n",
        "    rng = np.random.RandomState(random_state)\n",
        "    n, d = X.shape\n",
        "    p = theta_init.shape[0]\n",
        "\n",
        "    theta = theta_init.copy()\n",
        "\n",
        "    # if a constant step size was provided, we turn it into a constant function\n",
        "    if not callable(gamma):\n",
        "        def gamma_func(t):\n",
        "            return gamma\n",
        "    else:\n",
        "        gamma_func = gamma\n",
        "\n",
        "    # list to record the evolution of the objective (for plotting)\n",
        "    obj_list = []\n",
        "    # we draw a fixed subset of points to monitor the objective\n",
        "    idx_eval = rng.randint(0, n, n_obj_eval)\n",
        "\n",
        "    for t in range(n_iter):\n",
        "        if t % freq_obj_eval == 0:\n",
        "            # evaluate objective\n",
        "            obj, _ = obj_and_grad(theta, X[idx_eval, :], y[idx_eval])\n",
        "            obj_list.append(obj)\n",
        "\n",
        "        for i in range(n // n_batch):\n",
        "            obj, grad = obj_and_grad(theta, X[i * n_batch : (i+1) * n_batch , :], y[i * n_batch : (i+1) * n_batch])\n",
        "\n",
        "            sigma = 16 * np.sqrt(n_iter * np.log(2/delta) * np.log(2.5*n_iter/(delta*n))) / (n * epsilon)\n",
        "            noise = rng.normal(0, sigma, p)\n",
        "\n",
        "            theta = theta - gamma_func(t) * grad + noise\n",
        "            print(f\"Step #{t} | Batch #{i} | obj = {obj}\", end='\\r')\n",
        "\n",
        "    return theta, obj_list\n"
      ]
    },
    {
      "cell_type": "code",
      "execution_count": 115,
      "metadata": {
        "id": "GBB6VPyUhgiH"
      },
      "outputs": [],
      "source": [
        "class MyPrivateSGDLogisticRegression(BaseEstimator, LinearClassifierMixin, SparseCoefMixin):\n",
        "\n",
        "    def __init__(self, gamma, n_iter, epsilon, delta, lamb=0, n_batch=1, freq_obj_eval=10, n_obj_eval=1000, random_state=None):\n",
        "        self.gamma = gamma\n",
        "        self.n_iter = n_iter\n",
        "        self.lamb = lamb\n",
        "        self.n_batch = n_batch\n",
        "        self.freq_obj_eval = freq_obj_eval\n",
        "        self.n_obj_eval = n_obj_eval\n",
        "        self.random_state = random_state\n",
        "\n",
        "        self.epsilon = epsilon\n",
        "        self.delta = delta\n",
        "\n",
        "    def fit(self, X, y):\n",
        "\n",
        "        # WARNING: assumes labels are -1, 1\n",
        "        X, y = check_X_y(X, y, accept_sparse='csr', dtype=[np.float64, np.float32], order=\"C\")\n",
        "        self.classes_ = np.unique(y)\n",
        "\n",
        "        p = X.shape[1]\n",
        "        theta_init = np.zeros(p+1) # initialize parameters to zero\n",
        "        # define the function for value and gradient needed by SGD\n",
        "        obj_grad = lambda theta, X, y: my_logistic_obj_and_grad(theta, X, y, lamb=self.lamb)\n",
        "        theta, obj_list = private_sgd(X, y, self.gamma, self.n_iter, obj_grad, theta_init, self.epsilon, self.delta, self.n_batch,\n",
        "                              self.freq_obj_eval, self.n_obj_eval, self.random_state)\n",
        "\n",
        "        # save the learned model into the appropriate quantities used by sklearn\n",
        "        self.intercept_ = np.expand_dims(theta[-1], axis=0)\n",
        "        self.coef_ = np.expand_dims(theta[:-1], axis=0)\n",
        "\n",
        "        # also save list of objective values during optimization for plotting\n",
        "        self.obj_list_ = obj_list\n",
        "\n",
        "        return self"
      ]
    },
    {
      "cell_type": "code",
      "execution_count": 158,
      "metadata": {
        "id": "Gjba8P6HRQJR"
      },
      "outputs": [],
      "source": [
        "def experiment(n_iter, gamma):\n",
        "    n = X_train.shape[0]\n",
        "\n",
        "    eps_list = [0.1, 1, 5, 10]\n",
        "    delta_list = [1. / n**2, 1. / n**4]\n",
        "    n_runs = 4\n",
        "\n",
        "    fig = plt.figure()\n",
        "    ax = fig.add_subplot(1, 1, 1)\n",
        "    accuracy = np.zeros((len(eps_list), len(delta_list), n_runs))\n",
        "    for j, delta in enumerate(delta_list):\n",
        "        for i, eps in enumerate(eps_list):\n",
        "            for r in range(n_runs):\n",
        "                print(f\"delta = {delta} | epsilon = {eps} | run {r}\\n\", end = '\\r')\n",
        "                mdplr = MyPrivateSGDLogisticRegression(gamma, n_iter, epsilon=eps, delta=delta, lamb=lamb, n_batch=n_batch, random_state=None)\n",
        "                mdplr.fit(X_train, y_train)\n",
        "                accuracy[i, j, r] = mdplr.score(X_test, y_test)\n",
        "\n",
        "\n",
        "        ax.errorbar(eps_list, accuracy[:, j, :].mean(axis=1), accuracy[:, j, :].std(axis=1),\n",
        "                        label='DP-SGD ($\\delta$=' + \"{:.2e}\".format(delta) + ')')\n",
        "\n",
        "    ax.set_xticks(eps_list)\n",
        "    ax.set_xticklabels([f\"{eps:.1f}\" for eps in eps_list])\n",
        "\n",
        "    plt.xlabel(\"$\\epsilon$\")\n",
        "    plt.ylabel(\"Accuracy\")\n",
        "    ax.legend()"
      ]
    },
    {
      "cell_type": "code",
      "execution_count": 139,
      "metadata": {
        "colab": {
          "base_uri": "https://localhost:8080/",
          "height": 1000
        },
        "id": "IHP4Uw5YoLtH",
        "outputId": "d8f3ffed-2ea7-46fd-b839-1c2c60268c37"
      },
      "outputs": [
        {
          "name": "stdout",
          "output_type": "stream",
          "text": [
            "delta = 1.5625e-06 | epsilon = 0.1 | run 0\n",
            "delta = 1.5625e-06 | epsilon = 0.1 | run 1\n",
            "delta = 1.5625e-06 | epsilon = 0.1 | run 2\n",
            "delta = 1.5625e-06 | epsilon = 0.1 | run 3\n",
            "delta = 1.5625e-06 | epsilon = 1 | run 0\n",
            "delta = 1.5625e-06 | epsilon = 1 | run 1\n",
            "delta = 1.5625e-06 | epsilon = 1 | run 2\n",
            "delta = 1.5625e-06 | epsilon = 1 | run 3\n",
            "delta = 1.5625e-06 | epsilon = 5 | run 0\n",
            "delta = 1.5625e-06 | epsilon = 5 | run 1\n",
            "delta = 1.5625e-06 | epsilon = 5 | run 2\n",
            "delta = 1.5625e-06 | epsilon = 5 | run 3\n",
            "delta = 1.5625e-06 | epsilon = 10 | run 0\n",
            "delta = 1.5625e-06 | epsilon = 10 | run 1\n",
            "delta = 1.5625e-06 | epsilon = 10 | run 2\n",
            "delta = 1.5625e-06 | epsilon = 10 | run 3\n",
            "delta = 2.44140625e-12 | epsilon = 0.1 | run 0\n",
            "delta = 2.44140625e-12 | epsilon = 0.1 | run 1\n",
            "delta = 2.44140625e-12 | epsilon = 0.1 | run 2\n",
            "delta = 2.44140625e-12 | epsilon = 0.1 | run 3\n",
            "delta = 2.44140625e-12 | epsilon = 1 | run 0\n",
            "delta = 2.44140625e-12 | epsilon = 1 | run 1\n",
            "delta = 2.44140625e-12 | epsilon = 1 | run 2\n",
            "delta = 2.44140625e-12 | epsilon = 1 | run 3\n",
            "delta = 2.44140625e-12 | epsilon = 5 | run 0\n",
            "delta = 2.44140625e-12 | epsilon = 5 | run 1\n",
            "delta = 2.44140625e-12 | epsilon = 5 | run 2\n",
            "delta = 2.44140625e-12 | epsilon = 5 | run 3\n",
            "delta = 2.44140625e-12 | epsilon = 10 | run 0\n",
            "delta = 2.44140625e-12 | epsilon = 10 | run 1\n",
            "delta = 2.44140625e-12 | epsilon = 10 | run 2\n",
            "delta = 2.44140625e-12 | epsilon = 10 | run 3\n"
          ]
        },
        {
          "data": {
            "image/png": "[encoded data removed]",
            "text/plain": [
              "<Figure size 640x480 with 1 Axes>"
            ]
          },
          "metadata": {},
          "output_type": "display_data"
        }
      ],
      "source": [
        "# test different epsilon and delta\n",
        "lamb = 0\n",
        "n_iter = 200\n",
        "n_batch = 100\n",
        "gamma = 0.1\n",
        "\n",
        "experiment(n_iter, gamma)"
      ]
    },
    {
      "cell_type": "markdown",
      "metadata": {
        "id": "O6W2KP90p2l3"
      },
      "source": [
        "**As expected, stricter privacy settings with lower ϵ and δ result in increased noise during gradient descent, which in turn leads to a reduction in accuracy.**"
      ]
    },
    {
      "cell_type": "code",
      "execution_count": 161,
      "metadata": {
        "colab": {
          "base_uri": "https://localhost:8080/",
          "height": 1000
        },
        "id": "rWyb5VDOwbMr",
        "outputId": "98af018c-ac94-4d31-b808-6331cd5514a4"
      },
      "outputs": [
        {
          "name": "stdout",
          "output_type": "stream",
          "text": [
            "delta = 1.5625e-06 | epsilon = 0.1 | run 0\n",
            "delta = 1.5625e-06 | epsilon = 0.1 | run 1\n",
            "delta = 1.5625e-06 | epsilon = 0.1 | run 2\n",
            "delta = 1.5625e-06 | epsilon = 0.1 | run 3\n",
            "delta = 1.5625e-06 | epsilon = 1 | run 0\n",
            "delta = 1.5625e-06 | epsilon = 1 | run 1\n",
            "delta = 1.5625e-06 | epsilon = 1 | run 2\n",
            "delta = 1.5625e-06 | epsilon = 1 | run 3\n",
            "delta = 1.5625e-06 | epsilon = 5 | run 0\n",
            "delta = 1.5625e-06 | epsilon = 5 | run 1\n",
            "delta = 1.5625e-06 | epsilon = 5 | run 2\n",
            "delta = 1.5625e-06 | epsilon = 5 | run 3\n",
            "delta = 1.5625e-06 | epsilon = 10 | run 0\n",
            "delta = 1.5625e-06 | epsilon = 10 | run 1\n",
            "delta = 1.5625e-06 | epsilon = 10 | run 2\n",
            "delta = 1.5625e-06 | epsilon = 10 | run 3\n",
            "delta = 2.44140625e-12 | epsilon = 0.1 | run 0\n",
            "delta = 2.44140625e-12 | epsilon = 0.1 | run 1\n",
            "delta = 2.44140625e-12 | epsilon = 0.1 | run 2\n",
            "delta = 2.44140625e-12 | epsilon = 0.1 | run 3\n",
            "delta = 2.44140625e-12 | epsilon = 1 | run 0\n",
            "delta = 2.44140625e-12 | epsilon = 1 | run 1\n",
            "delta = 2.44140625e-12 | epsilon = 1 | run 2\n",
            "delta = 2.44140625e-12 | epsilon = 1 | run 3\n",
            "delta = 2.44140625e-12 | epsilon = 5 | run 0\n",
            "delta = 2.44140625e-12 | epsilon = 5 | run 1\n",
            "delta = 2.44140625e-12 | epsilon = 5 | run 2\n",
            "delta = 2.44140625e-12 | epsilon = 5 | run 3\n",
            "delta = 2.44140625e-12 | epsilon = 10 | run 0\n",
            "delta = 2.44140625e-12 | epsilon = 10 | run 1\n",
            "delta = 2.44140625e-12 | epsilon = 10 | run 2\n",
            "delta = 2.44140625e-12 | epsilon = 10 | run 3\n"
          ]
        },
        {
          "data": {
            "image/png": "[encoded data removed]",
            "text/plain": [
              "<Figure size 640x480 with 1 Axes>"
            ]
          },
          "metadata": {},
          "output_type": "display_data"
        }
      ],
      "source": [
        "# test more interations\n",
        "lamb = 0\n",
        "n_iter = 1000\n",
        "n_batch = 100\n",
        "gamma = 0.1\n",
        "\n",
        "experiment(n_iter, gamma)"
      ]
    },
    {
      "cell_type": "markdown",
      "metadata": {
        "id": "IGncOAsh2TEm"
      },
      "source": [
        "**With an increased number of iterations, accuracy improves slightly for lower values of ϵ and δ, and it may also result in strong overall performance.**\n"
      ]
    },
    {
      "cell_type": "code",
      "execution_count": 148,
      "metadata": {
        "colab": {
          "base_uri": "https://localhost:8080/",
          "height": 1000
        },
        "id": "sZlfchs4gFYe",
        "outputId": "ba5d5669-a466-4b0d-b7f7-6f3b584c1806"
      },
      "outputs": [
        {
          "name": "stdout",
          "output_type": "stream",
          "text": [
            "delta = 1.5625e-06 | epsilon = 0.1 | run 0\n",
            "delta = 1.5625e-06 | epsilon = 0.1 | run 1\n",
            "delta = 1.5625e-06 | epsilon = 0.1 | run 2\n",
            "delta = 1.5625e-06 | epsilon = 0.1 | run 3\n",
            "delta = 1.5625e-06 | epsilon = 1 | run 0\n",
            "delta = 1.5625e-06 | epsilon = 1 | run 1\n",
            "delta = 1.5625e-06 | epsilon = 1 | run 2\n",
            "delta = 1.5625e-06 | epsilon = 1 | run 3\n",
            "delta = 1.5625e-06 | epsilon = 5 | run 0\n",
            "delta = 1.5625e-06 | epsilon = 5 | run 1\n",
            "delta = 1.5625e-06 | epsilon = 5 | run 2\n",
            "delta = 1.5625e-06 | epsilon = 5 | run 3\n",
            "delta = 1.5625e-06 | epsilon = 10 | run 0\n",
            "delta = 1.5625e-06 | epsilon = 10 | run 1\n",
            "delta = 1.5625e-06 | epsilon = 10 | run 2\n",
            "delta = 1.5625e-06 | epsilon = 10 | run 3\n",
            "delta = 2.44140625e-12 | epsilon = 0.1 | run 0\n",
            "delta = 2.44140625e-12 | epsilon = 0.1 | run 1\n",
            "delta = 2.44140625e-12 | epsilon = 0.1 | run 2\n",
            "delta = 2.44140625e-12 | epsilon = 0.1 | run 3\n",
            "delta = 2.44140625e-12 | epsilon = 1 | run 0\n",
            "delta = 2.44140625e-12 | epsilon = 1 | run 1\n",
            "delta = 2.44140625e-12 | epsilon = 1 | run 2\n",
            "delta = 2.44140625e-12 | epsilon = 1 | run 3\n",
            "delta = 2.44140625e-12 | epsilon = 5 | run 0\n",
            "delta = 2.44140625e-12 | epsilon = 5 | run 1\n",
            "delta = 2.44140625e-12 | epsilon = 5 | run 2\n",
            "delta = 2.44140625e-12 | epsilon = 5 | run 3\n",
            "delta = 2.44140625e-12 | epsilon = 10 | run 0\n",
            "delta = 2.44140625e-12 | epsilon = 10 | run 1\n",
            "delta = 2.44140625e-12 | epsilon = 10 | run 2\n",
            "delta = 2.44140625e-12 | epsilon = 10 | run 3\n"
          ]
        },
        {
          "data": {
            "image/png": "[encoded data removed]",
            "text/plain": [
              "<Figure size 640x480 with 1 Axes>"
            ]
          },
          "metadata": {},
          "output_type": "display_data"
        }
      ],
      "source": [
        "# test different gamma(step size)\n",
        "lamb = 0\n",
        "n_iter = 200\n",
        "n_batch = 100\n",
        "gamma = 0.5\n",
        "\n",
        "experiment(n_iter, gamma)"
      ]
    },
    {
      "cell_type": "markdown",
      "metadata": {
        "id": "Fd5pi-FmzwC3"
      },
      "source": [
        "**As the step size increases, the standard deviation of runs for a specific ϵ and δ also increases, while a smaller step size helps with more convergence.**"
      ]
    },
    {
      "cell_type": "markdown",
      "metadata": {
        "id": "95FgoHwqihI2"
      },
      "source": [
        "<div style=\"text-align: font-family: 'Arial', sans-serif;\">\n",
        "    <h2 style=\"color: #2c3e50;\">Optional: Question 10 (federated learning with DP: DP-SGD in the distributed model) (20 Points)</h2>\n",
        "</div>"
      ]
    },
    {
      "cell_type": "markdown",
      "metadata": {
        "id": "Xy8nLkF6ihI2"
      },
      "source": [
        "Enough with these simple queries! Let's train a machine learning model in the federated learning, in which $n$ participants with their own datasets collaborate to train a joint model. Each participant $i$ wants to ensure that the algorithm satisfies $(\\epsilon,\\delta)$-DP with respect to his/her own dataset $D_i$. This is sometimes referred to as the distributed model of DP. Note that if each participant has a dataset of size 1 then this is exactly local DP. However, the privacy-utility trade-off will be better when participants have more data points, which is what we consider below.\n",
        "\n",
        "The following code loads the US Census dataset in one-hot encoded version. Feel free to use another binary classification dataset of your choice instead."
      ]
    },
    {
      "cell_type": "code",
      "execution_count": null,
      "metadata": {
        "id": "XC5DKxvDihI2"
      },
      "outputs": [],
      "source": [
        "X, y = fetch_openml(name='a9a', version=1, return_X_y=True, as_frame=False)\n",
        "normalizer = Normalizer()\n",
        "X = normalizer.transform(X)\n",
        "m, d = X.shape\n",
        "print(m, d)"
      ]
    },
    {
      "cell_type": "markdown",
      "metadata": {
        "id": "v35s4zr4ihI2"
      },
      "source": [
        "Consider a setting with $n=5$ participants. To simulate the federated learning setting, we will split the dataset in $n$ local datasets of roughly equal size. To do this, we use `sklearn.model_selection.KFold`."
      ]
    },
    {
      "cell_type": "code",
      "execution_count": null,
      "metadata": {
        "id": "5RZtE4aHihI2"
      },
      "outputs": [],
      "source": [
        "n = 5\n",
        "features = {}\n",
        "labels = {}\n",
        "for i, idx in enumerate(KFold(n_splits=n, shuffle=True).split(X)):\n",
        "    features[i] = X[idx[1],:]\n",
        "    labels[i] = y[idx[1]]\n",
        "\n",
        "for i in range(n):\n",
        "    print(\"Dataset of participant \" + str(i) + \":\", features[i].shape, labels[i].shape)"
      ]
    },
    {
      "cell_type": "markdown",
      "metadata": {
        "id": "UYKRyJpkihI2"
      },
      "source": [
        "We would now like to train a logistic regression classifier with DP-SGD in the federated setting. For simplicity of exposition, assume the presence of an *untrusted* aggregator. The algorithm follows an interative process, where each iteration consists of the following steps:\n",
        "1. The trusted aggregator sends the current parameters of the model to the participants.\n",
        "\n",
        "2. Each participant $i$ computes a stochastic gradient using a mini-batch from his local dataset $D_i$, adds Gaussian noise locally to ensure DP, and sends it to the untrusted aggregator.\n",
        "\n",
        "3. The untrusted aggregator averages these gradients and use the result to update the model with a gradient step.\n",
        "\n",
        "How much Gaussian noise should each participant add at each iteration to ensure an $(\\epsilon,\\delta)$-DP guarantee for the entire algorithm?\n",
        "\n",
        "Adapt your centralized DP-SGD code from the previous practical to simulate this federated learning version. Compare the utility with the centralized version, studying in particular the effect of the number of participants.\n",
        "\n",
        "Suppose that the local dataset sizes are imbalanced across participants. How does this affect the Gaussian noise added by each participant? How does this effect the utility? Suggest an appropriate weighted aggregation scheme to mitigate this."
      ]
    },
    {
      "cell_type": "code",
      "execution_count": null,
      "metadata": {
        "id": "ja_-IBTQihI2"
      },
      "outputs": [],
      "source": []
    }
  ],
  "metadata": {
    "colab": {
      "provenance": []
    },
    "kernelspec": {
      "display_name": "Python 3",
      "language": "python",
      "name": "python3"
    },
    "language_info": {
      "codemirror_mode": {
        "name": "ipython",
        "version": 3
      },
      "file_extension": ".py",
      "mimetype": "text/x-python",
      "name": "python",
      "nbconvert_exporter": "python",
      "pygments_lexer": "ipython3",
      "version": "3.8.8"
    }
  },
  "nbformat": 4,
  "nbformat_minor": 0
}

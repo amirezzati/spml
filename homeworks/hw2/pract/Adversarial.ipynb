{
  "cells": [
    {
      "cell_type": "markdown",
      "metadata": {
        "id": "HDcKQffE2mt2"
      },
      "source": [
        "In this notebook, you will explore adversarial attacks and training methods in deep learning. First, you will train a simple model, ResNet18, on the CIFAR-10 dataset. Next, you will learn about two different adversarial attacks: FGSM (Fast Gradient Sign Method), PGD (Projected Gradient Descent) and UAP (Universal adversarial perturbations). To enhance your understanding, you will implement the PGD and UAP attack from scratch, while the FGSM attack will be implemented using a library. After this, you will use the FGSM attack to generate adversarial examples and then perform adversarial training on the model using the CIFAR-10 dataset. Finally, you will compare the performance and robustness of the adversarially trained model with the original model.\n",
        "\n",
        "Good luck!"
      ]
    },
    {
      "cell_type": "markdown",
      "metadata": {
        "id": "s6rvuzX32mt9"
      },
      "source": [
        "## outline\n",
        "- Train Resnet on CIFAR10\n",
        "- FGSM Attack using torchattacks\n",
        "- PGD Attack from scratch\n",
        "- UAP Attack from scratch\n",
        "- Visualization\n",
        "- Adversarial Training\n"
      ]
    },
    {
      "cell_type": "markdown",
      "metadata": {
        "id": "Mga6LJGv2muA"
      },
      "source": [
        "Name: Amir Mohammad Ezzati\n",
        "\n",
        "Student Number: 402212269"
      ]
    },
    {
      "cell_type": "code",
      "execution_count": null,
      "metadata": {
        "colab": {
          "base_uri": "https://localhost:8080/"
        },
        "id": "Hd800FtM3Dl1",
        "outputId": "c46c83f3-18d8-4a2e-bd1c-9f9b26dd863e"
      },
      "outputs": [
        {
          "name": "stdout",
          "output_type": "stream",
          "text": [
            "\u001b[2K     \u001b[90m━━━━━━━━━━━━━━━━━━━━━━━━━━━━━━━━━━━━━━━━\u001b[0m \u001b[32m50.1/50.1 kB\u001b[0m \u001b[31m2.3 MB/s\u001b[0m eta \u001b[36m0:00:00\u001b[0m\n",
            "\u001b[2K   \u001b[90m━━━━━━━━━━━━━━━━━━━━━━━━━━━━━━━━━━━━━━━━\u001b[0m \u001b[32m142.0/142.0 kB\u001b[0m \u001b[31m7.5 MB/s\u001b[0m eta \u001b[36m0:00:00\u001b[0m\n",
            "\u001b[2K   \u001b[90m━━━━━━━━━━━━━━━━━━━━━━━━━━━━━━━━━━━━━━━━\u001b[0m \u001b[32m61.2/61.2 kB\u001b[0m \u001b[31m4.6 MB/s\u001b[0m eta \u001b[36m0:00:00\u001b[0m\n",
            "\u001b[2K   \u001b[90m━━━━━━━━━━━━━━━━━━━━━━━━━━━━━━━━━━━━━━━━\u001b[0m \u001b[32m178.7/178.7 kB\u001b[0m \u001b[31m13.4 MB/s\u001b[0m eta \u001b[36m0:00:00\u001b[0m\n",
            "\u001b[2K   \u001b[90m━━━━━━━━━━━━━━━━━━━━━━━━━━━━━━━━━━━━━━━━\u001b[0m \u001b[32m58.8/58.8 kB\u001b[0m \u001b[31m4.5 MB/s\u001b[0m eta \u001b[36m0:00:00\u001b[0m\n",
            "\u001b[2K   \u001b[90m━━━━━━━━━━━━━━━━━━━━━━━━━━━━━━━━━━━━━━━━\u001b[0m \u001b[32m144.2/144.2 kB\u001b[0m \u001b[31m11.0 MB/s\u001b[0m eta \u001b[36m0:00:00\u001b[0m\n",
            "\u001b[?25h\u001b[31mERROR: pip's dependency resolver does not currently take into account all the packages that are installed. This behaviour is the source of the following dependency conflicts.\n",
            "bigframes 1.25.0 requires requests>=2.27.1, but you have requests 2.25.1 which is incompatible.\n",
            "google-colab 1.0.0 requires requests==2.32.3, but you have requests 2.25.1 which is incompatible.\n",
            "tweepy 4.14.0 requires requests<3,>=2.27.0, but you have requests 2.25.1 which is incompatible.\n",
            "yfinance 0.2.48 requires requests>=2.31, but you have requests 2.25.1 which is incompatible.\u001b[0m\u001b[31m\n",
            "\u001b[0m"
          ]
        }
      ],
      "source": [
        "!pip install torchattacks -q"
      ]
    },
    {
      "cell_type": "code",
      "execution_count": null,
      "metadata": {
        "id": "eM3ohkaP2muD"
      },
      "outputs": [],
      "source": [
        "import torch\n",
        "import torchvision\n",
        "import torchvision.transforms as transforms\n",
        "from torchvision.models import resnet18\n",
        "import torch.nn as nn\n",
        "import torch.nn.functional as F\n",
        "import torch.optim as optim\n",
        "import numpy as np\n",
        "from torch.autograd import Variable\n",
        "from tqdm import tqdm"
      ]
    },
    {
      "cell_type": "code",
      "execution_count": null,
      "metadata": {
        "colab": {
          "base_uri": "https://localhost:8080/"
        },
        "id": "KGJNFMi22muM",
        "outputId": "e1aea43f-79a3-48ab-831e-51572b2030ca"
      },
      "outputs": [
        {
          "name": "stdout",
          "output_type": "stream",
          "text": [
            "cuda:0\n"
          ]
        }
      ],
      "source": [
        "device = 'cuda:0' if torch.cuda.is_available() else 'cpu'\n",
        "print(device)"
      ]
    },
    {
      "cell_type": "code",
      "execution_count": null,
      "metadata": {
        "colab": {
          "base_uri": "https://localhost:8080/"
        },
        "id": "uw8IL4F92NX4",
        "outputId": "cb77da65-b075-479b-8575-ce6a6f3c853c"
      },
      "outputs": [
        {
          "name": "stdout",
          "output_type": "stream",
          "text": [
            "Mounted at /content/drive\n"
          ]
        }
      ],
      "source": [
        "from google.colab import drive\n",
        "drive.mount('/content/drive')\n",
        "base_path = '/content/drive/MyDrive/SPML/'"
      ]
    },
    {
      "cell_type": "markdown",
      "metadata": {
        "id": "wUbCTGLV2muP"
      },
      "source": [
        "## Train Resnet on CIFAR10 (15 pts)"
      ]
    },
    {
      "cell_type": "code",
      "execution_count": null,
      "metadata": {
        "colab": {
          "base_uri": "https://localhost:8080/"
        },
        "id": "1bLv3GPY2muR",
        "outputId": "798bb918-2978-4a9c-e548-da4df23ad8ac"
      },
      "outputs": [
        {
          "name": "stdout",
          "output_type": "stream",
          "text": [
            "Downloading https://www.cs.toronto.edu/~kriz/cifar-10-python.tar.gz to ./data/cifar-10-python.tar.gz\n"
          ]
        },
        {
          "name": "stderr",
          "output_type": "stream",
          "text": [
            "100%|██████████| 170M/170M [00:03<00:00, 49.3MB/s]\n"
          ]
        },
        {
          "name": "stdout",
          "output_type": "stream",
          "text": [
            "Extracting ./data/cifar-10-python.tar.gz to ./data\n",
            "Files already downloaded and verified\n"
          ]
        }
      ],
      "source": [
        "# Prepare Cifar10 data\n",
        "batch_size = 128\n",
        "transform = transforms.Compose([transforms.ToTensor(),])\n",
        "\n",
        "##############################################################################\n",
        "# Prepare training and test datasets and dataloaders                         #\n",
        "##############################################################################\n",
        "trainset = torchvision.datasets.CIFAR10(root='./data', train=True, download=True, transform=transform)\n",
        "trainloader = torch.utils.data.DataLoader(trainset, batch_size=batch_size, shuffle=True, num_workers=2)\n",
        "testset = torchvision.datasets.CIFAR10(root='./data', train=False, download=True, transform=transform)\n",
        "testloader = torch.utils.data.DataLoader(testset, batch_size=batch_size, shuffle=False, num_workers=2)\n",
        "################################ End #########################################\n",
        "\n",
        "classes = ('plane', 'car', 'bird', 'cat', 'deer', 'dog', 'frog', 'horse', 'ship', 'truck')"
      ]
    },
    {
      "cell_type": "code",
      "execution_count": null,
      "metadata": {
        "colab": {
          "base_uri": "https://localhost:8080/"
        },
        "id": "xh0_l_lvBrQ4",
        "outputId": "0726d792-c32c-4720-a17a-6275e1204573"
      },
      "outputs": [
        {
          "data": {
            "text/plain": [
              "torch.Size([3, 32, 32])"
            ]
          },
          "execution_count": 6,
          "metadata": {},
          "output_type": "execute_result"
        }
      ],
      "source": [
        "trainset[0][0].shape"
      ]
    },
    {
      "cell_type": "code",
      "execution_count": null,
      "metadata": {
        "id": "ZW1wQ5RS2muV"
      },
      "outputs": [],
      "source": [
        "# model architecture\n",
        "class resnet(nn.Module):\n",
        "  def __init__(self, num_cls):\n",
        "    super().__init__()\n",
        "    self.conv = nn.Sequential(*list(resnet18(weights=None).children())[:-2])\n",
        "    self.fc = nn.Linear(512, num_cls)\n",
        "\n",
        "  def forward(self, x):\n",
        "    x = self.conv(x)\n",
        "    x = torch.flatten(x, start_dim=1)\n",
        "    logits = self.fc(x)\n",
        "    return logits\n",
        "\n",
        "##############################################################################\n",
        "# Initialize model and move to device                                        #\n",
        "##############################################################################\n",
        "\n",
        "num_classes = 10\n",
        "model = resnet(num_cls=num_classes)\n",
        "model = model.to(device)\n",
        "\n",
        "################################ End #########################################"
      ]
    },
    {
      "cell_type": "code",
      "execution_count": null,
      "metadata": {
        "id": "LD54dWFZ2mua"
      },
      "outputs": [],
      "source": [
        "learning_rate = 0.01\n",
        "criterion = nn.CrossEntropyLoss()\n",
        "optimizer = optim.SGD(model.parameters(), lr=learning_rate, momentum=0.9)\n",
        "epochs = 100"
      ]
    },
    {
      "cell_type": "code",
      "execution_count": null,
      "metadata": {
        "colab": {
          "base_uri": "https://localhost:8080/"
        },
        "id": "6HvETip32mue",
        "outputId": "f033614d-484b-4402-bafa-5dc145cb3e05"
      },
      "outputs": [
        {
          "name": "stdout",
          "output_type": "stream",
          "text": [
            "Epoch [1/100], Loss: 1.5277\n",
            "Epoch [2/100], Loss: 1.1026\n",
            "Epoch [3/100], Loss: 0.8992\n",
            "Epoch [4/100], Loss: 0.7505\n",
            "Epoch [5/100], Loss: 0.6314\n",
            "Epoch [6/100], Loss: 0.5239\n",
            "Epoch [7/100], Loss: 0.4372\n",
            "Epoch [8/100], Loss: 0.3634\n",
            "Epoch [9/100], Loss: 0.2876\n",
            "Epoch [10/100], Loss: 0.2404\n",
            "Epoch [11/100], Loss: 0.1874\n",
            "Epoch [12/100], Loss: 0.1717\n",
            "Epoch [13/100], Loss: 0.1399\n",
            "Epoch [14/100], Loss: 0.1138\n",
            "Epoch [15/100], Loss: 0.0903\n",
            "Epoch [16/100], Loss: 0.0886\n",
            "Epoch [17/100], Loss: 0.0669\n",
            "Epoch [18/100], Loss: 0.0759\n",
            "Epoch [19/100], Loss: 0.0587\n",
            "Epoch [20/100], Loss: 0.0554\n",
            "Epoch [21/100], Loss: 0.0502\n",
            "Epoch [22/100], Loss: 0.0430\n",
            "Epoch [23/100], Loss: 0.0392\n",
            "Epoch [24/100], Loss: 0.0308\n",
            "Epoch [25/100], Loss: 0.0278\n",
            "Epoch [26/100], Loss: 0.0262\n",
            "Epoch [27/100], Loss: 0.0288\n",
            "Epoch [28/100], Loss: 0.0317\n",
            "Epoch [29/100], Loss: 0.0310\n",
            "Epoch [30/100], Loss: 0.0270\n",
            "Epoch [31/100], Loss: 0.0277\n",
            "Epoch [32/100], Loss: 0.0205\n",
            "Epoch [33/100], Loss: 0.0246\n",
            "Epoch [34/100], Loss: 0.0153\n",
            "Epoch [35/100], Loss: 0.0152\n",
            "Epoch [36/100], Loss: 0.0078\n",
            "Epoch [37/100], Loss: 0.0077\n",
            "Epoch [38/100], Loss: 0.0092\n",
            "Epoch [39/100], Loss: 0.0097\n",
            "Epoch [40/100], Loss: 0.0118\n",
            "Epoch [41/100], Loss: 0.0180\n",
            "Epoch [42/100], Loss: 0.0177\n",
            "Epoch [43/100], Loss: 0.0179\n",
            "Epoch [44/100], Loss: 0.0083\n",
            "Epoch [45/100], Loss: 0.0069\n",
            "Epoch [46/100], Loss: 0.0070\n",
            "Epoch [47/100], Loss: 0.0075\n",
            "Epoch [48/100], Loss: 0.0070\n",
            "Epoch [49/100], Loss: 0.0080\n",
            "Epoch [50/100], Loss: 0.0093\n",
            "Epoch [51/100], Loss: 0.0121\n",
            "Epoch [52/100], Loss: 0.0096\n",
            "Epoch [53/100], Loss: 0.0088\n",
            "Epoch [54/100], Loss: 0.0084\n",
            "Epoch [55/100], Loss: 0.0095\n",
            "Epoch [56/100], Loss: 0.0055\n",
            "Epoch [57/100], Loss: 0.0042\n",
            "Epoch [58/100], Loss: 0.0069\n",
            "Epoch [59/100], Loss: 0.0070\n",
            "Epoch [60/100], Loss: 0.0106\n",
            "Epoch [61/100], Loss: 0.0113\n",
            "Epoch [62/100], Loss: 0.0070\n",
            "Epoch [63/100], Loss: 0.0064\n",
            "Epoch [64/100], Loss: 0.0075\n",
            "Epoch [65/100], Loss: 0.0059\n",
            "Epoch [66/100], Loss: 0.0068\n",
            "Epoch [67/100], Loss: 0.0043\n",
            "Epoch [68/100], Loss: 0.0021\n",
            "Epoch [69/100], Loss: 0.0014\n",
            "Epoch [70/100], Loss: 0.0008\n",
            "Epoch [71/100], Loss: 0.0007\n",
            "Epoch [72/100], Loss: 0.0003\n",
            "Epoch [73/100], Loss: 0.0002\n",
            "Epoch [74/100], Loss: 0.0001\n",
            "Epoch [75/100], Loss: 0.0001\n",
            "Epoch [76/100], Loss: 0.0001\n",
            "Epoch [77/100], Loss: 0.0001\n",
            "Epoch [78/100], Loss: 0.0001\n",
            "Epoch [79/100], Loss: 0.0001\n",
            "Epoch [80/100], Loss: 0.0001\n",
            "Epoch [81/100], Loss: 0.0000\n",
            "Epoch [82/100], Loss: 0.0001\n",
            "Epoch [83/100], Loss: 0.0001\n",
            "Epoch [84/100], Loss: 0.0001\n",
            "Epoch [85/100], Loss: 0.0001\n",
            "Epoch [86/100], Loss: 0.0000\n",
            "Epoch [87/100], Loss: 0.0001\n",
            "Epoch [88/100], Loss: 0.0000\n",
            "Epoch [89/100], Loss: 0.0000\n",
            "Epoch [90/100], Loss: 0.0000\n",
            "Epoch [91/100], Loss: 0.0000\n",
            "Epoch [92/100], Loss: 0.0000\n",
            "Epoch [93/100], Loss: 0.0000\n",
            "Epoch [94/100], Loss: 0.0000\n",
            "Epoch [95/100], Loss: 0.0000\n",
            "Epoch [96/100], Loss: 0.0000\n",
            "Epoch [97/100], Loss: 0.0000\n",
            "Epoch [98/100], Loss: 0.0000\n",
            "Epoch [99/100], Loss: 0.0000\n",
            "Epoch [100/100], Loss: 0.0000\n"
          ]
        }
      ],
      "source": [
        "##############################################################################\n",
        "# Implement train loop and log training loss after each epoch                #\n",
        "##############################################################################\n",
        "for epoch in range(epochs):\n",
        "    model.train()\n",
        "    running_loss = 0.0\n",
        "\n",
        "    for i, (inputs, labels) in enumerate(trainloader):\n",
        "        inputs, labels = inputs.to(device), labels.to(device)\n",
        "\n",
        "        optimizer.zero_grad()\n",
        "\n",
        "        outputs = model(inputs)\n",
        "        loss = criterion(outputs, labels)\n",
        "\n",
        "        loss.backward()\n",
        "        optimizer.step()\n",
        "        running_loss += loss.item()\n",
        "\n",
        "    avg_loss = running_loss / len(trainloader)\n",
        "    print(f\"Epoch [{epoch + 1}/{epochs}], Loss: {avg_loss:.6f}\")\n",
        "\n",
        "################################ End #########################################"
      ]
    },
    {
      "cell_type": "code",
      "execution_count": 50,
      "metadata": {
        "colab": {
          "base_uri": "https://localhost:8080/"
        },
        "id": "etObf7XJ2muh",
        "outputId": "b97da437-9908-4404-9f83-59958a499c51"
      },
      "outputs": [
        {
          "output_type": "stream",
          "name": "stdout",
          "text": [
            "Test Accuracy: 74.93%\n"
          ]
        }
      ],
      "source": [
        "##############################################################################\n",
        "# Evaluate the trained model on test set and print test accuracy             #\n",
        "##############################################################################\n",
        "\n",
        "model.eval()\n",
        "correct = 0\n",
        "total = 0\n",
        "with torch.no_grad():\n",
        "    for inputs, labels in testloader:\n",
        "        inputs, labels = inputs.to(device), labels.to(device)\n",
        "\n",
        "        outputs = model(inputs)\n",
        "        _, predicted = torch.max(outputs, 1)\n",
        "        total += labels.size(0)\n",
        "        correct += (predicted == labels).sum().item()\n",
        "\n",
        "accuracy = 100 * correct / total\n",
        "print(f'Test Accuracy: {accuracy:.2f}%')\n",
        "\n",
        "################################ End #########################################"
      ]
    },
    {
      "cell_type": "code",
      "execution_count": null,
      "metadata": {
        "id": "_amm0tTp2muj"
      },
      "outputs": [],
      "source": [
        "# Save model\n",
        "model.eval()\n",
        "model_name = \"resnet18_cifar10_model_pretrained.pth\"\n",
        "model_PATH = base_path + f\"{model_name}\"\n",
        "torch.save(model.state_dict(), model_PATH)"
      ]
    },
    {
      "cell_type": "code",
      "execution_count": 47,
      "metadata": {
        "colab": {
          "base_uri": "https://localhost:8080/"
        },
        "id": "x-QdjQ5kwodw",
        "outputId": "d7d71730-33dd-402c-88c4-5ee2b50e1c5f"
      },
      "outputs": [
        {
          "output_type": "execute_result",
          "data": {
            "text/plain": [
              "<All keys matched successfully>"
            ]
          },
          "metadata": {},
          "execution_count": 47
        }
      ],
      "source": [
        "model = resnet(num_cls=10).to(device)\n",
        "model.load_state_dict(torch.load(base_path + \"resnet18_cifar10_model_pretrained.pth\", weights_only=True))"
      ]
    },
    {
      "cell_type": "markdown",
      "metadata": {
        "id": "4dXWVFmH2mun"
      },
      "source": [
        "## FGSM Attack using torchattacks (10 pts)"
      ]
    },
    {
      "cell_type": "markdown",
      "metadata": {
        "id": "CBRqUnTp2mup"
      },
      "source": [
        "In this section you should run FGSM attack using torchattacks library (https://adversarial-attacks-pytorch.readthedocs.io/en/latest/index.html).\n",
        "\n",
        "Run the attack for $\\epsilon \\in \\{\\frac{1}{255}, \\frac{4}{255}, \\frac{8}{255},\\}$ report the performance of the model on untargeted FGSM attack on the test data."
      ]
    },
    {
      "cell_type": "code",
      "execution_count": 40,
      "metadata": {
        "colab": {
          "base_uri": "https://localhost:8080/"
        },
        "id": "Rd3fe_gf2muq",
        "outputId": "e86c4c64-b286-480a-9007-233230fec161"
      },
      "outputs": [
        {
          "output_type": "stream",
          "name": "stdout",
          "text": [
            "Accuracy on FGSM Attack with epsilon=0.00392156862745098: 53.93%\n"
          ]
        }
      ],
      "source": [
        "##############################################################################\n",
        "# run untargeted FGSM attack for epsilon = 1/255 and report its accuracy     #\n",
        "##############################################################################\n",
        "import torchattacks\n",
        "\n",
        "\n",
        "def fgsm(model, epsilon):\n",
        "  model.eval()\n",
        "  fgsm_attack = torchattacks.FGSM(model, eps=epsilon)\n",
        "\n",
        "  correct = 0\n",
        "  total = 0\n",
        "  for inputs, labels in testloader:\n",
        "    inputs, labels = inputs.to(device), labels.to(device)\n",
        "\n",
        "    # Generate adversarial examples\n",
        "    adv_inputs = fgsm_attack(inputs, labels)\n",
        "\n",
        "    with torch.no_grad():\n",
        "        outputs = model(adv_inputs)\n",
        "        _, predicted = torch.max(outputs, 1)\n",
        "        total += labels.size(0)\n",
        "        correct += (predicted == labels).sum().item()\n",
        "\n",
        "  accuracy = 100 * correct / total\n",
        "  print(f'Accuracy on FGSM Attack with epsilon={epsilon}: {accuracy:.2f}%')\n",
        "\n",
        "\n",
        "epsilon = 1/255\n",
        "fgsm(model, epsilon)\n",
        "\n",
        "################################ End #########################################"
      ]
    },
    {
      "cell_type": "code",
      "execution_count": 61,
      "metadata": {
        "colab": {
          "base_uri": "https://localhost:8080/"
        },
        "id": "NLXXpq8J2mus",
        "outputId": "3f8f0aab-effa-4af8-fdef-af5d72d6e547"
      },
      "outputs": [
        {
          "output_type": "stream",
          "name": "stdout",
          "text": [
            "Accuracy on FGSM Attack with epsilon=0.01568627450980392: 24.15%\n"
          ]
        }
      ],
      "source": [
        "##############################################################################\n",
        "# run untargeted FGSM attack for epsilon = 4/255 and report its accuracy     #\n",
        "##############################################################################\n",
        "\n",
        "epsilon = 4/255\n",
        "fgsm(model, epsilon)\n",
        "\n",
        "################################ End #########################################"
      ]
    },
    {
      "cell_type": "code",
      "execution_count": 62,
      "metadata": {
        "colab": {
          "base_uri": "https://localhost:8080/"
        },
        "id": "7OeW2sCy2mut",
        "outputId": "76e85813-3b2e-498c-8799-304a017f6807"
      },
      "outputs": [
        {
          "output_type": "stream",
          "name": "stdout",
          "text": [
            "Accuracy on FGSM Attack with epsilon=0.03137254901960784: 11.93%\n"
          ]
        }
      ],
      "source": [
        "##############################################################################\n",
        "# run untargeted FGSM attack for epsilon = 8/255 and report its accuracy     #\n",
        "##############################################################################\n",
        "\n",
        "epsilon = 8/255\n",
        "fgsm(model, epsilon)\n",
        "\n",
        "################################ End #########################################"
      ]
    },
    {
      "cell_type": "markdown",
      "metadata": {
        "id": "6O6vwG7i2muw"
      },
      "source": [
        "## PGD Attack from scratch (15 pts)"
      ]
    },
    {
      "cell_type": "markdown",
      "metadata": {
        "id": "8SRctn012muw"
      },
      "source": [
        "In this section you should implement PGD attack from scratch."
      ]
    },
    {
      "cell_type": "code",
      "execution_count": 42,
      "metadata": {
        "id": "_2rQL9Mw2mux"
      },
      "outputs": [],
      "source": [
        "class LinfPGDAttack(object):\n",
        "\n",
        "    def __init__(self, model, epsilon = 8/255, k = 2, alpha = 2/255):\n",
        "        self.model = model\n",
        "        self.epsilon = epsilon\n",
        "        self.steps = k\n",
        "        self.alpha = alpha\n",
        "\n",
        "    def __call__(self, image, label):\n",
        "\n",
        "        image = image.to(device)\n",
        "        label = label.to(device)\n",
        "\n",
        "        out = self.model(image)\n",
        "        _, pred = torch.max(out, 1)\n",
        "\n",
        "        perturbed_image = image.clone()\n",
        "        perturbed_image.to(device)\n",
        "\n",
        "        if pred.item() == label.item():\n",
        "            ##############################################################################\n",
        "            # Implement a k step PGD attack of size alpha                                #\n",
        "            # while always staying within epsilon distance from the initial point        #\n",
        "            # Use cross entropy loss                                                     #\n",
        "            ##############################################################################\n",
        "\n",
        "            for _ in range(self.steps):\n",
        "              perturbed_image = perturbed_image.detach()\n",
        "              perturbed_image.requires_grad = True\n",
        "\n",
        "              output = self.model(perturbed_image)\n",
        "\n",
        "              self.model.zero_grad()\n",
        "              loss = F.cross_entropy(output, label)\n",
        "              loss.backward()\n",
        "\n",
        "              perturbed_image = perturbed_image + self.alpha * perturbed_image.grad.sign()\n",
        "              # Ensure the perturbation stays in range (-epsion, +epsilon)\n",
        "              perturbed_image = torch.clamp(perturbed_image, image - self.epsilon, image + self.epsilon)\n",
        "              # Clip to maintain valid image pixel range [0, 1]\n",
        "              perturbed_image = torch.clamp(perturbed_image, 0, 1)\n",
        "\n",
        "            ################################ End #########################################\n",
        "\n",
        "        return perturbed_image"
      ]
    },
    {
      "cell_type": "code",
      "execution_count": 43,
      "metadata": {
        "colab": {
          "base_uri": "https://localhost:8080/"
        },
        "id": "YqC3L8kV2mu0",
        "outputId": "2d32b83c-a913-486e-e5a2-d9baa787c7aa"
      },
      "outputs": [
        {
          "output_type": "stream",
          "name": "stdout",
          "text": [
            "Accuracy on PGD Attack with k=2: 16.77%\n",
            "Accuracy on PGD Attack with k=4: 2.94%\n",
            "Accuracy on PGD Attack with k=8: 0.71%\n"
          ]
        }
      ],
      "source": [
        "##############################################################################\n",
        "# Evaluate PGD attack on the trained model with k=2,4,8                      #\n",
        "##############################################################################\n",
        "\n",
        "k_list = [2,4,8]\n",
        "\n",
        "##############################################################################\n",
        "\n",
        "def pgd(model, k):\n",
        "  pgd_attack = LinfPGDAttack(model, k=k)\n",
        "\n",
        "  correct = 0\n",
        "  total = 0\n",
        "  model.eval()\n",
        "\n",
        "  for inputs, labels in testloader:\n",
        "      inputs, labels = inputs.to(device), labels.to(device)\n",
        "\n",
        "      # Generate adversarial examples using PGD\n",
        "      adv_inputs = torch.stack([pgd_attack(img.unsqueeze(0), lbl.unsqueeze(0)).squeeze(0) for img, lbl in zip(inputs, labels)])\n",
        "\n",
        "      with torch.no_grad():\n",
        "        outputs = model(adv_inputs)\n",
        "        _, predicted = torch.max(outputs, 1)\n",
        "\n",
        "      total += labels.size(0)\n",
        "      correct += (predicted == labels).sum().item()\n",
        "\n",
        "  accuracy = 100 * correct / total\n",
        "  print(f'Accuracy on PGD Attack with k={k}: {accuracy:.2f}%')\n",
        "\n",
        "for k in k_list:\n",
        "  pgd(model, k)\n",
        "\n",
        "\n",
        "################################ End #########################################"
      ]
    },
    {
      "cell_type": "markdown",
      "metadata": {
        "id": "GiVYRGi12mu1"
      },
      "source": [
        "## UAP Attack from scratch (15 pts)"
      ]
    },
    {
      "cell_type": "markdown",
      "metadata": {
        "id": "9aum7eAV2mu3"
      },
      "source": [
        "In this section you should implement UAP attack from scratch."
      ]
    },
    {
      "cell_type": "code",
      "execution_count": 54,
      "metadata": {
        "id": "WZajPXjj2mu5"
      },
      "outputs": [],
      "source": [
        "class UAPAttack(object):\n",
        "\n",
        "    def __init__(self, model, epsilon=8/255, delta=2/255, max_iters=10, data_loader=None):\n",
        "        self.model = model\n",
        "        self.epsilon = epsilon\n",
        "        self.delta = delta\n",
        "        self.max_iters = max_iters\n",
        "        self.data_loader = data_loader\n",
        "\n",
        "        # Initialize universal perturbation to zero\n",
        "        self.uap = torch.zeros(1, 3, 32, 32).to(device) # size of CIFAR10 dataset sample\n",
        "\n",
        "    def generate_uap(self):\n",
        "        \"\"\"\n",
        "        Generate Universal Adversarial Perturbation (UAP) using the dataset.\n",
        "        \"\"\"\n",
        "        for _ in range(self.max_iters):\n",
        "            for images, labels in self.data_loader:\n",
        "                images, labels = images.to(device), labels.to(device)\n",
        "\n",
        "                # Add the current universal perturbation to the images\n",
        "                perturbed_images = torch.clamp(images + self.uap, 0, 1)\n",
        "\n",
        "                # Perform forward pass with perturbed images\n",
        "                outputs = self.model(perturbed_images)\n",
        "                _, preds = torch.max(outputs, 1)\n",
        "\n",
        "                ##############################################################################\n",
        "                # Implement misclassification logic                                          #\n",
        "                # Find misclassified images and calculate the gradient                       #\n",
        "                # Update the universal perturbation using the calculated gradient            #\n",
        "                ##############################################################################\n",
        "\n",
        "                # correctly classified images\n",
        "                correct_indices = (preds == labels)\n",
        "                correct_images = images[correct_indices]\n",
        "                correct_labels = labels[correct_indices]\n",
        "\n",
        "                if len(correct_images) == 0:\n",
        "                    continue  # Skip if no correctly classified images\n",
        "\n",
        "                # print(correct_images.shape)\n",
        "                # print(self.uap.shape)\n",
        "                perturbed_correct_images = torch.clamp(correct_images + self.uap, 0, 1)\n",
        "                perturbed_correct_images.requires_grad = True\n",
        "\n",
        "                outputs_correct = self.model(perturbed_correct_images)\n",
        "                loss = F.cross_entropy(outputs_correct, correct_labels)\n",
        "\n",
        "                self.model.zero_grad()\n",
        "                loss.backward()\n",
        "\n",
        "                avg_grad = perturbed_correct_images.grad.sign().mean(dim=0, keepdim=True)\n",
        "                self.uap += self.delta * avg_grad\n",
        "\n",
        "                ################################ End #########################################\n",
        "\n",
        "                # Project the universal perturbation to the epsilon ball\n",
        "                ##############################################################################\n",
        "                # Implement projection logic to keep UAP within epsilon bounds               #\n",
        "                ##############################################################################\n",
        "\n",
        "                self.uap = torch.clamp(self.uap, -self.epsilon, self.epsilon)\n",
        "\n",
        "                ################################ End #########################################\n",
        "\n",
        "        self.uap = self.uap.detach()\n",
        "        return self.uap\n",
        "\n",
        "    def __call__(self, image):\n",
        "        \"\"\"\n",
        "        Apply the universal perturbation to a given image.\n",
        "        \"\"\"\n",
        "        image = image.to(device)\n",
        "        perturbed_image = torch.clamp(image + self.uap, 0, 1)\n",
        "        return perturbed_image"
      ]
    },
    {
      "cell_type": "code",
      "source": [
        "##############################################################################\n",
        "# Evaluate UAP attack on the trained model with max_iters = 10               #\n",
        "##############################################################################\n",
        "\n",
        "max_iters = 10\n",
        "\n",
        "##############################################################################\n",
        "\n",
        "uap_attack = UAPAttack(model=model, epsilon=16/255, delta=2/255, max_iters=max_iters, data_loader=trainloader)\n",
        "uap = uap_attack.generate_uap()\n",
        "\n",
        "model.eval()\n",
        "correct = 0\n",
        "total = 0\n",
        "for images, labels in testloader:\n",
        "    images, labels = images.to(device), labels.to(device)\n",
        "\n",
        "    adv_images = uap_attack(images)\n",
        "\n",
        "    with torch.no_grad():\n",
        "        outputs = model(adv_images)\n",
        "        _, predicted = torch.max(outputs, 1)\n",
        "\n",
        "    total += labels.size(0)\n",
        "    correct += (predicted == labels).sum().item()\n",
        "\n",
        "accuracy = 100 * correct / total\n",
        "print(f'Accuracy on UAP attack with max_iters={max_iters}: {accuracy:.2f}%')\n",
        "\n",
        "################################ End #########################################"
      ],
      "metadata": {
        "colab": {
          "base_uri": "https://localhost:8080/"
        },
        "id": "99N3J36LQTNh",
        "outputId": "7412e402-e140-46cf-baa5-989b20697d53"
      },
      "execution_count": 55,
      "outputs": [
        {
          "output_type": "stream",
          "name": "stdout",
          "text": [
            "Accuracy on UAP attack with max_iters=10: 33.87%\n"
          ]
        }
      ]
    },
    {
      "cell_type": "markdown",
      "metadata": {
        "id": "dGdQ__UE2mu8"
      },
      "source": [
        "## Visualization (10 pts)"
      ]
    },
    {
      "cell_type": "markdown",
      "metadata": {
        "id": "Q_ONzeQv2mu9"
      },
      "source": [
        "Implement a function to plot the original image, the perturbed imaged and their predicted labels by the model"
      ]
    },
    {
      "cell_type": "code",
      "execution_count": null,
      "metadata": {
        "id": "ZU_b4s3D2mu-"
      },
      "outputs": [],
      "source": [
        "##############################################################################\n",
        "# Implement the function described                                           #\n",
        "##############################################################################\n",
        "\n",
        "import matplotlib.pyplot as plt\n",
        "import random\n",
        "import torchvision.transforms as transforms\n",
        "\n",
        "\n",
        "def plot_images(type_, original, perturbed, perturbation, true_label, adv_label):\n",
        "    fig, axes = plt.subplots(1, 2, figsize=(8, 4))\n",
        "    axes[0].imshow(original.permute(1, 2, 0).cpu().detach().numpy())\n",
        "    axes[0].set_title(f\"Original Image | Label: {true_label}\")\n",
        "    axes[1].imshow(perturbed.permute(1, 2, 0).cpu().detach().numpy())\n",
        "    axes[1].set_title(f\"Adversarial Image | Label: {adv_label}\")\n",
        "    for ax in axes:\n",
        "        ax.axis(\"off\")\n",
        "    plt.suptitle(f\"{type_} Attack on CIFAR10\")\n",
        "    plt.show()\n",
        "\n",
        "\n",
        "def apply_attack(attack, attack_type='FGSM'):\n",
        "  indices = random.sample(range(len(testset)), 3)\n",
        "\n",
        "  for i in indices:\n",
        "      image, label = testset[i]\n",
        "      image = image.unsqueeze(0).to(device)  # add batch dimension\n",
        "      label = torch.tensor([label]).to(device)\n",
        "\n",
        "      # generate adversarial example\n",
        "      if attack_type=='FGSM' or attack_type=='PGD':\n",
        "        adv_image = attack(image, label)\n",
        "      elif attack_type == 'UAP':\n",
        "        adv_image = attack(image)\n",
        "\n",
        "      # calculate perturbation\n",
        "      perturbation = (adv_image - image)\n",
        "      perturbation = torch.clamp(perturbation, 0, 1)  # Clamp for visualization purposes\n",
        "\n",
        "      with torch.no_grad():\n",
        "        adv_output = model(adv_image)\n",
        "        _, adv_pred = torch.max(adv_output, 1)\n",
        "        adv_label = classes[adv_pred.item()]\n",
        "\n",
        "      plot_images(\n",
        "          type_=attack_type,\n",
        "          original=image.squeeze(0),  # remove batch dimension for visualization\n",
        "          perturbed=adv_image.squeeze(0),\n",
        "          perturbation=perturbation.squeeze(0),\n",
        "          true_label=classes[label.item()],\n",
        "          adv_label=adv_label\n",
        "      )\n",
        "\n",
        "################################ End #########################################"
      ]
    },
    {
      "cell_type": "code",
      "execution_count": null,
      "metadata": {
        "colab": {
          "base_uri": "https://localhost:8080/",
          "height": 1000
        },
        "id": "yLCCyg3I2mu_",
        "outputId": "d1618694-d416-4e89-c7d0-1610c5d8c7df"
      },
      "outputs": [
        {
          "data": {
            "image/png": "[encoded data removed]",
            "text/plain": [
              "<Figure size 800x400 with 2 Axes>"
            ]
          },
          "metadata": {},
          "output_type": "display_data"
        },
        {
          "data": {
            "image/png": "[encoded data removed]",
            "text/plain": [
              "<Figure size 800x400 with 2 Axes>"
            ]
          },
          "metadata": {},
          "output_type": "display_data"
        },
        {
          "data": {
            "image/png": "[encoded data removed]",
            "text/plain": [
              "<Figure size 800x400 with 2 Axes>"
            ]
          },
          "metadata": {},
          "output_type": "display_data"
        }
      ],
      "source": [
        "##############################################################################\n",
        "# Choose 3 random images from testset and run FGSM attack and visualize      #\n",
        "##############################################################################\n",
        "\n",
        "epsilon = 8 / 255\n",
        "fgsm_attack = torchattacks.FGSM(model, eps=epsilon)\n",
        "\n",
        "apply_attack(fgsm_attack, 'FGSM')\n",
        "\n",
        "################################ End #########################################"
      ]
    },
    {
      "cell_type": "code",
      "execution_count": null,
      "metadata": {
        "colab": {
          "base_uri": "https://localhost:8080/",
          "height": 1000
        },
        "id": "MMWtuRBt2mvA",
        "outputId": "9fe6c3a4-34f3-4937-e66d-06a535b1eff6"
      },
      "outputs": [
        {
          "data": {
            "image/png": "[encoded data removed]",
            "text/plain": [
              "<Figure size 800x400 with 2 Axes>"
            ]
          },
          "metadata": {},
          "output_type": "display_data"
        },
        {
          "data": {
            "image/png": "[encoded data removed]",
            "text/plain": [
              "<Figure size 800x400 with 2 Axes>"
            ]
          },
          "metadata": {},
          "output_type": "display_data"
        },
        {
          "data": {
            "image/png": "[encoded data removed]",
            "text/plain": [
              "<Figure size 800x400 with 2 Axes>"
            ]
          },
          "metadata": {},
          "output_type": "display_data"
        }
      ],
      "source": [
        "##############################################################################\n",
        "# Choose 3 random images from testset and run PGD attack and visualize      #\n",
        "##############################################################################\n",
        "\n",
        "k = 2\n",
        "pgd_attack = LinfPGDAttack(model, k=k)\n",
        "\n",
        "apply_attack(pgd_attack, 'PGD')\n",
        "\n",
        "\n",
        "################################ End #########################################"
      ]
    },
    {
      "cell_type": "code",
      "execution_count": 60,
      "metadata": {
        "colab": {
          "base_uri": "https://localhost:8080/",
          "height": 1000
        },
        "id": "gqts2sqr2mvC",
        "outputId": "2da19b39-8e60-4cb7-9cb7-46435ca0b036"
      },
      "outputs": [
        {
          "output_type": "display_data",
          "data": {
            "text/plain": [
              "<Figure size 800x400 with 2 Axes>"
            ],
            "image/png": "[encoded data removed]"
          },
          "metadata": {}
        },
        {
          "output_type": "display_data",
          "data": {
            "text/plain": [
              "<Figure size 800x400 with 2 Axes>"
            ],
            "image/png": "[encoded data removed]"
          },
          "metadata": {}
        },
        {
          "output_type": "display_data",
          "data": {
            "text/plain": [
              "<Figure size 800x400 with 2 Axes>"
            ],
            "image/png": "[encoded data removed]"
          },
          "metadata": {}
        }
      ],
      "source": [
        "##############################################################################\n",
        "# Choose 3 random images from testset and run UAP attack and visualize       #\n",
        "##############################################################################\n",
        "\n",
        "max_iters = 10\n",
        "uap_attack = UAPAttack(model=model, epsilon=16/255, delta=2/255, max_iters=max_iters, data_loader=trainloader)\n",
        "uap = uap_attack.generate_uap()\n",
        "\n",
        "apply_attack(uap_attack, 'UAP')\n",
        "\n",
        "################################ End #########################################"
      ]
    },
    {
      "cell_type": "markdown",
      "metadata": {
        "id": "j_iXMrMZ2mvE"
      },
      "source": [
        "## Adversarial Training (35 pts)"
      ]
    },
    {
      "cell_type": "markdown",
      "metadata": {
        "id": "nipfY6V52mvE"
      },
      "source": [
        "In this section you are going to adversarially train your model and see the results."
      ]
    },
    {
      "cell_type": "code",
      "execution_count": null,
      "metadata": {
        "colab": {
          "background_save": true,
          "base_uri": "https://localhost:8080/"
        },
        "id": "Q2PrbP8F2mvG",
        "outputId": "fbcaa320-4a04-464e-ae8f-7577364d3882"
      },
      "outputs": [
        {
          "name": "stdout",
          "output_type": "stream",
          "text": [
            "Epoch [1/100], Loss: 2.118966\n",
            "Epoch [2/100], Loss: 1.988659\n",
            "Epoch [3/100], Loss: 1.923229\n",
            "Epoch [4/100], Loss: 1.874565\n",
            "Epoch [5/100], Loss: 1.834785\n",
            "Epoch [6/100], Loss: 1.796549\n",
            "Epoch [7/100], Loss: 1.768140\n",
            "Epoch [8/100], Loss: 1.732278\n",
            "Epoch [9/100], Loss: 1.699536\n",
            "Epoch [10/100], Loss: 1.666784\n",
            "Epoch [11/100], Loss: 1.634417\n",
            "Epoch [12/100], Loss: 1.595821\n",
            "Epoch [13/100], Loss: 1.558352\n",
            "Epoch [14/100], Loss: 1.523706\n",
            "Epoch [15/100], Loss: 1.482494\n",
            "Epoch [16/100], Loss: 1.442727\n",
            "Epoch [17/100], Loss: 1.404041\n",
            "Epoch [18/100], Loss: 1.365894\n",
            "Epoch [19/100], Loss: 1.323361\n",
            "Epoch [20/100], Loss: 1.285826\n",
            "Epoch [21/100], Loss: 1.244409\n",
            "Epoch [22/100], Loss: 1.199258\n",
            "Epoch [23/100], Loss: 1.160209\n",
            "Epoch [24/100], Loss: 1.118489\n",
            "Epoch [25/100], Loss: 1.086470\n",
            "Epoch [26/100], Loss: 1.049969\n",
            "Epoch [27/100], Loss: 1.019038\n",
            "Epoch [28/100], Loss: 0.976112\n",
            "Epoch [29/100], Loss: 0.946168\n",
            "Epoch [30/100], Loss: 0.924567\n",
            "Epoch [31/100], Loss: 0.883654\n",
            "Epoch [32/100], Loss: 0.859573\n",
            "Epoch [33/100], Loss: 0.839813\n",
            "Epoch [34/100], Loss: 0.796917\n",
            "Epoch [35/100], Loss: 0.778564\n",
            "Epoch [36/100], Loss: 0.753259\n",
            "Epoch [37/100], Loss: 0.720261\n",
            "Epoch [38/100], Loss: 0.706216\n",
            "Epoch [39/100], Loss: 0.679275\n",
            "Epoch [40/100], Loss: 0.665681\n",
            "Epoch [41/100], Loss: 0.632662\n",
            "Epoch [42/100], Loss: 0.619507\n",
            "Epoch [43/100], Loss: 0.601806\n",
            "Epoch [44/100], Loss: 0.578161\n",
            "Epoch [45/100], Loss: 0.558308\n",
            "Epoch [46/100], Loss: 0.544829\n",
            "Epoch [47/100], Loss: 0.524795\n",
            "Epoch [48/100], Loss: 0.516278\n",
            "Epoch [49/100], Loss: 0.495494\n",
            "Epoch [50/100], Loss: 0.478932\n",
            "Epoch [51/100], Loss: 0.458991\n",
            "Epoch [52/100], Loss: 0.459915\n",
            "Epoch [53/100], Loss: 0.433850\n",
            "Epoch [54/100], Loss: 0.432105\n",
            "Epoch [55/100], Loss: 0.410530\n",
            "Epoch [56/100], Loss: 0.411561\n",
            "Epoch [57/100], Loss: 0.397273\n",
            "Epoch [58/100], Loss: 0.384264\n",
            "Epoch [59/100], Loss: 0.379074\n",
            "Epoch [60/100], Loss: 0.365471\n",
            "Epoch [61/100], Loss: 0.346423\n",
            "Epoch [62/100], Loss: 0.327351\n",
            "Epoch [63/100], Loss: 0.327936\n",
            "Epoch [64/100], Loss: 0.328074\n",
            "Epoch [65/100], Loss: 0.322569\n",
            "Epoch [66/100], Loss: 0.306633\n",
            "Epoch [67/100], Loss: 0.301571\n",
            "Epoch [68/100], Loss: 0.291147\n",
            "Epoch [69/100], Loss: 0.286899\n",
            "Epoch [70/100], Loss: 0.282098\n",
            "Epoch [71/100], Loss: 0.266755\n",
            "Epoch [72/100], Loss: 0.259851\n",
            "Epoch [73/100], Loss: 0.250973\n",
            "Epoch [74/100], Loss: 0.257273\n",
            "Epoch [75/100], Loss: 0.251375\n",
            "Epoch [76/100], Loss: 0.253387\n",
            "Epoch [77/100], Loss: 0.235499\n",
            "Epoch [78/100], Loss: 0.226503\n",
            "Epoch [79/100], Loss: 0.226998\n",
            "Epoch [80/100], Loss: 0.216635\n",
            "Epoch [81/100], Loss: 0.210430\n",
            "Epoch [82/100], Loss: 0.206453\n",
            "Epoch [83/100], Loss: 0.205530\n",
            "Epoch [84/100], Loss: 0.215602\n",
            "Epoch [85/100], Loss: 0.190793\n",
            "Epoch [86/100], Loss: 0.180039\n",
            "Epoch [87/100], Loss: 0.196962\n",
            "Epoch [88/100], Loss: 0.199010\n",
            "Epoch [89/100], Loss: 0.185349\n",
            "Epoch [90/100], Loss: 0.169200\n",
            "Epoch [91/100], Loss: 0.172677\n",
            "Epoch [92/100], Loss: 0.169417\n",
            "Epoch [93/100], Loss: 0.164574\n",
            "Epoch [94/100], Loss: 0.154679\n",
            "Epoch [95/100], Loss: 0.165846\n",
            "Epoch [96/100], Loss: 0.169651\n",
            "Epoch [97/100], Loss: 0.152938\n",
            "Epoch [98/100], Loss: 0.154478\n",
            "Epoch [99/100], Loss: 0.136950\n",
            "Epoch [100/100], Loss: 0.135926\n"
          ]
        }
      ],
      "source": [
        "##############################################################################\n",
        "# Load a new resnet model for adversarial training                           #\n",
        "# Train the model on perturbed images from                                   #\n",
        "# untargeted FGSM attack with epsilon = 8/255 on train dataset               #\n",
        "# Also use the following setup for training the model                        #\n",
        "##############################################################################\n",
        "\n",
        "adv_model = resnet(num_cls=len(classes))\n",
        "adv_model.to(device)\n",
        "\n",
        "learning_rate = 0.01\n",
        "criterion = nn.CrossEntropyLoss()\n",
        "optimizer = optim.SGD(adv_model.parameters(), lr=learning_rate, momentum=0.9)\n",
        "epochs = 100\n",
        "\n",
        "\n",
        "# Your code goes here\n",
        "import torchattacks\n",
        "\n",
        "epsilon = 8 / 255\n",
        "fgsm_attack = torchattacks.FGSM(adv_model, eps=epsilon)\n",
        "\n",
        "adv_model.train()\n",
        "for epoch in range(epochs):\n",
        "    running_loss = 0.0\n",
        "    for i, (images, labels) in enumerate(trainloader):\n",
        "        images, labels = images.to(device), labels.to(device)\n",
        "\n",
        "        # generate adversarial examples using FGSM\n",
        "        adv_images = fgsm_attack(images, labels)\n",
        "\n",
        "        optimizer.zero_grad()\n",
        "        outputs = adv_model(adv_images)\n",
        "        loss = criterion(outputs, labels)\n",
        "\n",
        "        loss.backward()\n",
        "        optimizer.step()\n",
        "\n",
        "        running_loss += loss.item()\n",
        "\n",
        "    avg_loss = running_loss / len(trainloader)\n",
        "    print(f\"Epoch [{epoch + 1}/{epochs}], Loss: {avg_loss:.6f}\")\n",
        "\n",
        "\n",
        "################################ End #########################################"
      ]
    },
    {
      "cell_type": "code",
      "execution_count": null,
      "metadata": {
        "colab": {
          "background_save": true
        },
        "id": "CShIQCD4_MFX"
      },
      "outputs": [],
      "source": [
        "adv_model.eval()\n",
        "model_name = \"resnet18_cifar10_adv_trained_model.pth\"\n",
        "model_PATH = base_path + f\"{model_name}\"\n",
        "torch.save(adv_model.state_dict(), model_PATH)"
      ]
    },
    {
      "cell_type": "code",
      "execution_count": 57,
      "metadata": {
        "id": "IbHbQ3Gu2mvJ",
        "colab": {
          "base_uri": "https://localhost:8080/"
        },
        "outputId": "5ed150f0-f5c1-4b06-c43d-afbf7997ae01"
      },
      "outputs": [
        {
          "output_type": "stream",
          "name": "stdout",
          "text": [
            "Accuracy of the adversarially trained model on clean test images: 61.11%\n"
          ]
        }
      ],
      "source": [
        "##############################################################################\n",
        "# Evaluate the new model on the test dataset                                 #\n",
        "##############################################################################\n",
        "\n",
        "adv_model.eval()\n",
        "correct = 0\n",
        "total = 0\n",
        "with torch.no_grad():\n",
        "    for images, labels in testloader:\n",
        "        images, labels = images.to(device), labels.to(device)\n",
        "\n",
        "        outputs = adv_model(images)\n",
        "        _, predicted = torch.max(outputs, 1)\n",
        "\n",
        "        total += labels.size(0)\n",
        "        correct += (predicted == labels).sum().item()\n",
        "\n",
        "clean_accuracy = 100 * correct / total\n",
        "print(f\"Accuracy of the adversarially trained model on clean test images: {clean_accuracy:.2f}%\")\n",
        "\n",
        "################################ End #########################################"
      ]
    },
    {
      "cell_type": "code",
      "execution_count": 39,
      "metadata": {
        "id": "ScXaPjYr2mvK",
        "colab": {
          "base_uri": "https://localhost:8080/"
        },
        "outputId": "1015c70a-0c72-4a81-8656-6e11063fd735"
      },
      "outputs": [
        {
          "output_type": "stream",
          "name": "stdout",
          "text": [
            "Accuracy on FGSM Attack with epsilon=0.03137254901960784: 24.38%\n"
          ]
        }
      ],
      "source": [
        "##############################################################################\n",
        "# Run FGSM attack on the adversarially trained model with epsilon = 8/255    #\n",
        "##############################################################################\n",
        "\n",
        "# Your code goes here\n",
        "epsilon = 8/255\n",
        "fgsm(adv_model, epsilon)\n",
        "\n",
        "################################ End #########################################"
      ]
    },
    {
      "cell_type": "code",
      "execution_count": 44,
      "metadata": {
        "id": "YrNMram92mvL",
        "colab": {
          "base_uri": "https://localhost:8080/"
        },
        "outputId": "6ef1e47f-96cf-44dd-b990-a94ad8e21908"
      },
      "outputs": [
        {
          "output_type": "stream",
          "name": "stdout",
          "text": [
            "Accuracy on PGD Attack with k=4: 20.03%\n"
          ]
        }
      ],
      "source": [
        "##############################################################################\n",
        "#  Run PGD attack on the adversarially trained model with k=4                #\n",
        "##############################################################################\n",
        "\n",
        "# Your code goes here\n",
        "pgd(adv_model, k=4)\n",
        "\n",
        "################################ End #########################################"
      ]
    },
    {
      "cell_type": "code",
      "source": [
        "##############################################################################\n",
        "#  Run UAP attack on the adversarially trained model with max_iters = 10     #\n",
        "##############################################################################\n",
        "\n",
        "uap_attack = UAPAttack(model=adv_model, epsilon=16/255, delta=2/255, max_iters=10, data_loader=trainloader)\n",
        "uap = uap_attack.generate_uap()\n",
        "\n",
        "adv_model.eval()\n",
        "correct = 0\n",
        "total = 0\n",
        "with torch.no_grad():\n",
        "    for images, labels in testloader:\n",
        "        images, labels = images.to(device), labels.to(device)\n",
        "\n",
        "        adv_images = uap_attack(images)\n",
        "\n",
        "        outputs = adv_model(adv_images)\n",
        "        _, predicted = torch.max(outputs, 1)\n",
        "\n",
        "        total += labels.size(0)\n",
        "        correct += (predicted == labels).sum().item()\n",
        "\n",
        "uap_accuracy = 100 * correct / total\n",
        "print(f\"Accuracy on UAP Attack: {uap_accuracy:.2f}%\")\n",
        "\n",
        "################################ End #########################################"
      ],
      "metadata": {
        "colab": {
          "base_uri": "https://localhost:8080/"
        },
        "id": "ufr7KID3R2uK",
        "outputId": "3b0f7fa7-730b-479c-d51b-16ed32983415"
      },
      "execution_count": 56,
      "outputs": [
        {
          "output_type": "stream",
          "name": "stdout",
          "text": [
            "Accuracy on UAP Attack: 57.59%\n"
          ]
        }
      ]
    },
    {
      "cell_type": "markdown",
      "metadata": {
        "id": "7hLhS8IN2mvN"
      },
      "source": [
        "Answer the following questions:\n",
        "- What happened to the accuracy of the adversarially trained model?\n",
        "\n",
        "  The adversarially trained model’s accuracy on clean data decreased from 74.93% to 61.11%. This drop is typical in adversarial training, where enhancing robustness to attacks often sacrifices performance on unperturbed data.\n",
        "  The model’s accuracy on adversarial examples improved for FGSM (from 11.93% to 24.38%), PGD (from 2.94% to 20.03%), and UAP (from 33.87 to 57.59%), demonstrating that adversarial training has made the model more resilient to attacks.\n",
        "\n",
        "- What do you conclude from the result of the FGSM attack on the adversarially trained model?\n",
        "\n",
        "  The model’s resistance to FGSM attacks improved, with accuracy increasing from 11.93% to 24.38%. This indicates that adversarial training with FGSM helped the model recognize some adversarial examples generated using the same method, even if it still struggles to fully resist FGSM attacks.\n",
        "\n",
        "- What do you conclude from the result of the PGD attack on the adversarially trained model?\n",
        "\n",
        "  Adversarial training with FGSM provided some defensive benefit against PGD attacks, as accuracy improved from 2.94% to 20.03%. However, PGD attacks still significantly impact the model, reflecting their strength as a multi-step attack.\n",
        "\n",
        "\n",
        "- What do you conclude from the result of the UAP attack on the adversarially trained model?\n",
        "\n",
        "  The adversarially trained model showed a significant improvement in accuracy against UAP, from 33.87% to 57.59%. This shows that FGSM training has given the model some ability to resist generalized attacks across samples, like UAP. However, this result was obtained under a stronger perturbation (epsilon = 16/255).\n",
        "\n",
        "- What is you final conclusion?\n",
        "\n",
        "  Adversarial training with FGSM enhances model robustness to various types of adversarial attacks, including FGSM, PGD, and UAP, though the degree of resilience varies.\n",
        "\n",
        "  There is a trade-off: improved robustness comes with a decrease in clean accuracy, seen here as a drop from 74.93% to 61.11%."
      ]
    }
  ],
  "metadata": {
    "accelerator": "GPU",
    "colab": {
      "gpuType": "T4",
      "provenance": []
    },
    "kernelspec": {
      "display_name": "Python 3",
      "name": "python3"
    },
    "language_info": {
      "name": "python"
    }
  },
  "nbformat": 4,
  "nbformat_minor": 0
}
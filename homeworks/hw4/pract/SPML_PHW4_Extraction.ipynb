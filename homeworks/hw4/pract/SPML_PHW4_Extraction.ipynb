{
  "metadata": {
    "kernelspec": {
      "name": "python3",
      "display_name": "Python 3",
      "language": "python"
    },
    "language_info": {
      "name": "python",
      "version": "3.10.14",
      "mimetype": "text/x-python",
      "codemirror_mode": {
        "name": "ipython",
        "version": 3
      },
      "pygments_lexer": "ipython3",
      "nbconvert_exporter": "python",
      "file_extension": ".py"
    },
    "colab": {
      "provenance": [],
      "gpuType": "T4"
    },
    "accelerator": "GPU",
    "kaggle": {
      "accelerator": "gpu",
      "dataSources": [],
      "dockerImageVersionId": 30787,
      "isInternetEnabled": true,
      "language": "python",
      "sourceType": "notebook",
      "isGpuEnabled": true
    }
  },
  "nbformat_minor": 0,
  "nbformat": 4,
  "cells": [
    {
      "cell_type": "markdown",
      "source": [
        "# SPML HW4: Model Extraction\n",
        "\n",
        "In this notebook you'll explore model extraction."
      ],
      "metadata": {
        "id": "axViOHHuSBe5"
      }
    },
    {
      "cell_type": "code",
      "source": [
        "######### Make sure to put your info #########\n",
        "name = ''\n",
        "std_id = ''\n",
        "##############################################"
      ],
      "metadata": {
        "id": "s_gL6lXEoTSN"
      },
      "execution_count": null,
      "outputs": []
    },
    {
      "cell_type": "code",
      "source": [
        "import torch\n",
        "import torch.nn as nn\n",
        "import torch.optim as optim\n",
        "from torch.utils.data import DataLoader\n",
        "from tqdm import trange\n",
        "import matplotlib.pyplot as plt\n",
        "\n",
        "\n",
        "import torchvision\n",
        "from torchvision import transforms, datasets, models\n",
        "\n",
        "# Define device\n",
        "device = torch.device('cuda' if torch.cuda.is_available() else 'cpu')"
      ],
      "metadata": {
        "id": "CYQYyHliSpeZ",
        "execution": {
          "iopub.status.busy": "2024-12-01T17:43:04.585923Z",
          "iopub.execute_input": "2024-12-01T17:43:04.586282Z",
          "iopub.status.idle": "2024-12-01T17:43:04.591420Z",
          "shell.execute_reply.started": "2024-12-01T17:43:04.586255Z",
          "shell.execute_reply": "2024-12-01T17:43:04.590399Z"
        },
        "trusted": true,
        "cellView": "form"
      },
      "outputs": [],
      "execution_count": null
    },
    {
      "cell_type": "markdown",
      "source": [
        "# Loading CIFAR100 (5 points)"
      ],
      "metadata": {
        "id": "sOMYvVnVoFfR"
      }
    },
    {
      "cell_type": "markdown",
      "source": [
        "Load the `CIFAR100` dataset. Make sure you resize the images to be `224x224` (same as the input size of resnet)."
      ],
      "metadata": {
        "id": "kc6jsbe0oFfR"
      }
    },
    {
      "cell_type": "code",
      "source": [
        "# TODO: Load CIFAR-100 dataset\n"
      ],
      "metadata": {
        "trusted": true,
        "execution": {
          "iopub.status.busy": "2024-12-01T17:57:01.485413Z",
          "iopub.execute_input": "2024-12-01T17:57:01.485755Z",
          "iopub.status.idle": "2024-12-01T17:57:03.293488Z",
          "shell.execute_reply.started": "2024-12-01T17:57:01.485723Z",
          "shell.execute_reply": "2024-12-01T17:57:03.292497Z"
        },
        "id": "wsvz54rDoFfS"
      },
      "outputs": [],
      "execution_count": null
    },
    {
      "cell_type": "markdown",
      "source": [
        "# Pre-trained ResNet34 (10 points)"
      ],
      "metadata": {
        "id": "CYZSlCYuoFfS"
      }
    },
    {
      "cell_type": "markdown",
      "source": [
        "Load a pre-trained ResNet34 and train it on the `CIFAR100` dataset."
      ],
      "metadata": {
        "id": "C6R__T1woFfS"
      }
    },
    {
      "cell_type": "code",
      "source": [
        "# TODO: Load pretrained ResNet-34 model\n"
      ],
      "metadata": {
        "cellView": "form",
        "id": "4-ORDaFPSpXz",
        "execution": {
          "iopub.status.busy": "2024-12-01T17:44:04.201373Z",
          "iopub.execute_input": "2024-12-01T17:44:04.202081Z",
          "iopub.status.idle": "2024-12-01T17:44:04.646609Z",
          "shell.execute_reply.started": "2024-12-01T17:44:04.202043Z",
          "shell.execute_reply": "2024-12-01T17:44:04.645680Z"
        },
        "trusted": true
      },
      "outputs": [],
      "execution_count": null
    },
    {
      "cell_type": "code",
      "source": [
        "# TDOO: Train the model on CIFAR100\n"
      ],
      "metadata": {
        "trusted": true,
        "execution": {
          "iopub.status.busy": "2024-12-01T17:44:43.212154Z",
          "iopub.execute_input": "2024-12-01T17:44:43.213123Z",
          "iopub.status.idle": "2024-12-01T17:51:46.820232Z",
          "shell.execute_reply.started": "2024-12-01T17:44:43.213083Z",
          "shell.execute_reply": "2024-12-01T17:51:46.819241Z"
        },
        "id": "LQh_yc1koFfT"
      },
      "outputs": [],
      "execution_count": null
    },
    {
      "cell_type": "markdown",
      "source": [
        "You might want to save this model to avoid retraining."
      ],
      "metadata": {
        "id": "18to70m6okvE"
      }
    },
    {
      "cell_type": "markdown",
      "source": [
        "# Model Extraction (20 points)"
      ],
      "metadata": {
        "id": "j0ejNyFSoFfT"
      }
    },
    {
      "cell_type": "markdown",
      "source": [
        "Here we use knowledge distillation to extract models. If you are confused after the instructions take a look at the next section to understand what we are trying to do. The general steps in Knowledge Distillation are as follows:\n",
        "\n",
        "1. Set the victim (teacher) to evaluation mode and the attacker (student) to training mode.\n",
        "2. Use the victim to find the logits for each batch of inputs.\n",
        "3. Predict the attackers output for the same batch of inputs.\n",
        "4. Define and reduce the loss function over the difference between logits from the victim and attacker (use KL-Divergence, ...)\n",
        "5. Repeat steps 2-4 for the number of epochs.\n",
        "\n",
        "Feel free to check out [Distilling the Knowledge in a Neural Network](https://arxiv.org/abs/1503.02531) to get a better sense of the process."
      ],
      "metadata": {
        "id": "kOIjKOM4oFfT"
      }
    },
    {
      "cell_type": "code",
      "source": [
        "def knowledge_distillation(victim_model, attacker_model, loader, optimizer, epochs, T):\n",
        "    # TODO\n",
        "    pass"
      ],
      "metadata": {
        "trusted": true,
        "execution": {
          "iopub.status.busy": "2024-12-01T18:25:03.452313Z",
          "iopub.execute_input": "2024-12-01T18:25:03.452703Z",
          "iopub.status.idle": "2024-12-01T18:25:03.459757Z",
          "shell.execute_reply.started": "2024-12-01T18:25:03.452666Z",
          "shell.execute_reply": "2024-12-01T18:25:03.458812Z"
        },
        "id": "HNPHv7IYoFfT"
      },
      "outputs": [],
      "execution_count": null
    },
    {
      "cell_type": "markdown",
      "source": [
        "Can you explain how we should set the temperature? Why is this choice appropriate for model extraction?\n",
        "\n",
        "`your response:`"
      ],
      "metadata": {
        "id": "Ve3e6-3goFfU"
      }
    },
    {
      "cell_type": "markdown",
      "source": [
        "# Attack Transferability (20 points)"
      ],
      "metadata": {
        "id": "vmNbBJtcoFfU"
      }
    },
    {
      "cell_type": "markdown",
      "source": [
        "Implement attacks such as FGSM or PGD, you can use code from previous homeworks or readily available libraries."
      ],
      "metadata": {
        "id": "ZsFAf0V4oFfU"
      }
    },
    {
      "cell_type": "code",
      "source": [
        "# TODO: Load or implement attacks"
      ],
      "metadata": {
        "trusted": true,
        "id": "F7nVpx-xoFfU"
      },
      "outputs": [],
      "execution_count": null
    },
    {
      "cell_type": "markdown",
      "source": [
        "Fill in the following function to attack a model and report the accuracy of the victim on the adversarial examples generated using the available model."
      ],
      "metadata": {
        "id": "GxYW_sdvoFfU"
      }
    },
    {
      "cell_type": "code",
      "source": [
        "def transferability_attack(model, victim, loader, attack):\n",
        "    # TODO\n",
        "    pass"
      ],
      "metadata": {
        "trusted": true,
        "id": "dk01WXWHoFfU"
      },
      "outputs": [],
      "execution_count": null
    },
    {
      "cell_type": "markdown",
      "source": [
        "# CIFAR10 (35 points)"
      ],
      "metadata": {
        "id": "seJyURproFfU"
      }
    },
    {
      "cell_type": "markdown",
      "source": [
        "## Loading and Exploration (5 points)"
      ],
      "metadata": {
        "id": "XZAp7PHEoFfU"
      }
    },
    {
      "cell_type": "markdown",
      "source": [
        "First load the `CIFAR10` dataset."
      ],
      "metadata": {
        "id": "EcEKy-3CoFfU"
      }
    },
    {
      "cell_type": "code",
      "source": [
        "# TODO: Load CIFAR-100 dataset\n"
      ],
      "metadata": {
        "trusted": true,
        "execution": {
          "iopub.status.busy": "2024-12-01T18:27:38.270290Z",
          "iopub.execute_input": "2024-12-01T18:27:38.270610Z",
          "iopub.status.idle": "2024-12-01T18:27:39.858190Z",
          "shell.execute_reply.started": "2024-12-01T18:27:38.270584Z",
          "shell.execute_reply": "2024-12-01T18:27:39.857440Z"
        },
        "id": "P8RivTCsoFfV"
      },
      "outputs": [],
      "execution_count": null
    },
    {
      "cell_type": "markdown",
      "source": [
        "Which classes from the `CIFAR10` dataset are present in `CIFAR100` classes?"
      ],
      "metadata": {
        "id": "81VUh9fcoFfV"
      }
    },
    {
      "cell_type": "code",
      "source": [
        "# TODO: Check if classes are present in both datasets\n"
      ],
      "metadata": {
        "trusted": true,
        "execution": {
          "iopub.status.busy": "2024-12-01T18:02:06.775416Z",
          "iopub.execute_input": "2024-12-01T18:02:06.776030Z",
          "iopub.status.idle": "2024-12-01T18:02:06.780728Z",
          "shell.execute_reply.started": "2024-12-01T18:02:06.775993Z",
          "shell.execute_reply": "2024-12-01T18:02:06.779835Z"
        },
        "id": "-TqKW1_LoFfV"
      },
      "outputs": [],
      "execution_count": null
    },
    {
      "cell_type": "markdown",
      "source": [
        "Now use the test dataset from `CIFAR10` to extract the model."
      ],
      "metadata": {
        "id": "QLRRJK0DoFfV"
      }
    },
    {
      "cell_type": "markdown",
      "source": [
        "## Pre-trained ResNet18 (10 points)"
      ],
      "metadata": {
        "id": "obfTulTSoFfV"
      }
    },
    {
      "cell_type": "markdown",
      "source": [
        "Use the pre-trained ResNet18 dataset and extract the model using knowledge distillation."
      ],
      "metadata": {
        "id": "0ZNW4byeoFfV"
      }
    },
    {
      "cell_type": "code",
      "source": [
        "# TODO: Load pretrained ResNet-18 model\n",
        "\n",
        "# TODO: Extract the model\n"
      ],
      "metadata": {
        "trusted": true,
        "execution": {
          "iopub.status.busy": "2024-12-01T18:27:52.990402Z",
          "iopub.execute_input": "2024-12-01T18:27:52.991071Z",
          "iopub.status.idle": "2024-12-01T18:39:28.844316Z",
          "shell.execute_reply.started": "2024-12-01T18:27:52.991035Z",
          "shell.execute_reply": "2024-12-01T18:39:28.843145Z"
        },
        "id": "qmlvi009oFfV"
      },
      "outputs": [],
      "execution_count": null
    },
    {
      "cell_type": "markdown",
      "source": [
        "What is the accuracy of the extracted model on the `CIFAR100` test set?"
      ],
      "metadata": {
        "id": "6lfsMRh7oFfV"
      }
    },
    {
      "cell_type": "code",
      "source": [
        "# TODO: Report accuracy on CIFAR100\n"
      ],
      "metadata": {
        "trusted": true,
        "id": "iHMbP7B9oFfV"
      },
      "outputs": [],
      "execution_count": null
    },
    {
      "cell_type": "markdown",
      "source": [
        "## ResNet18 (10 points)"
      ],
      "metadata": {
        "id": "xXvu0uamoFfV"
      }
    },
    {
      "cell_type": "markdown",
      "source": [
        "Repeat the pervious steps but without pre-training."
      ],
      "metadata": {
        "id": "yUFFATuQoFfV"
      }
    },
    {
      "cell_type": "code",
      "source": [
        "# TODO: Load ResNet-18 model\n",
        "\n",
        "\n",
        "# TODO: Extract the model\n"
      ],
      "metadata": {
        "trusted": true,
        "id": "HkDPZD4KoFfW"
      },
      "outputs": [],
      "execution_count": null
    },
    {
      "cell_type": "markdown",
      "source": [
        "Measure the accuracy of the newly distillied attacker and compare your results from the previous section."
      ],
      "metadata": {
        "id": "0rSa7e8noFfW"
      }
    },
    {
      "cell_type": "code",
      "source": [
        "# TODO: Report accuracy on CIFAR100\n"
      ],
      "metadata": {
        "trusted": true,
        "execution": {
          "iopub.status.busy": "2024-12-01T18:40:03.691437Z",
          "iopub.execute_input": "2024-12-01T18:40:03.692143Z",
          "iopub.status.idle": "2024-12-01T18:40:13.198912Z",
          "shell.execute_reply.started": "2024-12-01T18:40:03.692109Z",
          "shell.execute_reply": "2024-12-01T18:40:13.197876Z"
        },
        "id": "X4ucpNatoFfW"
      },
      "outputs": [],
      "execution_count": null
    },
    {
      "cell_type": "markdown",
      "source": [
        "What are the effects of pre-training?\n",
        "\n",
        "`your response:`"
      ],
      "metadata": {
        "id": "wxDuIVnUoFfW"
      }
    },
    {
      "cell_type": "markdown",
      "source": [
        "## Full Dataset (10 points)"
      ],
      "metadata": {
        "id": "rxU4_TvpoFfW"
      }
    },
    {
      "cell_type": "markdown",
      "source": [
        "Repeat your experiments using the pre-trained ResNet18 but this time use the entire CIFAR10 dataset."
      ],
      "metadata": {
        "id": "7udEk0fQoFfW"
      }
    },
    {
      "cell_type": "code",
      "source": [
        "# TODO: Load pretrained ResNet-18 model\n",
        "\n",
        "# TODO: Extract the model\n"
      ],
      "metadata": {
        "trusted": true,
        "id": "QyT2o0_LoFfW"
      },
      "outputs": [],
      "execution_count": null
    },
    {
      "cell_type": "markdown",
      "source": [
        "Report the accuracy on the `CIFAR100` testset once more."
      ],
      "metadata": {
        "id": "LhgMha03oFfW"
      }
    },
    {
      "cell_type": "code",
      "source": [
        "# TODO: Report accuracy on CIFAR100\n"
      ],
      "metadata": {
        "trusted": true,
        "id": "RmMyGh54oFfW"
      },
      "outputs": [],
      "execution_count": null
    },
    {
      "cell_type": "markdown",
      "source": [
        "What are the effects of using more data?\n",
        "\n",
        "`your response:`"
      ],
      "metadata": {
        "id": "jMqRKMj7oFfW"
      }
    },
    {
      "cell_type": "markdown",
      "source": [
        "# CIFAR100 (10 points)"
      ],
      "metadata": {
        "id": "NBbSzH32oFfW"
      }
    },
    {
      "cell_type": "markdown",
      "source": [
        "This time, use the training dataset from `CIFAR100` and perform knowledge distillation on a pre-trained ResNet18."
      ],
      "metadata": {
        "id": "8mYB0UF3oFfW"
      }
    },
    {
      "cell_type": "code",
      "source": [
        "# TODO: Load pretrained ResNet-18 model\n",
        "\n",
        "# TODO: Extract the model\n"
      ],
      "metadata": {
        "trusted": true,
        "execution": {
          "iopub.status.busy": "2024-12-01T18:49:38.195095Z",
          "iopub.execute_input": "2024-12-01T18:49:38.195463Z"
        },
        "id": "7jyrV4RHoFfX"
      },
      "outputs": [],
      "execution_count": null
    },
    {
      "cell_type": "markdown",
      "source": [
        "How does the accuracy change now?"
      ],
      "metadata": {
        "id": "FL1GSCO4oFfX"
      }
    },
    {
      "cell_type": "code",
      "source": [
        "# TODO: Report accuracy on CIFAR100\n"
      ],
      "metadata": {
        "trusted": true,
        "id": "A3XV4xw4oFfX"
      },
      "outputs": [],
      "execution_count": null
    },
    {
      "cell_type": "markdown",
      "source": [
        "Why do you suppose using the `CIFAR100` had the following results? Explain your observations.\n",
        "\n",
        "`your response:`"
      ],
      "metadata": {
        "id": "Br4XM_FAoFfX"
      }
    }
  ]
}
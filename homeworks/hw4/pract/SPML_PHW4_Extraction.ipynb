{
  "cells": [
    {
      "cell_type": "markdown",
      "metadata": {
        "id": "axViOHHuSBe5"
      },
      "source": [
        "# SPML HW4: Model Extraction\n",
        "\n",
        "In this notebook you'll explore model extraction."
      ]
    },
    {
      "cell_type": "code",
      "execution_count": 1,
      "metadata": {
        "id": "s_gL6lXEoTSN"
      },
      "outputs": [],
      "source": [
        "######### Make sure to put your info #########\n",
        "name = 'Amir Mohammad Ezzati'\n",
        "std_id = '402212269'\n",
        "##############################################"
      ]
    },
    {
      "cell_type": "code",
      "execution_count": 13,
      "metadata": {
        "cellView": "form",
        "id": "CYQYyHliSpeZ"
      },
      "outputs": [],
      "source": [
        "import torch\n",
        "import torch.nn as nn\n",
        "import torch.optim as optim\n",
        "from torch.utils.data import DataLoader\n",
        "from tqdm import trange\n",
        "import matplotlib.pyplot as plt\n",
        "from tqdm import trange, tqdm\n",
        "import torch.nn.functional as F\n",
        "\n",
        "\n",
        "import torchvision\n",
        "from torchvision import transforms, datasets, models\n",
        "\n",
        "# Define device\n",
        "device = torch.device('cuda' if torch.cuda.is_available() else 'cpu')"
      ]
    },
    {
      "cell_type": "code",
      "execution_count": 3,
      "metadata": {
        "id": "-s6PxwXfkhCU",
        "colab": {
          "base_uri": "https://localhost:8080/"
        },
        "outputId": "6f2c923a-42a4-4a16-9037-a281ef830dc2"
      },
      "outputs": [
        {
          "output_type": "stream",
          "name": "stdout",
          "text": [
            "Mounted at /content/drive\n"
          ]
        }
      ],
      "source": [
        "from google.colab import drive\n",
        "drive.mount('/content/drive')\n",
        "base_path = '/content/drive/MyDrive/SPML/'"
      ]
    },
    {
      "cell_type": "markdown",
      "metadata": {
        "id": "sOMYvVnVoFfR"
      },
      "source": [
        "# Loading CIFAR100 (5 points)"
      ]
    },
    {
      "cell_type": "markdown",
      "metadata": {
        "id": "kc6jsbe0oFfR"
      },
      "source": [
        "Load the `CIFAR100` dataset. Make sure you resize the images to be `224x224` (same as the input size of resnet)."
      ]
    },
    {
      "cell_type": "code",
      "execution_count": 4,
      "metadata": {
        "colab": {
          "base_uri": "https://localhost:8080/"
        },
        "id": "wsvz54rDoFfS",
        "outputId": "6ad8f33f-082f-4150-eff0-4d4e85f53439"
      },
      "outputs": [
        {
          "output_type": "stream",
          "name": "stdout",
          "text": [
            "Downloading https://www.cs.toronto.edu/~kriz/cifar-100-python.tar.gz to ./data/cifar-100-python.tar.gz\n"
          ]
        },
        {
          "output_type": "stream",
          "name": "stderr",
          "text": [
            "100%|██████████| 169M/169M [00:05<00:00, 31.2MB/s]\n"
          ]
        },
        {
          "output_type": "stream",
          "name": "stdout",
          "text": [
            "Extracting ./data/cifar-100-python.tar.gz to ./data\n",
            "Files already downloaded and verified\n",
            "Train dataset size: 50000\n",
            "Test dataset size: 10000\n"
          ]
        }
      ],
      "source": [
        "# TODO: Load CIFAR-100 dataset\n",
        "\n",
        "transform = transforms.Compose([\n",
        "    transforms.Resize((224, 224)),\n",
        "    transforms.ToTensor(),\n",
        "])\n",
        "\n",
        "train_dataset = datasets.CIFAR100(root='./data', train=True, download=True, transform=transform)\n",
        "test_dataset = datasets.CIFAR100(root='./data', train=False, download=True, transform=transform)\n",
        "\n",
        "train_loader = DataLoader(train_dataset, batch_size=128, shuffle=True, num_workers=2)\n",
        "test_loader = DataLoader(test_dataset, batch_size=128, shuffle=False, num_workers=2)\n",
        "\n",
        "print(\"Train dataset size:\", len(train_dataset))\n",
        "print(\"Test dataset size:\", len(test_dataset))"
      ]
    },
    {
      "cell_type": "markdown",
      "metadata": {
        "id": "CYZSlCYuoFfS"
      },
      "source": [
        "# Pre-trained ResNet34 (10 points)"
      ]
    },
    {
      "cell_type": "markdown",
      "metadata": {
        "id": "C6R__T1woFfS"
      },
      "source": [
        "Load a pre-trained ResNet34 and train it on the `CIFAR100` dataset."
      ]
    },
    {
      "cell_type": "code",
      "execution_count": null,
      "metadata": {
        "cellView": "form",
        "colab": {
          "base_uri": "https://localhost:8080/"
        },
        "id": "4-ORDaFPSpXz",
        "outputId": "319923c8-9f2e-4f23-8424-ffd0a23116ac"
      },
      "outputs": [
        {
          "output_type": "stream",
          "name": "stderr",
          "text": [
            "/usr/local/lib/python3.10/dist-packages/torchvision/models/_utils.py:208: UserWarning: The parameter 'pretrained' is deprecated since 0.13 and may be removed in the future, please use 'weights' instead.\n",
            "  warnings.warn(\n",
            "/usr/local/lib/python3.10/dist-packages/torchvision/models/_utils.py:223: UserWarning: Arguments other than a weight enum or `None` for 'weights' are deprecated since 0.13 and may be removed in the future. The current behavior is equivalent to passing `weights=ResNet34_Weights.IMAGENET1K_V1`. You can also use `weights=ResNet34_Weights.DEFAULT` to get the most up-to-date weights.\n",
            "  warnings.warn(msg)\n",
            "Downloading: \"https://download.pytorch.org/models/resnet34-b627a593.pth\" to /root/.cache/torch/hub/checkpoints/resnet34-b627a593.pth\n",
            "100%|██████████| 83.3M/83.3M [00:00<00:00, 117MB/s]\n"
          ]
        }
      ],
      "source": [
        "# TODO: Load pretrained ResNet-34 model\n",
        "\n",
        "resnet34 = models.resnet34(pretrained=True)\n",
        "num_features = resnet34.fc.in_features\n",
        "resnet34.fc = nn.Linear(num_features, 100)\n",
        "resnet34 = resnet34.to(device)"
      ]
    },
    {
      "cell_type": "code",
      "execution_count": null,
      "metadata": {
        "colab": {
          "base_uri": "https://localhost:8080/"
        },
        "id": "LQh_yc1koFfT",
        "outputId": "e3942297-5492-45da-f29d-597a6b6d6bf0"
      },
      "outputs": [
        {
          "output_type": "stream",
          "name": "stdout",
          "text": [
            "Epoch [1/10], Loss: 1.9006, Accuracy: 48.02%\n",
            "Epoch [2/10], Loss: 1.1406, Accuracy: 66.29%\n",
            "Epoch [3/10], Loss: 0.8245, Accuracy: 74.84%\n",
            "Epoch [4/10], Loss: 0.6050, Accuracy: 80.81%\n",
            "Epoch [5/10], Loss: 0.4396, Accuracy: 85.78%\n",
            "Epoch [6/10], Loss: 0.3318, Accuracy: 89.18%\n",
            "Epoch [7/10], Loss: 0.2500, Accuracy: 91.79%\n",
            "Epoch [8/10], Loss: 0.2035, Accuracy: 93.37%\n",
            "Epoch [9/10], Loss: 0.1658, Accuracy: 94.67%\n",
            "Epoch [10/10], Loss: 0.1484, Accuracy: 95.21%\n"
          ]
        }
      ],
      "source": [
        "# TDOO: Train the model on CIFAR100\n",
        "\n",
        "criterion = nn.CrossEntropyLoss()\n",
        "optimizer = optim.Adam(resnet34.parameters(), lr=0.001)\n",
        "\n",
        "def train_model(model, train_loader, criterion, optimizer, device, epochs=10):\n",
        "    model.train()\n",
        "    for epoch in range(epochs):\n",
        "        running_loss = 0.0\n",
        "        correct = 0\n",
        "        total = 0\n",
        "\n",
        "        for images, labels in train_loader:\n",
        "            images, labels = images.to(device), labels.to(device)\n",
        "\n",
        "            outputs = model(images)\n",
        "            loss = criterion(outputs, labels)\n",
        "\n",
        "            optimizer.zero_grad()\n",
        "            loss.backward()\n",
        "            optimizer.step()\n",
        "\n",
        "            running_loss += loss.item()\n",
        "            _, predicted = torch.max(outputs, 1)\n",
        "            total += labels.size(0)\n",
        "            correct += (predicted == labels).sum().item()\n",
        "\n",
        "        epoch_loss = running_loss / len(train_loader)\n",
        "        epoch_accuracy = 100 * correct / total\n",
        "\n",
        "        print(f\"Epoch [{epoch + 1}/{epochs}], Loss: {epoch_loss:.4f}, Accuracy: {epoch_accuracy:.2f}%\")\n",
        "\n",
        "\n",
        "train_model(resnet34, train_loader, criterion, optimizer, device, epochs=10)"
      ]
    },
    {
      "cell_type": "markdown",
      "metadata": {
        "id": "18to70m6okvE"
      },
      "source": [
        "You might want to save this model to avoid retraining."
      ]
    },
    {
      "cell_type": "code",
      "source": [
        "torch.save(resnet34.state_dict(), base_path + \"resnet34_cifar100.pth\")"
      ],
      "metadata": {
        "id": "b4Kw3Qc12YpY"
      },
      "execution_count": null,
      "outputs": []
    },
    {
      "cell_type": "code",
      "source": [
        "# load saved model\n",
        "resnet34 = models.resnet34(pretrained=False)\n",
        "num_features = resnet34.fc.in_features\n",
        "resnet34.fc = nn.Linear(num_features, 100)\n",
        "resnet34 = resnet34.to(device)\n",
        "resnet34.load_state_dict(torch.load(base_path + \"resnet34_cifar100.pth\"))"
      ],
      "metadata": {
        "colab": {
          "base_uri": "https://localhost:8080/"
        },
        "id": "CJ7CdWMBm6wN",
        "outputId": "3ee1e838-cc4c-4099-ea30-dd1fb0a011dd"
      },
      "execution_count": null,
      "outputs": [
        {
          "output_type": "stream",
          "name": "stderr",
          "text": [
            "/usr/local/lib/python3.10/dist-packages/torchvision/models/_utils.py:208: UserWarning: The parameter 'pretrained' is deprecated since 0.13 and may be removed in the future, please use 'weights' instead.\n",
            "  warnings.warn(\n",
            "/usr/local/lib/python3.10/dist-packages/torchvision/models/_utils.py:223: UserWarning: Arguments other than a weight enum or `None` for 'weights' are deprecated since 0.13 and may be removed in the future. The current behavior is equivalent to passing `weights=None`.\n",
            "  warnings.warn(msg)\n",
            "<ipython-input-13-e7bcc636748a>:6: FutureWarning: You are using `torch.load` with `weights_only=False` (the current default value), which uses the default pickle module implicitly. It is possible to construct malicious pickle data which will execute arbitrary code during unpickling (See https://github.com/pytorch/pytorch/blob/main/SECURITY.md#untrusted-models for more details). In a future release, the default value for `weights_only` will be flipped to `True`. This limits the functions that could be executed during unpickling. Arbitrary objects will no longer be allowed to be loaded via this mode unless they are explicitly allowlisted by the user via `torch.serialization.add_safe_globals`. We recommend you start setting `weights_only=True` for any use case where you don't have full control of the loaded file. Please open an issue on GitHub for any issues related to this experimental feature.\n",
            "  resnet34.load_state_dict(torch.load(base_path + \"resnet34_cifar100.pth\"))\n"
          ]
        },
        {
          "output_type": "execute_result",
          "data": {
            "text/plain": [
              "<All keys matched successfully>"
            ]
          },
          "metadata": {},
          "execution_count": 13
        }
      ]
    },
    {
      "cell_type": "code",
      "source": [
        "def test_clean(model, dataloader=test_loader):\n",
        "    model.eval()\n",
        "    correct = 0\n",
        "    total = 0\n",
        "    with torch.no_grad():\n",
        "        for inputs, targets in dataloader:\n",
        "            inputs, targets = inputs.to(device), targets.to(device)\n",
        "\n",
        "            outputs = model(inputs)\n",
        "\n",
        "            _, predicted = outputs.max(1)\n",
        "            total += targets.size(0)\n",
        "            correct += predicted.eq(targets).sum().item()\n",
        "\n",
        "    accuracy = 100.0 * correct / total\n",
        "    return accuracy"
      ],
      "metadata": {
        "id": "lKGNAWRAmhPU"
      },
      "execution_count": null,
      "outputs": []
    },
    {
      "cell_type": "code",
      "source": [
        "print(f'Victim Test Accuracy {test_clean(resnet34, test_loader):.2f}%')"
      ],
      "metadata": {
        "colab": {
          "base_uri": "https://localhost:8080/"
        },
        "id": "Q0yAnfU7mh4t",
        "outputId": "85d0fce3-0ea2-42e1-c695-b9b0c35a5602"
      },
      "execution_count": null,
      "outputs": [
        {
          "output_type": "stream",
          "name": "stdout",
          "text": [
            "Victim Test Accuracy 68.99%\n"
          ]
        }
      ]
    },
    {
      "cell_type": "markdown",
      "metadata": {
        "id": "j0ejNyFSoFfT"
      },
      "source": [
        "# Model Extraction (20 points)"
      ]
    },
    {
      "cell_type": "markdown",
      "metadata": {
        "id": "kOIjKOM4oFfT"
      },
      "source": [
        "Here we use knowledge distillation to extract models. If you are confused after the instructions take a look at the next section to understand what we are trying to do. The general steps in Knowledge Distillation are as follows:\n",
        "\n",
        "1. Set the victim (teacher) to evaluation mode and the attacker (student) to training mode.\n",
        "2. Use the victim to find the logits for each batch of inputs.\n",
        "3. Predict the attackers output for the same batch of inputs.\n",
        "4. Define and reduce the loss function over the difference between logits from the victim and attacker (use KL-Divergence, ...)\n",
        "5. Repeat steps 2-4 for the number of epochs.\n",
        "\n",
        "Feel free to check out [Distilling the Knowledge in a Neural Network](https://arxiv.org/abs/1503.02531) to get a better sense of the process."
      ]
    },
    {
      "cell_type": "code",
      "execution_count": 27,
      "metadata": {
        "id": "HNPHv7IYoFfT"
      },
      "outputs": [],
      "source": [
        "def knowledge_distillation(victim_model, attacker_model, loader, optimizer, epochs, T):\n",
        "    # TODO\n",
        "    attacker_model.train()\n",
        "    victim_model.eval()\n",
        "    loss_fn = nn.KLDivLoss(reduction='batchmean')  # KL divergence for soft labels\n",
        "\n",
        "    for epoch in range(epochs):\n",
        "        running_loss = 0\n",
        "        correct = 0\n",
        "        total = 0\n",
        "\n",
        "        for inputs, targets in tqdm(loader, desc=\"Distillation Training\", leave=False):\n",
        "            inputs, targets = inputs.to(device), targets.to(device)\n",
        "\n",
        "            with torch.no_grad():\n",
        "                victim_model_outputs = victim_model(inputs) / T\n",
        "            attacker_model_outputs = attacker_model(inputs) / T  # Apply temperature scaling to both logits\n",
        "\n",
        "            victim_model_probs = F.softmax(victim_model_outputs, dim=1)\n",
        "            attacker_model_log_probs = F.log_softmax(attacker_model_outputs, dim=1)\n",
        "\n",
        "            distill_loss = loss_fn(attacker_model_log_probs, victim_model_probs) * (T**2)\n",
        "\n",
        "            optimizer.zero_grad()\n",
        "            distill_loss.backward()\n",
        "            optimizer.step()\n",
        "\n",
        "            running_loss += distill_loss.item()\n",
        "\n",
        "        epoch_loss = running_loss / len(loader)\n",
        "        print(f\"Epoch {epoch + 1}/{epochs} - Loss: {epoch_loss:.4f}\")"
      ]
    },
    {
      "cell_type": "markdown",
      "metadata": {
        "id": "Ve3e6-3goFfU"
      },
      "source": [
        "Can you explain how we should set the temperature? Why is this choice appropriate for model extraction?\n",
        "\n",
        "`your response:`\n",
        "\n",
        "The temperature (T) in knowledge distillation smooths the logits, exposing richer inter-class relationships by reducing the dominance of the top probability class. For model extraction, a  high T(like T=3 or T=4) ensures the student captures the victim's behavior efficiently, making the attack more effective.\n",
        "\n",
        "Using a higher T balances information transfer by highlighting secondary classes, which prevents overfitting to the teacher's most confident predictions and maximizes the value of each victim query during model extraction.\n"
      ]
    },
    {
      "cell_type": "markdown",
      "metadata": {
        "id": "vmNbBJtcoFfU"
      },
      "source": [
        "# Attack Transferability (20 points)"
      ]
    },
    {
      "cell_type": "markdown",
      "metadata": {
        "id": "ZsFAf0V4oFfU"
      },
      "source": [
        "Implement attacks such as FGSM or PGD, you can use code from previous homeworks or readily available libraries."
      ]
    },
    {
      "cell_type": "code",
      "execution_count": 36,
      "metadata": {
        "id": "F7nVpx-xoFfU"
      },
      "outputs": [],
      "source": [
        "# TODO: Load or implement attacks\n",
        "\n",
        "def attack_fgsm(model, x, y, epsilon, temp):\n",
        "    ce = torch.nn.CrossEntropyLoss()\n",
        "    x_adv = x.clone().detach().requires_grad_(True)\n",
        "    model.eval()\n",
        "\n",
        "    with torch.enable_grad():\n",
        "        outputs = model(x_adv) / temp\n",
        "        loss_ = ce(outputs, y)\n",
        "        loss_.backward()\n",
        "\n",
        "        x_adv = x_adv + epsilon * x_adv.grad.sign()\n",
        "        x_adv = torch.clamp(x_adv, 0, 1) # Clip to valid range\n",
        "\n",
        "    return x_adv.detach()"
      ]
    },
    {
      "cell_type": "markdown",
      "metadata": {
        "id": "GxYW_sdvoFfU"
      },
      "source": [
        "Fill in the following function to attack a model and report the accuracy of the victim on the adversarial examples generated using the available model."
      ]
    },
    {
      "cell_type": "code",
      "execution_count": 41,
      "metadata": {
        "id": "dk01WXWHoFfU"
      },
      "outputs": [],
      "source": [
        "def transferability_attack(model, victim, loader, attack):\n",
        "    # TODO\n",
        "    victim.eval()\n",
        "    model.eval()\n",
        "    correct, total = 0, 0\n",
        "    for x, y in tqdm(loader):\n",
        "        x, y = x.to(device), y.to(device)\n",
        "\n",
        "        # Generate adversarial examples using the surrogate\n",
        "        x_adv = attack(model, x, y, epsilon=1/255, temp=1)  # or use attack_pgd\n",
        "\n",
        "        # Evaluate the victim on these adversarial examples\n",
        "        with torch.no_grad():\n",
        "            outputs = victim(x_adv)\n",
        "            pred = outputs.argmax(dim=1)\n",
        "            correct += (pred == y).sum().item()\n",
        "            total += y.size(0)\n",
        "\n",
        "    return 100 * correct / total\n"
      ]
    },
    {
      "cell_type": "markdown",
      "metadata": {
        "id": "seJyURproFfU"
      },
      "source": [
        "# CIFAR10 (35 points)"
      ]
    },
    {
      "cell_type": "code",
      "source": [
        "victim_model = models.resnet34(pretrained=False)\n",
        "victim_model.fc = nn.Linear(victim_model.fc.in_features, 100)\n",
        "victim_model = victim_model.to(device)\n",
        "victim_model.load_state_dict(torch.load(base_path + \"resnet34_cifar100.pth\"))"
      ],
      "metadata": {
        "colab": {
          "base_uri": "https://localhost:8080/"
        },
        "id": "mjjAakPTcfrO",
        "outputId": "f8e71518-145d-4031-aa05-f4e560f84504"
      },
      "execution_count": 23,
      "outputs": [
        {
          "output_type": "stream",
          "name": "stderr",
          "text": [
            "/usr/local/lib/python3.10/dist-packages/torchvision/models/_utils.py:208: UserWarning: The parameter 'pretrained' is deprecated since 0.13 and may be removed in the future, please use 'weights' instead.\n",
            "  warnings.warn(\n",
            "/usr/local/lib/python3.10/dist-packages/torchvision/models/_utils.py:223: UserWarning: Arguments other than a weight enum or `None` for 'weights' are deprecated since 0.13 and may be removed in the future. The current behavior is equivalent to passing `weights=None`.\n",
            "  warnings.warn(msg)\n",
            "<ipython-input-23-6ca414e0d8dd>:4: FutureWarning: You are using `torch.load` with `weights_only=False` (the current default value), which uses the default pickle module implicitly. It is possible to construct malicious pickle data which will execute arbitrary code during unpickling (See https://github.com/pytorch/pytorch/blob/main/SECURITY.md#untrusted-models for more details). In a future release, the default value for `weights_only` will be flipped to `True`. This limits the functions that could be executed during unpickling. Arbitrary objects will no longer be allowed to be loaded via this mode unless they are explicitly allowlisted by the user via `torch.serialization.add_safe_globals`. We recommend you start setting `weights_only=True` for any use case where you don't have full control of the loaded file. Please open an issue on GitHub for any issues related to this experimental feature.\n",
            "  victim_model.load_state_dict(torch.load(base_path + \"resnet34_cifar100.pth\"))\n"
          ]
        },
        {
          "output_type": "execute_result",
          "data": {
            "text/plain": [
              "<All keys matched successfully>"
            ]
          },
          "metadata": {},
          "execution_count": 23
        }
      ]
    },
    {
      "cell_type": "markdown",
      "metadata": {
        "id": "XZAp7PHEoFfU"
      },
      "source": [
        "## Loading and Exploration (5 points)"
      ]
    },
    {
      "cell_type": "markdown",
      "metadata": {
        "id": "EcEKy-3CoFfU"
      },
      "source": [
        "First load the `CIFAR10` dataset."
      ]
    },
    {
      "cell_type": "code",
      "execution_count": 17,
      "metadata": {
        "id": "P8RivTCsoFfV",
        "colab": {
          "base_uri": "https://localhost:8080/"
        },
        "outputId": "855f1803-9f12-424c-a3f8-fda499e8d060"
      },
      "outputs": [
        {
          "output_type": "stream",
          "name": "stdout",
          "text": [
            "Downloading https://www.cs.toronto.edu/~kriz/cifar-10-python.tar.gz to ./data/cifar-10-python.tar.gz\n"
          ]
        },
        {
          "output_type": "stream",
          "name": "stderr",
          "text": [
            "100%|██████████| 170M/170M [00:04<00:00, 42.5MB/s]\n"
          ]
        },
        {
          "output_type": "stream",
          "name": "stdout",
          "text": [
            "Extracting ./data/cifar-10-python.tar.gz to ./data\n",
            "Files already downloaded and verified\n",
            "CIFAR-10 Training Samples: 50000\n",
            "CIFAR-10 Testing Samples: 10000\n"
          ]
        }
      ],
      "source": [
        "# TODO: Load CIFAR-10 dataset\n",
        "\n",
        "transform = transforms.Compose([\n",
        "    transforms.Resize((224, 224)),\n",
        "    transforms.ToTensor(),\n",
        "])\n",
        "\n",
        "cifar10_train = datasets.CIFAR10(root='./data', train=True, download=True, transform=transform)\n",
        "cifar10_test = datasets.CIFAR10(root='./data', train=False, download=True, transform=transform)\n",
        "\n",
        "cifar10_train_loader = DataLoader(cifar10_train, batch_size=64, shuffle=True, num_workers=2)\n",
        "cifar10_test_loader = DataLoader(cifar10_test, batch_size=64, shuffle=False, num_workers=2)\n",
        "\n",
        "print(\"CIFAR-10 Training Samples:\", len(cifar10_train))\n",
        "print(\"CIFAR-10 Testing Samples:\", len(cifar10_test))"
      ]
    },
    {
      "cell_type": "markdown",
      "metadata": {
        "id": "81VUh9fcoFfV"
      },
      "source": [
        "Which classes from the `CIFAR10` dataset are present in `CIFAR100` classes?"
      ]
    },
    {
      "cell_type": "code",
      "execution_count": 22,
      "metadata": {
        "id": "-TqKW1_LoFfV",
        "colab": {
          "base_uri": "https://localhost:8080/"
        },
        "outputId": "e77e6af7-ccdc-4cbd-9a22-67021fcdcce5"
      },
      "outputs": [
        {
          "output_type": "stream",
          "name": "stdout",
          "text": [
            "Files already downloaded and verified\n",
            "Classes present in both CIFAR-10 and CIFAR-100: set()\n"
          ]
        }
      ],
      "source": [
        "# TODO: Check if classes are present in both datasets\n",
        "cifar10_classes = cifar10_train.classes\n",
        "cifar100_classes = datasets.CIFAR100(root='./data', train=True, download=True).classes\n",
        "overlapping_classes = set(cifar10_classes).intersection(cifar100_classes)\n",
        "print(\"Classes present in both CIFAR-10 and CIFAR-100:\", overlapping_classes)"
      ]
    },
    {
      "cell_type": "markdown",
      "metadata": {
        "id": "QLRRJK0DoFfV"
      },
      "source": [
        "Now use the test dataset from `CIFAR10` to extract the model."
      ]
    },
    {
      "cell_type": "markdown",
      "metadata": {
        "id": "obfTulTSoFfV"
      },
      "source": [
        "## Pre-trained ResNet18 (10 points)"
      ]
    },
    {
      "cell_type": "markdown",
      "metadata": {
        "id": "0ZNW4byeoFfV"
      },
      "source": [
        "Use the pre-trained ResNet18 dataset and extract the model using knowledge distillation."
      ]
    },
    {
      "cell_type": "code",
      "execution_count": 29,
      "metadata": {
        "id": "qmlvi009oFfV",
        "colab": {
          "base_uri": "https://localhost:8080/"
        },
        "outputId": "6c150e00-2b62-4629-e72d-f337668f46bf"
      },
      "outputs": [
        {
          "metadata": {
            "tags": null
          },
          "name": "stderr",
          "output_type": "stream",
          "text": [
            ""
          ]
        },
        {
          "metadata": {
            "tags": null
          },
          "name": "stdout",
          "output_type": "stream",
          "text": [
            "Epoch 1/15 - Loss: 5.8881\n"
          ]
        },
        {
          "metadata": {
            "tags": null
          },
          "name": "stderr",
          "output_type": "stream",
          "text": [
            ""
          ]
        },
        {
          "metadata": {
            "tags": null
          },
          "name": "stdout",
          "output_type": "stream",
          "text": [
            "Epoch 2/15 - Loss: 4.0006\n"
          ]
        },
        {
          "metadata": {
            "tags": null
          },
          "name": "stderr",
          "output_type": "stream",
          "text": [
            ""
          ]
        },
        {
          "metadata": {
            "tags": null
          },
          "name": "stdout",
          "output_type": "stream",
          "text": [
            "Epoch 3/15 - Loss: 2.9323\n"
          ]
        },
        {
          "metadata": {
            "tags": null
          },
          "name": "stderr",
          "output_type": "stream",
          "text": [
            ""
          ]
        },
        {
          "metadata": {
            "tags": null
          },
          "name": "stdout",
          "output_type": "stream",
          "text": [
            "Epoch 4/15 - Loss: 2.3086\n"
          ]
        },
        {
          "metadata": {
            "tags": null
          },
          "name": "stderr",
          "output_type": "stream",
          "text": [
            ""
          ]
        },
        {
          "metadata": {
            "tags": null
          },
          "name": "stdout",
          "output_type": "stream",
          "text": [
            "Epoch 5/15 - Loss: 1.9722\n"
          ]
        },
        {
          "metadata": {
            "tags": null
          },
          "name": "stderr",
          "output_type": "stream",
          "text": [
            ""
          ]
        },
        {
          "metadata": {
            "tags": null
          },
          "name": "stdout",
          "output_type": "stream",
          "text": [
            "Epoch 6/15 - Loss: 1.6672\n"
          ]
        },
        {
          "metadata": {
            "tags": null
          },
          "name": "stderr",
          "output_type": "stream",
          "text": [
            ""
          ]
        },
        {
          "metadata": {
            "tags": null
          },
          "name": "stdout",
          "output_type": "stream",
          "text": [
            "Epoch 7/15 - Loss: 1.4431\n"
          ]
        },
        {
          "metadata": {
            "tags": null
          },
          "name": "stderr",
          "output_type": "stream",
          "text": [
            ""
          ]
        },
        {
          "metadata": {
            "tags": null
          },
          "name": "stdout",
          "output_type": "stream",
          "text": [
            "Epoch 8/15 - Loss: 1.2679\n"
          ]
        },
        {
          "metadata": {
            "tags": null
          },
          "name": "stderr",
          "output_type": "stream",
          "text": [
            ""
          ]
        },
        {
          "metadata": {
            "tags": null
          },
          "name": "stdout",
          "output_type": "stream",
          "text": [
            "Epoch 9/15 - Loss: 1.1168\n"
          ]
        },
        {
          "metadata": {
            "tags": null
          },
          "name": "stderr",
          "output_type": "stream",
          "text": [
            ""
          ]
        },
        {
          "metadata": {
            "tags": null
          },
          "name": "stdout",
          "output_type": "stream",
          "text": [
            "Epoch 10/15 - Loss: 1.0086\n"
          ]
        },
        {
          "metadata": {
            "tags": null
          },
          "name": "stderr",
          "output_type": "stream",
          "text": [
            ""
          ]
        },
        {
          "metadata": {
            "tags": null
          },
          "name": "stdout",
          "output_type": "stream",
          "text": [
            "Epoch 11/15 - Loss: 0.9536\n"
          ]
        },
        {
          "metadata": {
            "tags": null
          },
          "name": "stderr",
          "output_type": "stream",
          "text": [
            ""
          ]
        },
        {
          "metadata": {
            "tags": null
          },
          "name": "stdout",
          "output_type": "stream",
          "text": [
            "Epoch 12/15 - Loss: 0.8831\n"
          ]
        },
        {
          "metadata": {
            "tags": null
          },
          "name": "stderr",
          "output_type": "stream",
          "text": [
            ""
          ]
        },
        {
          "metadata": {
            "tags": null
          },
          "name": "stdout",
          "output_type": "stream",
          "text": [
            "Epoch 13/15 - Loss: 0.8290\n"
          ]
        },
        {
          "output_type": "stream",
          "name": "stderr",
          "text": []
        },
        {
          "output_type": "stream",
          "name": "stdout",
          "text": [
            "Epoch 14/15 - Loss: 0.7620\n"
          ]
        },
        {
          "output_type": "stream",
          "name": "stderr",
          "text": [
            "                                                                        "
          ]
        },
        {
          "output_type": "stream",
          "name": "stdout",
          "text": [
            "Epoch 15/15 - Loss: 0.7094\n"
          ]
        },
        {
          "output_type": "stream",
          "name": "stderr",
          "text": [
            "\r"
          ]
        }
      ],
      "source": [
        "# TODO: Load pretrained ResNet-18 model\n",
        "attacker_model = models.resnet18(pretrained=True)\n",
        "attacker_model.fc = nn.Linear(attacker_model.fc.in_features, 100)\n",
        "attacker_model = attacker_model.to(device)\n",
        "\n",
        "# TODO: Extract the model\n",
        "optimizer = torch.optim.Adam(attacker_model.parameters(), lr=1e-3)\n",
        "knowledge_distillation(victim_model, attacker_model, cifar10_test_loader, optimizer, epochs=15, T=4)"
      ]
    },
    {
      "cell_type": "markdown",
      "metadata": {
        "id": "6lfsMRh7oFfV"
      },
      "source": [
        "What is the accuracy of the extracted model on the `CIFAR100` test set?"
      ]
    },
    {
      "cell_type": "code",
      "execution_count": 30,
      "metadata": {
        "id": "iHMbP7B9oFfV",
        "colab": {
          "base_uri": "https://localhost:8080/"
        },
        "outputId": "d4620154-a08b-4e40-8d29-8199607f7d77"
      },
      "outputs": [
        {
          "output_type": "stream",
          "name": "stdout",
          "text": [
            "attacker_model Test Accuracy on CIFAR100 40.61%\n"
          ]
        }
      ],
      "source": [
        "# TODO: Report accuracy on CIFAR100\n",
        "print(f'attacker_model Test Accuracy on CIFAR100 {test_clean(attacker_model, test_loader):.2f}%')"
      ]
    },
    {
      "cell_type": "code",
      "source": [
        "acc = transferability_attack(attacker_model, victim_model, test_loader, attack=attack_fgsm)\n",
        "print(f'\\nTransfer FGSM attack with epsilon = 1/255 from attacker_model to victim_model: {acc:.2f}%')"
      ],
      "metadata": {
        "colab": {
          "base_uri": "https://localhost:8080/"
        },
        "id": "1AAm_dwordy6",
        "outputId": "2831439f-7a82-40f4-9d0e-c0167e6fc6b0"
      },
      "execution_count": 43,
      "outputs": [
        {
          "output_type": "stream",
          "name": "stderr",
          "text": [
            "100%|██████████| 79/79 [00:44<00:00,  1.78it/s]"
          ]
        },
        {
          "output_type": "stream",
          "name": "stdout",
          "text": [
            "\n",
            "Transfer FGSM attack with epsilon = 1/255 from attacker_model to victim_model: 51.87%\n"
          ]
        },
        {
          "output_type": "stream",
          "name": "stderr",
          "text": [
            "\n"
          ]
        }
      ]
    },
    {
      "cell_type": "markdown",
      "metadata": {
        "id": "xXvu0uamoFfV"
      },
      "source": [
        "## ResNet18 (10 points)"
      ]
    },
    {
      "cell_type": "markdown",
      "metadata": {
        "id": "yUFFATuQoFfV"
      },
      "source": [
        "Repeat the pervious steps but without pre-training."
      ]
    },
    {
      "cell_type": "code",
      "execution_count": 48,
      "metadata": {
        "id": "HkDPZD4KoFfW",
        "colab": {
          "base_uri": "https://localhost:8080/"
        },
        "outputId": "ae9c52ae-e6dc-4ee0-ddda-18405121ea6e"
      },
      "outputs": [
        {
          "metadata": {
            "tags": null
          },
          "name": "stderr",
          "output_type": "stream",
          "text": [
            "/usr/local/lib/python3.10/dist-packages/torchvision/models/_utils.py:208: UserWarning: The parameter 'pretrained' is deprecated since 0.13 and may be removed in the future, please use 'weights' instead.\n",
            "  warnings.warn(\n",
            "/usr/local/lib/python3.10/dist-packages/torchvision/models/_utils.py:223: UserWarning: Arguments other than a weight enum or `None` for 'weights' are deprecated since 0.13 and may be removed in the future. The current behavior is equivalent to passing `weights=None`.\n",
            "  warnings.warn(msg)\n"
          ]
        },
        {
          "metadata": {
            "tags": null
          },
          "name": "stdout",
          "output_type": "stream",
          "text": [
            "Epoch 1/15 - Loss: 8.8798\n"
          ]
        },
        {
          "metadata": {
            "tags": null
          },
          "name": "stderr",
          "output_type": "stream",
          "text": [
            ""
          ]
        },
        {
          "metadata": {
            "tags": null
          },
          "name": "stdout",
          "output_type": "stream",
          "text": [
            "Epoch 2/15 - Loss: 7.7051\n"
          ]
        },
        {
          "metadata": {
            "tags": null
          },
          "name": "stderr",
          "output_type": "stream",
          "text": [
            ""
          ]
        },
        {
          "metadata": {
            "tags": null
          },
          "name": "stdout",
          "output_type": "stream",
          "text": [
            "Epoch 3/15 - Loss: 7.0544\n"
          ]
        },
        {
          "metadata": {
            "tags": null
          },
          "name": "stderr",
          "output_type": "stream",
          "text": [
            ""
          ]
        },
        {
          "metadata": {
            "tags": null
          },
          "name": "stdout",
          "output_type": "stream",
          "text": [
            "Epoch 4/15 - Loss: 6.4304\n"
          ]
        },
        {
          "metadata": {
            "tags": null
          },
          "name": "stderr",
          "output_type": "stream",
          "text": [
            ""
          ]
        },
        {
          "metadata": {
            "tags": null
          },
          "name": "stdout",
          "output_type": "stream",
          "text": [
            "Epoch 5/15 - Loss: 5.8571\n"
          ]
        },
        {
          "metadata": {
            "tags": null
          },
          "name": "stderr",
          "output_type": "stream",
          "text": [
            ""
          ]
        },
        {
          "metadata": {
            "tags": null
          },
          "name": "stdout",
          "output_type": "stream",
          "text": [
            "Epoch 6/15 - Loss: 5.3481\n"
          ]
        },
        {
          "metadata": {
            "tags": null
          },
          "name": "stderr",
          "output_type": "stream",
          "text": [
            ""
          ]
        },
        {
          "metadata": {
            "tags": null
          },
          "name": "stdout",
          "output_type": "stream",
          "text": [
            "Epoch 7/15 - Loss: 4.8483\n"
          ]
        },
        {
          "metadata": {
            "tags": null
          },
          "name": "stderr",
          "output_type": "stream",
          "text": [
            ""
          ]
        },
        {
          "metadata": {
            "tags": null
          },
          "name": "stdout",
          "output_type": "stream",
          "text": [
            "Epoch 8/15 - Loss: 4.3758\n"
          ]
        },
        {
          "metadata": {
            "tags": null
          },
          "name": "stderr",
          "output_type": "stream",
          "text": [
            ""
          ]
        },
        {
          "metadata": {
            "tags": null
          },
          "name": "stdout",
          "output_type": "stream",
          "text": [
            "Epoch 9/15 - Loss: 3.9068\n"
          ]
        },
        {
          "output_type": "stream",
          "name": "stderr",
          "text": []
        },
        {
          "output_type": "stream",
          "name": "stdout",
          "text": [
            "Epoch 10/15 - Loss: 3.4956\n"
          ]
        },
        {
          "output_type": "stream",
          "name": "stderr",
          "text": []
        },
        {
          "output_type": "stream",
          "name": "stdout",
          "text": [
            "Epoch 11/15 - Loss: 3.2488\n"
          ]
        },
        {
          "output_type": "stream",
          "name": "stderr",
          "text": []
        },
        {
          "output_type": "stream",
          "name": "stdout",
          "text": [
            "Epoch 12/15 - Loss: 2.9970\n"
          ]
        },
        {
          "output_type": "stream",
          "name": "stderr",
          "text": []
        },
        {
          "output_type": "stream",
          "name": "stdout",
          "text": [
            "Epoch 13/15 - Loss: 2.6992\n"
          ]
        },
        {
          "output_type": "stream",
          "name": "stderr",
          "text": []
        },
        {
          "output_type": "stream",
          "name": "stdout",
          "text": [
            "Epoch 14/15 - Loss: 2.3891\n"
          ]
        },
        {
          "output_type": "stream",
          "name": "stderr",
          "text": [
            "                                                                        "
          ]
        },
        {
          "output_type": "stream",
          "name": "stdout",
          "text": [
            "Epoch 15/15 - Loss: 2.1201\n"
          ]
        },
        {
          "output_type": "stream",
          "name": "stderr",
          "text": [
            "\r"
          ]
        }
      ],
      "source": [
        "# TODO: Load ResNet-18 model\n",
        "attacker_model = models.resnet18(pretrained=False)\n",
        "attacker_model.fc = nn.Linear(attacker_model.fc.in_features, 100)\n",
        "attacker_model = attacker_model.to(device)\n",
        "\n",
        "# TODO: Extract the model\n",
        "optimizer = torch.optim.Adam(attacker_model.parameters(), lr=1e-3)\n",
        "knowledge_distillation(victim_model, attacker_model, cifar10_test_loader, optimizer, epochs=15, T=4)"
      ]
    },
    {
      "cell_type": "markdown",
      "metadata": {
        "id": "0rSa7e8noFfW"
      },
      "source": [
        "Measure the accuracy of the newly distillied attacker and compare your results from the previous section."
      ]
    },
    {
      "cell_type": "code",
      "execution_count": 49,
      "metadata": {
        "id": "X4ucpNatoFfW",
        "colab": {
          "base_uri": "https://localhost:8080/"
        },
        "outputId": "6dc4a722-9eae-4ed2-e501-cf29b8fa09d4"
      },
      "outputs": [
        {
          "output_type": "stream",
          "name": "stdout",
          "text": [
            "attacker_model Test Accuracy on CIFAR100 14.49%\n"
          ]
        }
      ],
      "source": [
        "# TODO: Report accuracy on CIFAR100\n",
        "print(f'attacker_model Test Accuracy on CIFAR100 {test_clean(attacker_model, test_loader):.2f}%')"
      ]
    },
    {
      "cell_type": "code",
      "source": [
        "acc = transferability_attack(attacker_model, victim_model, test_loader, attack=attack_fgsm)\n",
        "print(f'\\nTransfer FGSM attack with epsilon = 1/255 from attacker_model to victim_model: {acc:.2f}%')"
      ],
      "metadata": {
        "colab": {
          "base_uri": "https://localhost:8080/"
        },
        "id": "8uuuWjchtD0O",
        "outputId": "7e654549-3320-4f46-997f-156d3e64e2f3"
      },
      "execution_count": 50,
      "outputs": [
        {
          "output_type": "stream",
          "name": "stderr",
          "text": [
            "100%|██████████| 79/79 [00:45<00:00,  1.74it/s]"
          ]
        },
        {
          "output_type": "stream",
          "name": "stdout",
          "text": [
            "\n",
            "Transfer FGSM attack with epsilon = 1/255 from attacker_model to victim_model: 65.53%\n"
          ]
        },
        {
          "output_type": "stream",
          "name": "stderr",
          "text": [
            "\n"
          ]
        }
      ]
    },
    {
      "cell_type": "markdown",
      "metadata": {
        "id": "wxDuIVnUoFfW"
      },
      "source": [
        "What are the effects of pre-training?\n",
        "\n",
        "`your response:`\n",
        "\n",
        "Pre-training improves the attacker's generalization and transferability:\n",
        "\n",
        "1. Higher Accuracy: The pre-trained attacker achieves better performance on CIFAR100 (40.61% vs. 14.49%).\n",
        "2. Stronger Attack: Adversarial examples from the pre-trained model are more transferable, reducing the victim model's accuracy more significantly (51.87% vs. 65.53%).\n",
        "\n",
        "Pre-training enables better feature extraction, making attacks more effective."
      ]
    },
    {
      "cell_type": "markdown",
      "metadata": {
        "id": "rxU4_TvpoFfW"
      },
      "source": [
        "## Full Dataset (10 points)"
      ]
    },
    {
      "cell_type": "markdown",
      "metadata": {
        "id": "7udEk0fQoFfW"
      },
      "source": [
        "Repeat your experiments using the pre-trained ResNet18 but this time use the entire CIFAR10 dataset."
      ]
    },
    {
      "cell_type": "code",
      "execution_count": 51,
      "metadata": {
        "id": "QyT2o0_LoFfW",
        "colab": {
          "base_uri": "https://localhost:8080/"
        },
        "outputId": "95b648f4-e024-4231-cf32-7f1fc49c00a4"
      },
      "outputs": [
        {
          "metadata": {
            "tags": null
          },
          "name": "stderr",
          "output_type": "stream",
          "text": [
            "/usr/local/lib/python3.10/dist-packages/torchvision/models/_utils.py:223: UserWarning: Arguments other than a weight enum or `None` for 'weights' are deprecated since 0.13 and may be removed in the future. The current behavior is equivalent to passing `weights=ResNet18_Weights.IMAGENET1K_V1`. You can also use `weights=ResNet18_Weights.DEFAULT` to get the most up-to-date weights.\n",
            "  warnings.warn(msg)\n"
          ]
        },
        {
          "metadata": {
            "tags": null
          },
          "name": "stdout",
          "output_type": "stream",
          "text": [
            "Epoch 1/15 - Loss: 4.0377\n"
          ]
        },
        {
          "metadata": {
            "tags": null
          },
          "name": "stderr",
          "output_type": "stream",
          "text": [
            ""
          ]
        },
        {
          "metadata": {
            "tags": null
          },
          "name": "stdout",
          "output_type": "stream",
          "text": [
            "Epoch 2/15 - Loss: 2.5095\n"
          ]
        },
        {
          "metadata": {
            "tags": null
          },
          "name": "stderr",
          "output_type": "stream",
          "text": [
            ""
          ]
        },
        {
          "metadata": {
            "tags": null
          },
          "name": "stdout",
          "output_type": "stream",
          "text": [
            "Epoch 3/15 - Loss: 1.8764\n"
          ]
        },
        {
          "metadata": {
            "tags": null
          },
          "name": "stderr",
          "output_type": "stream",
          "text": [
            ""
          ]
        },
        {
          "metadata": {
            "tags": null
          },
          "name": "stdout",
          "output_type": "stream",
          "text": [
            "Epoch 4/15 - Loss: 1.4893\n"
          ]
        },
        {
          "metadata": {
            "tags": null
          },
          "name": "stderr",
          "output_type": "stream",
          "text": [
            ""
          ]
        },
        {
          "metadata": {
            "tags": null
          },
          "name": "stdout",
          "output_type": "stream",
          "text": [
            "Epoch 5/15 - Loss: 1.2447\n"
          ]
        },
        {
          "metadata": {
            "tags": null
          },
          "name": "stderr",
          "output_type": "stream",
          "text": [
            ""
          ]
        },
        {
          "metadata": {
            "tags": null
          },
          "name": "stdout",
          "output_type": "stream",
          "text": [
            "Epoch 6/15 - Loss: 1.0886\n"
          ]
        },
        {
          "metadata": {
            "tags": null
          },
          "name": "stderr",
          "output_type": "stream",
          "text": [
            ""
          ]
        },
        {
          "metadata": {
            "tags": null
          },
          "name": "stdout",
          "output_type": "stream",
          "text": [
            "Epoch 7/15 - Loss: 0.9811\n"
          ]
        },
        {
          "metadata": {
            "tags": null
          },
          "name": "stderr",
          "output_type": "stream",
          "text": [
            ""
          ]
        },
        {
          "metadata": {
            "tags": null
          },
          "name": "stdout",
          "output_type": "stream",
          "text": [
            "Epoch 8/15 - Loss: 0.8911\n"
          ]
        },
        {
          "metadata": {
            "tags": null
          },
          "name": "stderr",
          "output_type": "stream",
          "text": [
            ""
          ]
        },
        {
          "metadata": {
            "tags": null
          },
          "name": "stdout",
          "output_type": "stream",
          "text": [
            "Epoch 9/15 - Loss: 0.8281\n"
          ]
        },
        {
          "metadata": {
            "tags": null
          },
          "name": "stderr",
          "output_type": "stream",
          "text": [
            ""
          ]
        },
        {
          "metadata": {
            "tags": null
          },
          "name": "stdout",
          "output_type": "stream",
          "text": [
            "Epoch 10/15 - Loss: 0.7778\n"
          ]
        },
        {
          "metadata": {
            "tags": null
          },
          "name": "stderr",
          "output_type": "stream",
          "text": [
            ""
          ]
        },
        {
          "metadata": {
            "tags": null
          },
          "name": "stdout",
          "output_type": "stream",
          "text": [
            "Epoch 11/15 - Loss: 0.7297\n"
          ]
        },
        {
          "metadata": {
            "tags": null
          },
          "name": "stderr",
          "output_type": "stream",
          "text": [
            ""
          ]
        },
        {
          "metadata": {
            "tags": null
          },
          "name": "stdout",
          "output_type": "stream",
          "text": [
            "Epoch 12/15 - Loss: 0.6855\n"
          ]
        },
        {
          "metadata": {
            "tags": null
          },
          "name": "stderr",
          "output_type": "stream",
          "text": [
            ""
          ]
        },
        {
          "metadata": {
            "tags": null
          },
          "name": "stdout",
          "output_type": "stream",
          "text": [
            "Epoch 13/15 - Loss: 0.6514\n"
          ]
        },
        {
          "output_type": "stream",
          "name": "stderr",
          "text": []
        },
        {
          "output_type": "stream",
          "name": "stdout",
          "text": [
            "Epoch 14/15 - Loss: 0.6183\n"
          ]
        },
        {
          "output_type": "stream",
          "name": "stderr",
          "text": [
            "                                                                        "
          ]
        },
        {
          "output_type": "stream",
          "name": "stdout",
          "text": [
            "Epoch 15/15 - Loss: 0.5916\n"
          ]
        },
        {
          "output_type": "stream",
          "name": "stderr",
          "text": [
            "\r"
          ]
        }
      ],
      "source": [
        "# TODO: Load pretrained ResNet-18 model\n",
        "attacker_model = models.resnet18(pretrained=True)\n",
        "attacker_model.fc = nn.Linear(attacker_model.fc.in_features, 100)\n",
        "attacker_model = attacker_model.to(device)\n",
        "\n",
        "# TODO: Extract the model\n",
        "optimizer = torch.optim.Adam(attacker_model.parameters(), lr=1e-3)\n",
        "knowledge_distillation(victim_model, attacker_model, cifar10_train_loader, optimizer, epochs=15, T=4)"
      ]
    },
    {
      "cell_type": "markdown",
      "metadata": {
        "id": "LhgMha03oFfW"
      },
      "source": [
        "Report the accuracy on the `CIFAR100` testset once more."
      ]
    },
    {
      "cell_type": "code",
      "execution_count": 52,
      "metadata": {
        "id": "RmMyGh54oFfW",
        "colab": {
          "base_uri": "https://localhost:8080/"
        },
        "outputId": "24789d10-4cb0-4276-f7fc-b36f0edac816"
      },
      "outputs": [
        {
          "output_type": "stream",
          "name": "stdout",
          "text": [
            "attacker_model Test Accuracy on CIFAR100 55.35%\n"
          ]
        }
      ],
      "source": [
        "# TODO: Report accuracy on CIFAR100\n",
        "print(f'attacker_model Test Accuracy on CIFAR100 {test_clean(attacker_model, test_loader):.2f}%')"
      ]
    },
    {
      "cell_type": "code",
      "source": [
        "acc = transferability_attack(attacker_model, victim_model, test_loader, attack=attack_fgsm)\n",
        "print(f'\\nTransfer FGSM attack with epsilon = 1/255 from attacker_model to victim_model: {acc:.2f}%')"
      ],
      "metadata": {
        "colab": {
          "base_uri": "https://localhost:8080/"
        },
        "id": "Ke8m1UyByRMz",
        "outputId": "b5af5d2f-9edf-4682-c354-a3d701bc2d8f"
      },
      "execution_count": 53,
      "outputs": [
        {
          "output_type": "stream",
          "name": "stderr",
          "text": [
            "100%|██████████| 79/79 [00:43<00:00,  1.82it/s]"
          ]
        },
        {
          "output_type": "stream",
          "name": "stdout",
          "text": [
            "\n",
            "Transfer FGSM attack with epsilon = 1/255 from attacker_model to victim_model: 37.11%\n"
          ]
        },
        {
          "output_type": "stream",
          "name": "stderr",
          "text": [
            "\n"
          ]
        }
      ]
    },
    {
      "cell_type": "markdown",
      "metadata": {
        "id": "jMqRKMj7oFfW"
      },
      "source": [
        "What are the effects of using more data?\n",
        "\n",
        "`your response:`\n",
        "\n",
        "Using more data significantly improves the attack model's generalization and the effectiveness of adversarial attacks:\n",
        "\n",
        "1. Higher Accuracy: Training on the larger CIFAR10 trainset boosts the attacker's test accuracy on CIFAR100 to 55.35% (compared to 40.61% with CIFAR10 testset).\n",
        "2. Stronger Attack: Adversarial examples transfer more effectively, reducing the victim model's accuracy drastically to 37.11% (compared to 51.87%)."
      ]
    },
    {
      "cell_type": "markdown",
      "metadata": {
        "id": "NBbSzH32oFfW"
      },
      "source": [
        "# CIFAR100 (10 points)"
      ]
    },
    {
      "cell_type": "markdown",
      "metadata": {
        "id": "8mYB0UF3oFfW"
      },
      "source": [
        "This time, use the training dataset from `CIFAR100` and perform knowledge distillation on a pre-trained ResNet18."
      ]
    },
    {
      "cell_type": "code",
      "execution_count": 54,
      "metadata": {
        "id": "7jyrV4RHoFfX",
        "colab": {
          "base_uri": "https://localhost:8080/"
        },
        "outputId": "2c663bf7-3d00-437c-8bc4-850725ae689d"
      },
      "outputs": [
        {
          "metadata": {
            "tags": null
          },
          "name": "stderr",
          "output_type": "stream",
          "text": [
            ""
          ]
        },
        {
          "metadata": {
            "tags": null
          },
          "name": "stdout",
          "output_type": "stream",
          "text": [
            "Epoch 1/15 - Loss: 9.4394\n"
          ]
        },
        {
          "metadata": {
            "tags": null
          },
          "name": "stderr",
          "output_type": "stream",
          "text": [
            ""
          ]
        },
        {
          "metadata": {
            "tags": null
          },
          "name": "stdout",
          "output_type": "stream",
          "text": [
            "Epoch 2/15 - Loss: 4.5680\n"
          ]
        },
        {
          "metadata": {
            "tags": null
          },
          "name": "stderr",
          "output_type": "stream",
          "text": [
            ""
          ]
        },
        {
          "metadata": {
            "tags": null
          },
          "name": "stdout",
          "output_type": "stream",
          "text": [
            "Epoch 3/15 - Loss: 3.0684\n"
          ]
        },
        {
          "metadata": {
            "tags": null
          },
          "name": "stderr",
          "output_type": "stream",
          "text": [
            ""
          ]
        },
        {
          "metadata": {
            "tags": null
          },
          "name": "stdout",
          "output_type": "stream",
          "text": [
            "Epoch 4/15 - Loss: 2.2066\n"
          ]
        },
        {
          "metadata": {
            "tags": null
          },
          "name": "stderr",
          "output_type": "stream",
          "text": [
            ""
          ]
        },
        {
          "metadata": {
            "tags": null
          },
          "name": "stdout",
          "output_type": "stream",
          "text": [
            "Epoch 5/15 - Loss: 1.7295\n"
          ]
        },
        {
          "metadata": {
            "tags": null
          },
          "name": "stderr",
          "output_type": "stream",
          "text": [
            ""
          ]
        },
        {
          "metadata": {
            "tags": null
          },
          "name": "stdout",
          "output_type": "stream",
          "text": [
            "Epoch 6/15 - Loss: 1.4407\n"
          ]
        },
        {
          "metadata": {
            "tags": null
          },
          "name": "stderr",
          "output_type": "stream",
          "text": [
            ""
          ]
        },
        {
          "metadata": {
            "tags": null
          },
          "name": "stdout",
          "output_type": "stream",
          "text": [
            "Epoch 7/15 - Loss: 1.3003\n"
          ]
        },
        {
          "metadata": {
            "tags": null
          },
          "name": "stderr",
          "output_type": "stream",
          "text": [
            ""
          ]
        },
        {
          "metadata": {
            "tags": null
          },
          "name": "stdout",
          "output_type": "stream",
          "text": [
            "Epoch 8/15 - Loss: 1.1998\n"
          ]
        },
        {
          "metadata": {
            "tags": null
          },
          "name": "stderr",
          "output_type": "stream",
          "text": [
            ""
          ]
        },
        {
          "metadata": {
            "tags": null
          },
          "name": "stdout",
          "output_type": "stream",
          "text": [
            "Epoch 9/15 - Loss: 1.1286\n"
          ]
        },
        {
          "metadata": {
            "tags": null
          },
          "name": "stderr",
          "output_type": "stream",
          "text": [
            ""
          ]
        },
        {
          "metadata": {
            "tags": null
          },
          "name": "stdout",
          "output_type": "stream",
          "text": [
            "Epoch 10/15 - Loss: 1.0823\n"
          ]
        },
        {
          "output_type": "stream",
          "name": "stderr",
          "text": []
        },
        {
          "output_type": "stream",
          "name": "stdout",
          "text": [
            "Epoch 11/15 - Loss: 1.0405\n"
          ]
        },
        {
          "output_type": "stream",
          "name": "stderr",
          "text": []
        },
        {
          "output_type": "stream",
          "name": "stdout",
          "text": [
            "Epoch 12/15 - Loss: 0.9963\n"
          ]
        },
        {
          "output_type": "stream",
          "name": "stderr",
          "text": []
        },
        {
          "output_type": "stream",
          "name": "stdout",
          "text": [
            "Epoch 13/15 - Loss: 0.9441\n"
          ]
        },
        {
          "output_type": "stream",
          "name": "stderr",
          "text": []
        },
        {
          "output_type": "stream",
          "name": "stdout",
          "text": [
            "Epoch 14/15 - Loss: 0.8948\n"
          ]
        },
        {
          "output_type": "stream",
          "name": "stderr",
          "text": [
            "                                                                        "
          ]
        },
        {
          "output_type": "stream",
          "name": "stdout",
          "text": [
            "Epoch 15/15 - Loss: 0.8496\n"
          ]
        },
        {
          "output_type": "stream",
          "name": "stderr",
          "text": [
            "\r"
          ]
        }
      ],
      "source": [
        "# TODO: Load pretrained ResNet-18 model\n",
        "attacker_model = models.resnet18(pretrained=True)\n",
        "attacker_model.fc = nn.Linear(attacker_model.fc.in_features, 100)\n",
        "attacker_model = attacker_model.to(device)\n",
        "\n",
        "# TODO: Extract the model\n",
        "optimizer = torch.optim.Adam(attacker_model.parameters(), lr=1e-3)\n",
        "knowledge_distillation(victim_model, attacker_model, train_loader, optimizer, epochs=15, T=4)"
      ]
    },
    {
      "cell_type": "markdown",
      "metadata": {
        "id": "FL1GSCO4oFfX"
      },
      "source": [
        "How does the accuracy change now?"
      ]
    },
    {
      "cell_type": "code",
      "execution_count": 55,
      "metadata": {
        "id": "A3XV4xw4oFfX",
        "colab": {
          "base_uri": "https://localhost:8080/"
        },
        "outputId": "51d89a70-486b-4155-cf7e-009098359448"
      },
      "outputs": [
        {
          "output_type": "stream",
          "name": "stdout",
          "text": [
            "attacker_model Test Accuracy on CIFAR100 71.03%\n"
          ]
        }
      ],
      "source": [
        "# TODO: Report accuracy on CIFAR100\n",
        "print(f'attacker_model Test Accuracy on CIFAR100 {test_clean(attacker_model, test_loader):.2f}%')"
      ]
    },
    {
      "cell_type": "code",
      "source": [
        "acc = transferability_attack(attacker_model, victim_model, test_loader, attack=attack_fgsm)\n",
        "print(f'\\nTransfer FGSM attack with epsilon = 1/255 from attacker_model to victim_model: {acc:.2f}%')"
      ],
      "metadata": {
        "colab": {
          "base_uri": "https://localhost:8080/"
        },
        "id": "NVG0LAF7yThR",
        "outputId": "500dc4f8-092e-49f4-82d8-d70e8789c990"
      },
      "execution_count": 56,
      "outputs": [
        {
          "output_type": "stream",
          "name": "stderr",
          "text": [
            "100%|██████████| 79/79 [00:44<00:00,  1.77it/s]"
          ]
        },
        {
          "output_type": "stream",
          "name": "stdout",
          "text": [
            "\n",
            "Transfer FGSM attack with epsilon = 1/255 from attacker_model to victim_model: 42.04%\n"
          ]
        },
        {
          "output_type": "stream",
          "name": "stderr",
          "text": [
            "\n"
          ]
        }
      ]
    },
    {
      "cell_type": "markdown",
      "metadata": {
        "id": "Br4XM_FAoFfX"
      },
      "source": [
        "Why do you suppose using the `CIFAR100` had the following results? Explain your observations.\n",
        "\n",
        "`your response:`\n",
        "\n",
        "1. Training on the same dataset as the victim model (CIFAR100) allows the attacker to specialize in learning features specific to CIFAR100, leading to better performance on the CIFAR100 test set.\n",
        "2. Since both the attacker and victim are trained on the same data, the adversarial perturbations are less \"universal\" and more tailored to the victim model's specific architecture. However, this still results in a strong transfer attack (42.04%)."
      ]
    }
  ],
  "metadata": {
    "accelerator": "GPU",
    "colab": {
      "gpuType": "T4",
      "provenance": []
    },
    "kaggle": {
      "accelerator": "gpu",
      "dataSources": [],
      "dockerImageVersionId": 30787,
      "isGpuEnabled": true,
      "isInternetEnabled": true,
      "language": "python",
      "sourceType": "notebook"
    },
    "kernelspec": {
      "display_name": "Python 3",
      "language": "python",
      "name": "python3"
    },
    "language_info": {
      "codemirror_mode": {
        "name": "ipython",
        "version": 3
      },
      "file_extension": ".py",
      "mimetype": "text/x-python",
      "name": "python",
      "nbconvert_exporter": "python",
      "pygments_lexer": "ipython3",
      "version": "3.10.14"
    }
  },
  "nbformat": 4,
  "nbformat_minor": 0
}
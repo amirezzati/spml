{
  "nbformat": 4,
  "nbformat_minor": 0,
  "metadata": {
    "colab": {
      "provenance": [],
      "toc_visible": true,
      "gpuType": "T4"
    },
    "kernelspec": {
      "name": "python3",
      "display_name": "Python 3"
    },
    "language_info": {
      "name": "python"
    },
    "accelerator": "GPU"
  },
  "cells": [
    {
      "cell_type": "markdown",
      "source": [
        "# SPML HW4: Data Poisoning & Backdoor Attacks\n",
        "\n",
        "It is **strongly recommended** that you read the entire notebook before you start coding as this will help you better understand the tasks and avoid mistakes and redundant implementations."
      ],
      "metadata": {
        "id": "TwUAmmTcl3G-"
      }
    },
    {
      "cell_type": "code",
      "execution_count": null,
      "metadata": {
        "id": "gThurMADlvnK"
      },
      "outputs": [],
      "source": [
        "######### Make sure to RUN this cell #########\n",
        "name = ''\n",
        "std_id = ''\n",
        "##############################################"
      ]
    },
    {
      "cell_type": "code",
      "source": [
        "import numpy as np\n",
        "from tqdm import trange, tqdm\n",
        "from sklearn.manifold import TSNE\n",
        "from matplotlib import pyplot as plt\n",
        "\n",
        "import torch\n",
        "from torch import nn\n",
        "from torch.optim import Adam\n",
        "import torch.nn.functional as F\n",
        "from torch.nn import CrossEntropyLoss, MSELoss\n",
        "from torch.utils.data import DataLoader, TensorDataset, ConcatDataset\n",
        "\n",
        "from torchvision import transforms\n",
        "from torchvision.datasets.cifar import CIFAR10\n",
        "from torchvision.models import resnet18, ResNet18_Weights\n",
        "\n",
        "\n",
        "device = 'cuda' if torch.cuda.is_available() else 'cpu'\n",
        "device"
      ],
      "metadata": {
        "id": "wnLuXjkDmJWk"
      },
      "execution_count": null,
      "outputs": []
    },
    {
      "cell_type": "markdown",
      "source": [
        "# CIFAR10 Dataset (5 points)"
      ],
      "metadata": {
        "id": "6YkpcqvmTcq6"
      }
    },
    {
      "cell_type": "markdown",
      "source": [
        "Load the CIFAR10 dataset."
      ],
      "metadata": {
        "id": "s2uWOK6xAzG8"
      }
    },
    {
      "cell_type": "code",
      "source": [
        "# TODO: Load the CIFAR10 dataset\n",
        "\n",
        "trainloader = ...\n",
        "testloader = ...\n",
        "\n",
        "print(f'The trainloader consists of {len(trainloader.dataset)} samples.')\n",
        "print(f'The testloader consists of {len(testloader.dataset)} samples.')"
      ],
      "metadata": {
        "id": "iSIlVGXMoQA6"
      },
      "execution_count": null,
      "outputs": []
    },
    {
      "cell_type": "markdown",
      "source": [
        "# Pre-Trained ResNet18 (5 points)"
      ],
      "metadata": {
        "id": "6KCsbLVPAqCs"
      }
    },
    {
      "cell_type": "markdown",
      "source": [
        "Load the pre-trained resnet18 architecture from torchvision."
      ],
      "metadata": {
        "id": "FgMVBt08A0rY"
      }
    },
    {
      "cell_type": "code",
      "source": [
        "class ResNet18(nn.Module):\n",
        "    def __init__(self):\n",
        "        super(Net, self).__init__()\n",
        "        self.feature_extractor = nn.Sequential(\n",
        "            *list(resnet18(weights=ResNet18_Weights.DEFAULT).children())[:-2]\n",
        "            )\n",
        "        self.fc = nn.Linear(512, 10)\n",
        "\n",
        "    def get_features(self, x):\n",
        "        features = self.feature_extractor(x)\n",
        "        return torch.flatten(features, start_dim=1)\n",
        "\n",
        "    def forward(self, x):\n",
        "        logits = self.fc(self.get_features(x))\n",
        "        return logits"
      ],
      "metadata": {
        "id": "eckr_2_dL3yo"
      },
      "execution_count": null,
      "outputs": []
    },
    {
      "cell_type": "code",
      "source": [
        "# TODO: Load the pre-trained model\n",
        "clean_model = ..."
      ],
      "metadata": {
        "id": "XpuEBm_9AoU8"
      },
      "execution_count": null,
      "outputs": []
    },
    {
      "cell_type": "markdown",
      "source": [
        "# Fine-tuning ResNet18 (5 points)"
      ],
      "metadata": {
        "id": "jHnx1CDvBNaZ"
      }
    },
    {
      "cell_type": "markdown",
      "source": [
        "Train and fine-tune the model on CIFAR10 data."
      ],
      "metadata": {
        "id": "5xo4W-3uBTXG"
      }
    },
    {
      "cell_type": "code",
      "source": [
        "def train_model(model, loader, optimizer, criterion, n_epochs=30):\n",
        "    # TODO: Train the model on the loader for n_epochs\n",
        "    pass"
      ],
      "metadata": {
        "id": "nhbkrxO8BXv7"
      },
      "execution_count": null,
      "outputs": []
    },
    {
      "cell_type": "code",
      "source": [
        "# TODO: Define the optimizer, criterion and train the model\n",
        "\n",
        "criterion = ...\n",
        "\n",
        "optimizer = ...\n",
        "\n",
        "train_model(clean_model, trainloader, optimizer, criterion)\n",
        "\n",
        "# TODO: Save the model weights for future use\n"
      ],
      "metadata": {
        "id": "NGA-F7BTB1-A"
      },
      "execution_count": null,
      "outputs": []
    },
    {
      "cell_type": "markdown",
      "source": [
        "# Testing (5 points)"
      ],
      "metadata": {
        "id": "LV5ObeK3CgMx"
      }
    },
    {
      "cell_type": "markdown",
      "source": [
        "Report the clean accuracy of the model you trained."
      ],
      "metadata": {
        "id": "qiS9UXahCm0S"
      }
    },
    {
      "cell_type": "code",
      "source": [
        "def test_model(model, loader):\n",
        "    # TODO: Return the accuracy on the loader\n",
        "    pass"
      ],
      "metadata": {
        "id": "IphGVDc3CpSN"
      },
      "execution_count": null,
      "outputs": []
    },
    {
      "cell_type": "code",
      "source": [
        "acc = test_model(clean_model, testloader)\n",
        "print(f'Clean accuracy on the clean model is {acc:.2f}%')"
      ],
      "metadata": {
        "id": "-CCl35QcCw4j"
      },
      "execution_count": null,
      "outputs": []
    },
    {
      "cell_type": "markdown",
      "source": [
        "# Poisoning Example Generation (20 points)"
      ],
      "metadata": {
        "id": "emj1CUbe-V3A"
      }
    },
    {
      "cell_type": "markdown",
      "source": [
        "We want the implement Algorithm 1 from the [Poison Frogs!](https://arxiv.org/abs/1804.00792) paper. The procedure is as follows:\n",
        "\n",
        "\n",
        "1.   Initialize x: $x_0 \\leftarrow b$\n",
        "2.   Define: $L_p = \\| f(x) - f(t) \\|^2$\n",
        "3.   For $i=1$ to `max_iters` do:\n",
        "  \n",
        "  3.1. Forward step: $\\hat{x}_i = x_{i-1} - \\lambda \\nabla L_p(x_{i-1})$\n",
        "\n",
        "  3.2. Backward step: $x_i = \\frac{\\hat{x}_i + \\lambda \\beta b}{1 + \\beta \\lambda}$\n",
        "\n"
      ],
      "metadata": {
        "id": "2jn3r_nz-pWZ"
      }
    },
    {
      "cell_type": "code",
      "source": [
        "def poisoning_example_generation(model, t, b, lr, beta=0.25, max_iters=1000):\n",
        "    # TODO: Implement the given algorithm\n",
        "    pass"
      ],
      "metadata": {
        "id": "i0_3IStN-Zst"
      },
      "execution_count": null,
      "outputs": []
    },
    {
      "cell_type": "markdown",
      "source": [
        "Visualize the following sample (*don't change the index*). This is the sample we are going to use as our base."
      ],
      "metadata": {
        "id": "dP1Q9wNuDfab"
      }
    },
    {
      "cell_type": "code",
      "source": [
        "base = testloader.dataset[int(std_id) % 846][0]\n",
        "# TODO: Visualize the base image and print its class\n"
      ],
      "metadata": {
        "id": "xnubphyiEBKo"
      },
      "execution_count": null,
      "outputs": []
    },
    {
      "cell_type": "markdown",
      "source": [
        "What class does the model think this base image belongs to?\n",
        "Print the logits and the predicted class.\n",
        "\n",
        "If the base image is misclassified increment the index until you find an image which is correctly classified (*Now change the index if necessary!*)."
      ],
      "metadata": {
        "id": "eDVf68plEl2R"
      }
    },
    {
      "cell_type": "code",
      "source": [
        "# TODO: Print the output of the model on the base image\n"
      ],
      "metadata": {
        "id": "DiM3OlxdFHwC"
      },
      "execution_count": null,
      "outputs": []
    },
    {
      "cell_type": "markdown",
      "source": [
        "Now choose another image as your target. Visualize this target image and prints its correct label and the models prediction."
      ],
      "metadata": {
        "id": "Nna2C1GQFVJh"
      }
    },
    {
      "cell_type": "code",
      "source": [
        "# TODO: Select, visualize and show the prediction for the target instance\n"
      ],
      "metadata": {
        "id": "Nk6gSPdxFsYD"
      },
      "execution_count": null,
      "outputs": []
    },
    {
      "cell_type": "markdown",
      "source": [
        "Now use the `poisoning_example_generation` to generate a poison instane using your base and target images. Visualize this poison instance and print the models prediction on it."
      ],
      "metadata": {
        "id": "R45mpOsMF5Wl"
      }
    },
    {
      "cell_type": "code",
      "source": [
        "# TODO: Generate poison instance, visualize it and predict its label\n",
        "\n",
        "poison = ...\n"
      ],
      "metadata": {
        "id": "Kti30XmtGabI"
      },
      "execution_count": null,
      "outputs": []
    },
    {
      "cell_type": "markdown",
      "source": [
        "# Poisoned Dataloader (5 points)"
      ],
      "metadata": {
        "id": "OtSV-YdtHqKs"
      }
    },
    {
      "cell_type": "markdown",
      "source": [
        "Add the poisoned instance to the trainloader and call the resulting loader `poisoned_loader`."
      ],
      "metadata": {
        "id": "lR4j3oJzHu-V"
      }
    },
    {
      "cell_type": "code",
      "source": [
        "# TODO: Add poison instance to create the poisoned trainloader\n",
        "\n",
        "poisoned_loader = ...\n",
        "\n",
        "print(f'The trainloader consists of {len(trainloader.dataset)} samples.')\n",
        "print(f'The poisoned trainloader consists of {len(poisoned_loader.dataset)} samples.')"
      ],
      "metadata": {
        "id": "lSmNpnkKHun1"
      },
      "execution_count": null,
      "outputs": []
    },
    {
      "cell_type": "markdown",
      "source": [
        "# Poisoned Training (5 points)"
      ],
      "metadata": {
        "id": "iao-vrjEHtFv"
      }
    },
    {
      "cell_type": "markdown",
      "source": [
        " Make a copy of your clean model and call it `attacked_model`. Fine-tune the last layer of the `attacked_model` on the `poisoned_loader`."
      ],
      "metadata": {
        "id": "9oorYJ-bJJ1e"
      }
    },
    {
      "cell_type": "code",
      "source": [
        "# TODO: Fine-tune the whole model using poisoned trainloader\n",
        "\n",
        "attacked_model = ...\n",
        "\n",
        "\n",
        "\n",
        "# TODO: Save the model weights for future use\n"
      ],
      "metadata": {
        "id": "Ar2RB9zAJZla"
      },
      "execution_count": null,
      "outputs": []
    },
    {
      "cell_type": "markdown",
      "source": [
        "Report the clean accuracy of the `attacked_model` on the testloader."
      ],
      "metadata": {
        "id": "uZKfAB8jJ4Ee"
      }
    },
    {
      "cell_type": "code",
      "source": [
        "acc = test_model(attacked_model, testloader)\n",
        "print(f'Clean accuracy on the attacked model is {acc:.2f}%')"
      ],
      "metadata": {
        "id": "J1q8lZFqJ_IQ"
      },
      "execution_count": null,
      "outputs": []
    },
    {
      "cell_type": "markdown",
      "source": [
        "Now report the models prediction on the base, target and poison instances."
      ],
      "metadata": {
        "id": "N7irl8tdKX4p"
      }
    },
    {
      "cell_type": "code",
      "source": [
        "# TODO: Predict the label of the base, target, and poison\n"
      ],
      "metadata": {
        "id": "3P9XwJc6KcfY"
      },
      "execution_count": null,
      "outputs": []
    },
    {
      "cell_type": "markdown",
      "source": [
        "Was the attack successful? Why? What can we do to improve the attack success rate?\n",
        "\n",
        "\n",
        "`your response:`"
      ],
      "metadata": {
        "id": "E9gJx1dVKVg-"
      }
    },
    {
      "cell_type": "markdown",
      "source": [
        "# Feature Space Visualization (20 points)"
      ],
      "metadata": {
        "id": "xRxjryw6NDed"
      }
    },
    {
      "cell_type": "markdown",
      "source": [
        "Using `t-SNE` visualize the feature space of the `clean_model` and the `attacked_model` with data from the base and target classes (use different colors for these classes). Visualize the poison instance as well and label it differently (i.e. you can use stars to show poison samples).\n",
        "\n",
        "***Note: To avoid redundancy, implement this function is such a way that is supports multiple poison samples as opposed to just one!***"
      ],
      "metadata": {
        "id": "JvzuaFaFODPH"
      }
    },
    {
      "cell_type": "code",
      "source": [
        "def feature_space_visualizaion(model, loader, poison, base_class, target_class):\n",
        "    # TODO: Visualize the feature space using t-SNE"
      ],
      "metadata": {
        "id": "P5lhey-wNouH"
      },
      "execution_count": null,
      "outputs": []
    },
    {
      "cell_type": "code",
      "source": [
        "# TODO: Visualize the clean model\n"
      ],
      "metadata": {
        "id": "IDHOa5vVOtcy"
      },
      "execution_count": null,
      "outputs": []
    },
    {
      "cell_type": "code",
      "source": [
        "# TODO: Visualize the attacked model\n"
      ],
      "metadata": {
        "id": "2z6CPE_eOwXE"
      },
      "execution_count": null,
      "outputs": []
    },
    {
      "cell_type": "markdown",
      "source": [
        "What do you see? What did you expect? Why?\n",
        "\n",
        "`your response:`"
      ],
      "metadata": {
        "id": "KBH_6yFIOgWQ"
      }
    },
    {
      "cell_type": "markdown",
      "source": [
        "# Watermark Poisoning (10 points)"
      ],
      "metadata": {
        "id": "DKBX3M6GPQ5G"
      }
    },
    {
      "cell_type": "markdown",
      "source": [
        "A base watermarked image with target opacity $\\gamma$ is formed by taking a weighted combination of the base and the target images.\n",
        "$$t: b \\leftarrow \\gamma \\cdot t + (1 - \\gamma ) \\cdot b$$\n",
        "\n",
        "We use this method to boost the power of poison attacks."
      ],
      "metadata": {
        "id": "HpGcXqR2PaaV"
      }
    },
    {
      "cell_type": "code",
      "source": [
        "def poisoning_watermark_generation(t, b, gamma=0.3):\n",
        "    # TODO: Perform watermarking\n",
        "    pass"
      ],
      "metadata": {
        "id": "1urqjQ4IPTme"
      },
      "execution_count": null,
      "outputs": []
    },
    {
      "cell_type": "markdown",
      "source": [
        "Generate 100 poisons by adding a low opacity watermark of the target instance to the base and visualize the results. (*samples must be from the same class*)"
      ],
      "metadata": {
        "id": "Go72Mo_vQRKz"
      }
    },
    {
      "cell_type": "code",
      "source": [
        "# TODO: Generate 100 poison samples and visualize the results\n"
      ],
      "metadata": {
        "id": "a-xmgJatQZMi"
      },
      "execution_count": null,
      "outputs": []
    },
    {
      "cell_type": "markdown",
      "source": [
        "# Watermark Dataloader (5 points)"
      ],
      "metadata": {
        "id": "ul-2FWQpRFva"
      }
    },
    {
      "cell_type": "markdown",
      "source": [
        "Add the watermark instances to the trainloader and call the resulting loader `watermark_loader`."
      ],
      "metadata": {
        "id": "azRQJcA7RQRM"
      }
    },
    {
      "cell_type": "code",
      "source": [
        "# TODO: Add watermark instances to create the watermark trainloader\n",
        "\n",
        "watermark_loader = ...\n",
        "\n",
        "print(f'The trainloader consists of {len(trainloader.dataset)} samples.')\n",
        "print(f'The poisoned trainloader consists of {len(poisoned_loader.dataset)} samples.')\n",
        "print(f'The watermark loader consists of {len(watermark_loader.dataset)} samples.')"
      ],
      "metadata": {
        "id": "gBMp2A8QRVMX"
      },
      "execution_count": null,
      "outputs": []
    },
    {
      "cell_type": "markdown",
      "source": [
        "# Watermark Training (5 points)"
      ],
      "metadata": {
        "id": "UbAQ9N1RR3iq"
      }
    },
    {
      "cell_type": "markdown",
      "source": [
        "Repeat the training steps and report the clean accuracy on the newly trained model. Use another copy of the `clean_model` and train the new network on the `watermark_loader` and report the clean accuracy on this model."
      ],
      "metadata": {
        "id": "pII5pWjWR7SW"
      }
    },
    {
      "cell_type": "code",
      "source": [
        "# TODO: Repeat training steps for the new model\n"
      ],
      "metadata": {
        "id": "Ho_gJiL9R62T"
      },
      "execution_count": null,
      "outputs": []
    },
    {
      "cell_type": "markdown",
      "source": [
        "# Watermarking Results (10 points)"
      ],
      "metadata": {
        "id": "UGIZkn_gT4kk"
      }
    },
    {
      "cell_type": "markdown",
      "source": [
        "Now check if the poisoning attack is successful."
      ],
      "metadata": {
        "id": "D0qZHi_mT9rU"
      }
    },
    {
      "cell_type": "code",
      "source": [
        "# TODO: Evaluate the attack\n"
      ],
      "metadata": {
        "id": "viZmPU5xT8c3"
      },
      "execution_count": null,
      "outputs": []
    },
    {
      "cell_type": "markdown",
      "source": [
        "Using the `feature_space_visualizaion` function you wrote earlier (modify it if necessary) visualize the feature space for this model as well."
      ],
      "metadata": {
        "id": "CmDZocuiUS-2"
      }
    },
    {
      "cell_type": "code",
      "source": [
        "# TODO: Visualize the attacked model\n"
      ],
      "metadata": {
        "id": "eFcsy4aAUqSU"
      },
      "execution_count": null,
      "outputs": []
    },
    {
      "cell_type": "markdown",
      "source": [
        "Summarize your findings.\n",
        "\n",
        "`your response:`"
      ],
      "metadata": {
        "id": "xD2gfXafUq6a"
      }
    }
  ]
}
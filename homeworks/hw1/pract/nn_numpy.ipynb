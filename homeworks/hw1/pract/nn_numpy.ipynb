{
  "cells": [
    {
      "cell_type": "markdown",
      "metadata": {
        "id": "ooJtNr5dGrH9"
      },
      "source": [
        "**Name: Amir Mohammad Ezzati**\n",
        "\n",
        "**Student Number: 402212269**\n",
        "\n",
        "\n"
      ]
    },
    {
      "cell_type": "markdown",
      "metadata": {
        "id": "ZJm9Z1k0cdmh"
      },
      "source": [
        "# Neural-Network with Numpy"
      ]
    },
    {
      "cell_type": "markdown",
      "metadata": {
        "id": "LDN075MYGesD"
      },
      "source": [
        "In this notebook, you are going to write and implement all the components required to create and train a two-layered neural network using NumPy."
      ]
    },
    {
      "cell_type": "markdown",
      "metadata": {
        "id": "wt3FdxgNcdmm"
      },
      "source": [
        "## Imports & Seeding:"
      ]
    },
    {
      "cell_type": "markdown",
      "metadata": {
        "id": "oPZ4zlnxqhl5"
      },
      "source": [
        "Importing some common libraries"
      ]
    },
    {
      "cell_type": "code",
      "execution_count": 32,
      "metadata": {
        "id": "Et7OS7TGcdmn"
      },
      "outputs": [],
      "source": [
        "import numpy as np\n",
        "import matplotlib.pyplot as plt\n",
        "import pandas as pd\n",
        "np.random.seed(42)\n",
        "%matplotlib inline"
      ]
    },
    {
      "cell_type": "markdown",
      "metadata": {
        "id": "Fa2v2-xbcdmo"
      },
      "source": [
        "## Preparing the data"
      ]
    },
    {
      "cell_type": "markdown",
      "metadata": {
        "id": "bKWqV2Gycdmp"
      },
      "source": [
        "You'll train and evaluate your model on [Fashion MNIST](https://en.wikipedia.org/wiki/Fashion_MNIST) dataset. In this section, you'll download Fashion MNIST and split it into training and testing datasets."
      ]
    },
    {
      "cell_type": "code",
      "execution_count": 70,
      "metadata": {
        "id": "tMYZtSoLc7c-",
        "colab": {
          "base_uri": "https://localhost:8080/"
        },
        "outputId": "742f50e2-508e-47ac-9477-b2b445b07b5e"
      },
      "outputs": [
        {
          "output_type": "stream",
          "name": "stdout",
          "text": [
            "(70000, 784) (70000,)\n"
          ]
        }
      ],
      "source": [
        "from sklearn.datasets import fetch_openml\n",
        "\n",
        "# Using `fetch_openml`, download `Fashion-MNIST`\n",
        "# and save the training data and labels in `X` and `y` respectively.\n",
        "#############################\n",
        "# Your code goes here (5 points)\n",
        "fashion_mnist = fetch_openml(name='Fashion-MNIST', version=1)\n",
        "\n",
        "X, y = fashion_mnist['data'], fashion_mnist['target']\n",
        "\n",
        "#############################\n",
        "\n",
        "# Normalization:\n",
        "X = ((X / 255.) - .5) * 2\n",
        "\n",
        "print(X.shape, y.shape)"
      ]
    },
    {
      "cell_type": "code",
      "execution_count": 71,
      "metadata": {
        "id": "sDmxyMJ4dBk3",
        "colab": {
          "base_uri": "https://localhost:8080/"
        },
        "outputId": "b503226c-901a-4a05-edff-34dce5926856"
      },
      "outputs": [
        {
          "output_type": "stream",
          "name": "stdout",
          "text": [
            "(60000, 784) (60000,) (10000, 784) (10000,)\n"
          ]
        }
      ],
      "source": [
        "from sklearn.model_selection import train_test_split\n",
        "\n",
        "# Using `train_test_split`, split your data into two sets.\n",
        "# Set the test_size to 10000\n",
        "\n",
        "#############################\n",
        "# Your code goes here (6 points)\n",
        "\n",
        "x_train, x_test, y_train, y_test = train_test_split(X, y, test_size=10000, random_state=42)\n",
        "\n",
        "#############################\n",
        "\n",
        "print(x_train.shape, y_train.shape, x_test.shape, y_test.shape)"
      ]
    },
    {
      "cell_type": "markdown",
      "metadata": {
        "id": "PiGTXGXKcdmt"
      },
      "source": [
        "## Prepare training & validation sets"
      ]
    },
    {
      "cell_type": "markdown",
      "metadata": {
        "id": "ba3nNYlDcdmt"
      },
      "source": [
        "We'll use only 3 classes from Fashion MNIST: Trouser, T-shirt, and Sneaker classes.\n",
        "\n",
        "The class labels for T-shirt, Trouser, and Sneaker are 0, 1, and 7 respectively.\n",
        "\n",
        "In this part, you'll limit the testing and training sets to only these three classes."
      ]
    },
    {
      "cell_type": "code",
      "execution_count": 72,
      "metadata": {
        "id": "TcBDZEtzcdmu",
        "colab": {
          "base_uri": "https://localhost:8080/"
        },
        "outputId": "70276a63-19e2-41fe-f306-ad4b3c14db40"
      },
      "outputs": [
        {
          "output_type": "stream",
          "name": "stdout",
          "text": [
            "(18022, 784) (18022,)\n"
          ]
        }
      ],
      "source": [
        "# Modify `y_train` and `x_train`.\n",
        "# Only keep the 3 classes mentioned above.\n",
        "#############################\n",
        "# Your code goes here (4 points)\n",
        "\n",
        "def filter_classes(x, y):\n",
        "  selected_classes = [0, 1, 7]\n",
        "  y = y.astype(int)\n",
        "  mask = np.isin(y, selected_classes)\n",
        "\n",
        "  # Applying the mask to filter x_train and y_train\n",
        "  x_filtered = x[mask]\n",
        "  y_filtered = y[mask]\n",
        "\n",
        "  y_filtered[y_filtered == 7] = 2\n",
        "\n",
        "  return x_filtered, y_filtered\n",
        "\n",
        "x_train, y_train = filter_classes(x_train, y_train)\n",
        "#############################\n",
        "\n",
        "print(x_train.shape, y_train.shape)"
      ]
    },
    {
      "cell_type": "code",
      "execution_count": 73,
      "metadata": {
        "id": "LX2hkRe1cdmw",
        "colab": {
          "base_uri": "https://localhost:8080/"
        },
        "outputId": "dff3d5f9-f9e0-40e2-ed0e-b59ea6b07594"
      },
      "outputs": [
        {
          "output_type": "stream",
          "name": "stdout",
          "text": [
            "(2978, 784) (2978,)\n"
          ]
        }
      ],
      "source": [
        "# Modify `y_test` and `x_test`.\n",
        "# Only keep the 3 classes mentioned above.\n",
        "#############################\n",
        "# Your code goes here (4 points)\n",
        "\n",
        "x_test, y_test = filter_classes(x_test, y_test)\n",
        "\n",
        "#############################\n",
        "\n",
        "print(x_test.shape, y_test.shape)"
      ]
    },
    {
      "cell_type": "markdown",
      "metadata": {
        "id": "Gv6SMLUktWbv"
      },
      "source": [
        "## Linear & Activation Functions"
      ]
    },
    {
      "cell_type": "markdown",
      "metadata": {
        "id": "IXlyJo5JteKC"
      },
      "source": [
        "In this part, you'll implement the forward and backward process for the following components:\n",
        "- Softmax Layer\n",
        "- Linear Layer\n",
        "- ReLU Layer\n",
        "- Sigmoid Layer"
      ]
    },
    {
      "cell_type": "markdown",
      "metadata": {
        "id": "BXtAD5uYA4sQ"
      },
      "source": [
        "### The `Softmax` Layer"
      ]
    },
    {
      "cell_type": "code",
      "execution_count": 37,
      "metadata": {
        "id": "tzaIVo-_Axp7"
      },
      "outputs": [],
      "source": [
        "class SoftMaxLayer(object):\n",
        "    def __init__(self):\n",
        "        self.inp = None\n",
        "        self.output = None\n",
        "\n",
        "    def forward(self, x):\n",
        "        # Write the forward pass for softmax.\n",
        "        # Save the values required for the backward pass.\n",
        "        #############################\n",
        "        # Your code goes here (4 points)\n",
        "\n",
        "        # Save input for backward pass\n",
        "        self.inp = x\n",
        "\n",
        "        x_shifted = x - np.max(x, axis=1, keepdims=True)\n",
        "        exp_x = np.exp(x_shifted)\n",
        "        self.output = exp_x / np.sum(exp_x, axis=1, keepdims=True)\n",
        "\n",
        "        #############################\n",
        "        return self.output\n",
        "\n",
        "    def backward(self, up_grad):\n",
        "        # Write the backward pass for softmax.\n",
        "        #############################\n",
        "        # Your code goes here (4 points)\n",
        "\n",
        "        dx = np.zeros_like(self.output)\n",
        "\n",
        "        # Iterate over each sample in the batch\n",
        "        for i in range(self.output.shape[0]):\n",
        "            s = self.output[i].reshape(-1, 1)\n",
        "            jacobian = np.diagflat(s) - np.dot(s, s.T)\n",
        "\n",
        "            # dL/dx = (Jacobian of softmax) * dL/dy\n",
        "            dx[i] = np.dot(jacobian, up_grad[i])\n",
        "\n",
        "        return dx\n",
        "        #############################\n",
        "\n",
        "    def step(self, optimizer):\n",
        "      pass"
      ]
    },
    {
      "cell_type": "markdown",
      "metadata": {
        "id": "AcFoIDZjcdnB"
      },
      "source": [
        "### The `Linear` Layer"
      ]
    },
    {
      "cell_type": "code",
      "execution_count": 84,
      "metadata": {
        "id": "1strsTh6cdnG"
      },
      "outputs": [],
      "source": [
        "class Linear:\n",
        "    def __init__(self, in_dim, out_dim):\n",
        "        # Initialize the layer's weights and biases\n",
        "        #############################\n",
        "        # Your code goes here (2 points)\n",
        "\n",
        "        self.inp = None\n",
        "\n",
        "        self.w =  np.random.randn(in_dim, out_dim) * np.sqrt(2.0 / in_dim)  # He initialization\n",
        "        self.b = np.zeros((1, out_dim))  # bias initialized to zeros\n",
        "\n",
        "        #############################\n",
        "        self.dw = None\n",
        "        self.db = None\n",
        "\n",
        "    def forward(self, inp):\n",
        "        # Compute linear layer's output.\n",
        "        # Save the value(s) required for the backward phase.\n",
        "        #############################\n",
        "        # Your code goes here (4 points)\n",
        "\n",
        "        self.inp = inp\n",
        "\n",
        "        z = np.dot(inp, self.w) + self.b\n",
        "\n",
        "        #############################\n",
        "\n",
        "        return z\n",
        "\n",
        "    def backward(self, up_grad):\n",
        "        # Calculate the gradient with respect to the weights\n",
        "        # and biases and save the results.\n",
        "        #############################\n",
        "        # Your code goes here (6 points)\n",
        "\n",
        "        self.dw = np.dot(self.inp.T, up_grad)  # dL/dW = x^T * dL/dz\n",
        "        self.db = np.sum(up_grad, axis=0, keepdims=True)  # dL/db = sum(dL/dz)\n",
        "\n",
        "        down_grad = np.dot(up_grad, self.w.T)  # dL/dx = dL/dz * W^T\n",
        "\n",
        "        #############################\n",
        "        return down_grad\n",
        "\n",
        "    def step(self, optimizer):\n",
        "      # Update the layer's weights and biases\n",
        "      # Update previous_w_update and previous_b_update accordingly\n",
        "      #############################\n",
        "      # Your code goes here (5 points)\n",
        "\n",
        "      self.w = optimizer.get_next_update(self.w, self.dw)\n",
        "      self.b = optimizer.get_next_update(self.b, self.db)\n",
        "\n",
        "      #############################"
      ]
    },
    {
      "cell_type": "markdown",
      "metadata": {
        "id": "M0Lfo-nhcdnG"
      },
      "source": [
        "### The `ReLU` Layer"
      ]
    },
    {
      "cell_type": "code",
      "execution_count": 39,
      "metadata": {
        "id": "tN6vcirMcdnH"
      },
      "outputs": [],
      "source": [
        "class RelU:\n",
        "    def __init__(self):\n",
        "        self.inp = None\n",
        "\n",
        "    def forward(self, inp):\n",
        "        # Write the forward pass for ReLU.\n",
        "        # Save the value(s) required for the backward pass.\n",
        "        #############################\n",
        "        # Your code goes here (4 points)\n",
        "\n",
        "        self.inp = inp\n",
        "        output = np.maximum(0, inp)\n",
        "\n",
        "        #############################\n",
        "        return output\n",
        "\n",
        "    def backward(self, up_grad):\n",
        "        #############################\n",
        "        # Your code goes here (4 points)\n",
        "\n",
        "        relu_grad = (self.inp > 0).astype(float)\n",
        "\n",
        "        down_grad = up_grad * relu_grad\n",
        "\n",
        "        #############################\n",
        "        return down_grad\n",
        "\n",
        "    def step(self, optimizer):\n",
        "      pass"
      ]
    },
    {
      "cell_type": "markdown",
      "metadata": {
        "id": "Z00KoSI3cdnJ"
      },
      "source": [
        "### The `sigmoid` Layer"
      ]
    },
    {
      "cell_type": "code",
      "execution_count": 40,
      "metadata": {
        "id": "TTYYeL2lcdnJ"
      },
      "outputs": [],
      "source": [
        "class Sigmoid:\n",
        "    def forward(self, inp):\n",
        "        #############################\n",
        "        # Your code goes here (4 points)\n",
        "\n",
        "        self.out = 1 / (1 + np.exp(-inp))\n",
        "\n",
        "        #############################\n",
        "        return self.out\n",
        "\n",
        "    def backward(self, up_grad):\n",
        "        #############################\n",
        "        # Your code goes here (4 points)\n",
        "\n",
        "        sigmoid_grad = self.out * (1 - self.out)\n",
        "        down_grad = up_grad * sigmoid_grad\n",
        "\n",
        "        #############################\n",
        "        return down_grad\n",
        "\n",
        "    def step(self, optimizer):\n",
        "      pass"
      ]
    },
    {
      "cell_type": "markdown",
      "metadata": {
        "id": "zngleGY2cdnK"
      },
      "source": [
        "## `Loss` function :"
      ]
    },
    {
      "cell_type": "markdown",
      "metadata": {
        "id": "ISedT4FvcdnK"
      },
      "source": [
        "For this task we are going to use the [Cross-Entropy Loss](https://en.wikipedia.org/wiki/Cross_entropy)."
      ]
    },
    {
      "cell_type": "code",
      "execution_count": 41,
      "metadata": {
        "id": "XQyz4ybycdnL"
      },
      "outputs": [],
      "source": [
        "class CELoss():\n",
        "    def __init__(self):\n",
        "      pass\n",
        "\n",
        "    def forward(self, pred, target):\n",
        "\n",
        "        self.yhat = pred\n",
        "        self.y = target\n",
        "        m = self.y.shape[0]\n",
        "        # Commpute and return the loss\n",
        "        #############################\n",
        "        # Your code goes here (8 points)\n",
        "\n",
        "        epsilon = 1e-10\n",
        "        self.yhat = np.clip(self.yhat, epsilon, 1 - epsilon)\n",
        "\n",
        "        # -1/m * sum(target * log(pred))\n",
        "        loss = -np.sum(self.y * np.log(self.yhat)) / m\n",
        "\n",
        "        return loss\n",
        "        #############################\n",
        "\n",
        "\n",
        "    def backward(self):\n",
        "        # Derivative of loss_fn with respect to a the predicted label.\n",
        "        # Use `self.y` and `self.yhat` to compute and return `grad`.\n",
        "        #############################\n",
        "        # Your code goes here (6 points)\n",
        "\n",
        "        m = self.y.shape[0]  # batch size\n",
        "\n",
        "        grad = (self.yhat - self.y) / m\n",
        "\n",
        "        #############################\n",
        "        return grad"
      ]
    },
    {
      "cell_type": "markdown",
      "metadata": {
        "id": "xovZI-70kB9I"
      },
      "source": [
        "## Optimizer\n",
        "\n",
        "In this section, you'll implement an optimizer classes\n"
      ]
    },
    {
      "cell_type": "code",
      "execution_count": 42,
      "metadata": {
        "id": "h5ADTi5tkVTS"
      },
      "outputs": [],
      "source": [
        "class GradientDescent(object):\n",
        "    def __init__(self, lr):\n",
        "        self.lr = lr\n",
        "\n",
        "    def get_next_update(self, x, dx):\n",
        "        # Compute the new value for 'x' and return the result\n",
        "        #############################\n",
        "        # Your code goes here (2 points)\n",
        "\n",
        "        x_new = x - self.lr * dx\n",
        "\n",
        "        return x_new\n",
        "\n",
        "        #############################"
      ]
    },
    {
      "cell_type": "markdown",
      "metadata": {
        "id": "LxxrEEovYEFi"
      },
      "source": [
        "## The Model\n",
        "Now you'll write the base class for a multi-layer perceptron network."
      ]
    },
    {
      "cell_type": "code",
      "execution_count": 74,
      "metadata": {
        "id": "t8SoZeYRcdnY"
      },
      "outputs": [],
      "source": [
        "class MLP:\n",
        "    def __init__(self, layers, loss_fn, optimizer):\n",
        "        self.layers = layers\n",
        "        self.losses  = []\n",
        "        self.loss_fn = loss_fn\n",
        "        self.optimizer = optimizer\n",
        "\n",
        "    def forward(self, inp):\n",
        "        # Pass `inp` to all the layers sequentially\n",
        "        # and return the result.\n",
        "        #############################\n",
        "        # Your code goes here (4 points)\n",
        "\n",
        "        out = inp\n",
        "        for layer in self.layers:\n",
        "            out = layer.forward(out)\n",
        "\n",
        "        return out\n",
        "\n",
        "        #############################\n",
        "\n",
        "    def loss(self, pred, label):\n",
        "        loss = self.loss_fn.forward(pred, label)\n",
        "        self.losses.append(loss)\n",
        "        return loss\n",
        "\n",
        "    def backward(self):\n",
        "        # Start with loss function's gradient and\n",
        "        # do the backward pass on all the layers.\n",
        "        #############################\n",
        "        # Your code goes here (5 points)\n",
        "\n",
        "        grad = self.loss_fn.backward()\n",
        "        # Backpropagate through each layer in reverse order\n",
        "        for layer in reversed(self.layers):\n",
        "            grad = layer.backward(grad)\n",
        "\n",
        "        #############################\n",
        "\n",
        "    def update(self):\n",
        "        for layer in self.layers:\n",
        "          layer.step(self.optimizer)"
      ]
    },
    {
      "cell_type": "markdown",
      "metadata": {
        "id": "zo0rNwYciueF"
      },
      "source": [
        "The following cell encodes training labels into a one-hot representation with 3 classes."
      ]
    },
    {
      "cell_type": "code",
      "execution_count": 75,
      "metadata": {
        "id": "nhJTulaFJ4vR"
      },
      "outputs": [],
      "source": [
        "def onehot_enc(y, num_labels):\n",
        "    ary = np.zeros((y.shape[0], num_labels))\n",
        "    for i, val in enumerate(y):\n",
        "        ary[i, val] = 1\n",
        "    return ary\n",
        "\n",
        "y_train = onehot_enc(y_train, 3)"
      ]
    },
    {
      "cell_type": "code",
      "execution_count": 76,
      "metadata": {
        "id": "TS6S_RUwsRkF"
      },
      "outputs": [],
      "source": [
        "def train(model, epochs, x, y):\n",
        "    for n in range(epochs):\n",
        "      # First do the forward pass. Next, compute the loss.\n",
        "      # Then do the backward pass and finally, update the parameters.\n",
        "      #############################\n",
        "      # Your code goes here (4 points)\n",
        "\n",
        "      pred = model.forward(x)\n",
        "\n",
        "      loss = model.loss(pred, y)\n",
        "\n",
        "      model.backward()  # Perform backpropagation\n",
        "\n",
        "      model.update()  # Update the model's parameters using the optimizer\n",
        "\n",
        "      #############################\n",
        "      print(f\"Loss at {n}: {loss:.3f}\")"
      ]
    },
    {
      "cell_type": "code",
      "execution_count": 86,
      "metadata": {
        "id": "m1lSq2jNcdnY",
        "scrolled": false,
        "colab": {
          "base_uri": "https://localhost:8080/"
        },
        "outputId": "635d7a9a-c261-4e3f-fe4b-5011aa54dbbb"
      },
      "outputs": [
        {
          "output_type": "stream",
          "name": "stdout",
          "text": [
            "Loss at 0: 1.251\n",
            "Loss at 1: 1.234\n",
            "Loss at 2: 1.218\n",
            "Loss at 3: 1.202\n",
            "Loss at 4: 1.187\n",
            "Loss at 5: 1.172\n",
            "Loss at 6: 1.158\n",
            "Loss at 7: 1.143\n",
            "Loss at 8: 1.130\n",
            "Loss at 9: 1.117\n",
            "Loss at 10: 1.104\n",
            "Loss at 11: 1.091\n",
            "Loss at 12: 1.079\n",
            "Loss at 13: 1.068\n",
            "Loss at 14: 1.056\n",
            "Loss at 15: 1.045\n",
            "Loss at 16: 1.034\n",
            "Loss at 17: 1.024\n",
            "Loss at 18: 1.014\n",
            "Loss at 19: 1.004\n",
            "Loss at 20: 0.994\n",
            "Loss at 21: 0.985\n",
            "Loss at 22: 0.976\n",
            "Loss at 23: 0.967\n",
            "Loss at 24: 0.958\n",
            "Loss at 25: 0.949\n",
            "Loss at 26: 0.941\n",
            "Loss at 27: 0.932\n",
            "Loss at 28: 0.924\n",
            "Loss at 29: 0.916\n",
            "Loss at 30: 0.908\n",
            "Loss at 31: 0.901\n",
            "Loss at 32: 0.893\n",
            "Loss at 33: 0.886\n",
            "Loss at 34: 0.878\n",
            "Loss at 35: 0.871\n",
            "Loss at 36: 0.864\n",
            "Loss at 37: 0.857\n",
            "Loss at 38: 0.850\n",
            "Loss at 39: 0.843\n",
            "Loss at 40: 0.837\n",
            "Loss at 41: 0.830\n",
            "Loss at 42: 0.824\n",
            "Loss at 43: 0.817\n",
            "Loss at 44: 0.811\n",
            "Loss at 45: 0.805\n",
            "Loss at 46: 0.799\n",
            "Loss at 47: 0.792\n",
            "Loss at 48: 0.787\n",
            "Loss at 49: 0.781\n"
          ]
        }
      ],
      "source": [
        "# Instantiate the `MLP` with the following structure:\n",
        "#     Linear with 50 units --> ReLU --> Linear with 50 units --> ReLU --> Linear with 3 units --> Sigmoid --> Softmax\n",
        "# Use GradientDescent as the optimizer, set the learning rate to 0.001, and use CELoss as the loss function.\n",
        "#############################\n",
        "# Your code goes here (4 points)\n",
        "\n",
        "layers = [\n",
        "    Linear(in_dim=x_train.shape[1], out_dim=50),  # Linear with 50 units\n",
        "    RelU(),                                       # ReLU\n",
        "    Linear(in_dim=50, out_dim=50),                # Linear with 50 units\n",
        "    RelU(),                                       # ReLU\n",
        "    Linear(in_dim=50, out_dim=3),                 # Linear with 3 units (for 3 classes)\n",
        "    Sigmoid(),                                    # Sigmoid\n",
        "    SoftMaxLayer()                                # Softmax\n",
        "]\n",
        "\n",
        "loss_fn = CELoss()\n",
        "optimizer = GradientDescent(lr=0.001)\n",
        "\n",
        "# MLP model\n",
        "nn = MLP(layers=layers, loss_fn=loss_fn, optimizer=optimizer)\n",
        "\n",
        "#############################\n",
        "\n",
        "epochs = 50\n",
        "\n",
        "# Train the network using only `x_train` and `y_train` (no validation)\n",
        "train(nn, epochs, x_train, y_train)"
      ]
    },
    {
      "cell_type": "markdown",
      "metadata": {
        "id": "uJec2xRJmY37"
      },
      "source": [
        "Let's plot the loss value for each iteration"
      ]
    },
    {
      "cell_type": "code",
      "execution_count": 87,
      "metadata": {
        "id": "ymaQNn70cdnZ",
        "colab": {
          "base_uri": "https://localhost:8080/",
          "height": 492
        },
        "outputId": "bdc4b9da-f528-4433-fd4b-1542152cc7be"
      },
      "outputs": [
        {
          "output_type": "display_data",
          "data": {
            "text/plain": [
              "<Figure size 640x480 with 1 Axes>"
            ],
            "image/png": "[encoded data removed]"
          },
          "metadata": {}
        }
      ],
      "source": [
        "plt.plot(nn.losses)\n",
        "plt.title(\"Training loss\")\n",
        "plt.xlabel(\"Iteration\")\n",
        "plt.ylabel(\"Loss\");"
      ]
    },
    {
      "cell_type": "markdown",
      "metadata": {
        "id": "dz3yqRa1cdna"
      },
      "source": [
        "**Let's also check our model's performance using the `accuracy` metric on the `testing` dataset**"
      ]
    },
    {
      "cell_type": "code",
      "execution_count": 88,
      "metadata": {
        "id": "TRqwXho7cdnd",
        "colab": {
          "base_uri": "https://localhost:8080/"
        },
        "outputId": "209446d5-517e-4269-f8ad-4458295cd9da"
      },
      "outputs": [
        {
          "output_type": "stream",
          "name": "stdout",
          "text": [
            "0.716252518468771\n"
          ]
        }
      ],
      "source": [
        "# Compute the accuracy on the testing set\n",
        "#############################\n",
        "# Your code goes here (7 points)\n",
        "\n",
        "def compute_accuracy(model, x_test, y_test):\n",
        "    pred_probs = model.forward(x_test)\n",
        "    pred_labels = np.argmax(pred_probs, axis=1)  # Predicted class labels\n",
        "    accuracy = np.mean(pred_labels == y_test)  # Percentage of correct predictions\n",
        "    return accuracy\n",
        "\n",
        "acc = compute_accuracy(nn, x_test, y_test)\n",
        "\n",
        "#############################\n",
        "\n",
        "print(acc)"
      ]
    }
  ],
  "metadata": {
    "colab": {
      "provenance": []
    },
    "gpuClass": "standard",
    "kernelspec": {
      "display_name": "Python 3",
      "language": "python",
      "name": "python3"
    },
    "language_info": {
      "codemirror_mode": {
        "name": "ipython",
        "version": 3
      },
      "file_extension": ".py",
      "mimetype": "text/x-python",
      "name": "python",
      "nbconvert_exporter": "python",
      "pygments_lexer": "ipython3",
      "version": "3.12.5"
    }
  },
  "nbformat": 4,
  "nbformat_minor": 0
}